{
 "cells": [
  {
   "cell_type": "markdown",
   "metadata": {},
   "source": [
    "**BACHATA 1**"
   ]
  },
  {
   "cell_type": "markdown",
   "metadata": {},
   "source": [
    "\n",
    "<audio src=\"me_voy_de_la_casa.mp3\" controls>Your browser does not support the audio element.</audio>\n",
    "[me_voy_de_la_casa.mp3](me_voy_de_la_casa.mp3)"
   ]
  },
  {
   "cell_type": "code",
   "execution_count": 512,
   "metadata": {},
   "outputs": [
    {
     "name": "stdout",
     "output_type": "stream",
     "text": [
      "Frecuencia de muestreo 44100.00[Hz]\n",
      "audio me_voy_de_la_casa.wav\n"
     ]
    }
   ],
   "source": [
    "import os\n",
    "%matplotlib inline\n",
    "import matplotlib as mpl\n",
    "import matplotlib.pyplot as plt\n",
    "import numpy as np\n",
    "\n",
    "Tmax = 5\n",
    "fs = 44100\n",
    "mmax=Tmax*fs\n",
    "\n",
    "nombre_in = \"me_voy_de_la_casa.mp3\"\n",
    "nombre_out = \"me_voy_de_la_casa.wav\"\n",
    "command_consola = \"ffmpeg -i \" + nombre_in +\" \"+ nombre_out\n",
    "os.system(command_consola)\n",
    "\n",
    "import soundfile as sf\n",
    "x1, fs1 = sf.read('me_voy_de_la_casa.wav')\n",
    "x1=x1[0:mmax,:] \n",
    "print('Frecuencia de muestreo %.2f[Hz]\\naudio %s' % (fs1,nombre_out))"
   ]
  },
  {
   "cell_type": "code",
   "execution_count": 513,
   "metadata": {},
   "outputs": [],
   "source": [
    "xpro1 = x1.copy() \n",
    "Xw1 = np.fft.rfft(xpro1,axis=0)\n",
    "vf1 = np.fft.rfftfreq(np.size(xpro1,0),1/fs1)\n",
    "xwm1 = (abs(Xw1[:,[0]]))\n",
    "xwmm1 = (abs(Xw1[:,[1]]))\n",
    "xwmt1 = np.transpose(xwm1)\n",
    "xwmy1 = np.transpose(xwmm1)\n"
   ]
  },
  {
   "cell_type": "markdown",
   "metadata": {},
   "source": [
    "\n",
    "\n",
    "<audio src=\"me_voy_de_la_casa.wav\" controls>Your browser does not support the audio element.</audio>\n",
    "[me_voy_de_la_casa.wav](me_voy_de_la_casa.wav)"
   ]
  },
  {
   "cell_type": "markdown",
   "metadata": {},
   "source": [
    "**BACHATA 2**"
   ]
  },
  {
   "cell_type": "markdown",
   "metadata": {},
   "source": [
    "<audio src=\"por_un_beso.mp3\" controls>Your browser does not support the audio element.</audio>\n",
    "[por_un_beso.mp3](por_un_beso.mp3)"
   ]
  },
  {
   "cell_type": "code",
   "execution_count": 514,
   "metadata": {},
   "outputs": [
    {
     "name": "stdout",
     "output_type": "stream",
     "text": [
      "Frecuencia de muestreo 44100.00[Hz]\n",
      "audio por_un_beso.wav\n"
     ]
    }
   ],
   "source": [
    "nombre_in = \"por_un_beso.mp3\"\n",
    "nombre_out = \"por_un_beso.wav\"\n",
    "command_consola = \"ffmpeg -i \" + nombre_in +\" \"+ nombre_out\n",
    "os.system(command_consola)\n",
    "\n",
    "import soundfile as sf \n",
    "x2, fs2 = sf.read('por_un_beso.wav')\n",
    "x2=x2[0:mmax,:]\n",
    "\n",
    "print('Frecuencia de muestreo %.2f[Hz]\\naudio %s' % (fs2,nombre_out))"
   ]
  },
  {
   "cell_type": "code",
   "execution_count": 515,
   "metadata": {},
   "outputs": [],
   "source": [
    "xpro2 = x2.copy() \n",
    "Xw2 = np.fft.rfft(xpro2,axis=0) \n",
    "vf2 = np.fft.rfftfreq(np.size(xpro2,0),1/fs2)\n",
    "xwm2 = (abs(Xw2[:,[0]]))\n",
    "xwmm2 = (abs(Xw2[:,[1]]))\n",
    "xwmt2 = np.transpose(xwm2)\n",
    "xwmy2 = np.transpose(xwmm2)"
   ]
  },
  {
   "cell_type": "markdown",
   "metadata": {},
   "source": [
    "\n",
    "\n",
    "<audio src=\"por_un_beso.wav\" controls>Your browser does not support the audio element.</audio>\n",
    "[por_un_beso.wav](por_un_beso.wav)"
   ]
  },
  {
   "cell_type": "markdown",
   "metadata": {},
   "source": [
    "**DESPECHO 1**\n"
   ]
  },
  {
   "cell_type": "markdown",
   "metadata": {},
   "source": [
    "Audio a procesar (el archivo debe estar en la carpeta directorio del cuaderno):\n",
    "\n",
    "<audio src=\"mi_renuncia.mp3\" controls>Your browser does not support the audio element.</audio>\n",
    "[mi_renuncia.mp3](mi_renuncia.mp3)"
   ]
  },
  {
   "cell_type": "code",
   "execution_count": 516,
   "metadata": {},
   "outputs": [
    {
     "name": "stdout",
     "output_type": "stream",
     "text": [
      "Frecuencia de muestreo 44100.00[Hz]\n",
      "audio mi_renuncia.wav\n"
     ]
    }
   ],
   "source": [
    "nombre_in = \"mi_renuncia.mp3\"\n",
    "nombre_out = \"mi_renuncia.wav\"\n",
    "command_consola = \"ffmpeg -i \" + nombre_in +\" \"+ nombre_out\n",
    "os.system(command_consola)\n",
    "\n",
    "import soundfile as sf \n",
    "x3, fs3 = sf.read('mi_renuncia.wav')\n",
    "x3=x3[0:mmax,:]\n",
    "print('Frecuencia de muestreo %.2f[Hz]\\naudio %s' % (fs3,nombre_out))"
   ]
  },
  {
   "cell_type": "code",
   "execution_count": 517,
   "metadata": {},
   "outputs": [],
   "source": [
    "xpro3 = x3.copy() \n",
    "Xw3 = np.fft.rfft(xpro3,axis=0) \n",
    "vf3 = np.fft.rfftfreq(np.size(xpro3,0),1/fs3)\n",
    "xwm3 = (abs(Xw3[:,[0]]))\n",
    "xwmm3 = (abs(Xw3[:,[1]]))\n",
    "xwmt3 = np.transpose(xwm3)\n",
    "xwmy3 = np.transpose(xwmm3)"
   ]
  },
  {
   "cell_type": "markdown",
   "metadata": {},
   "source": [
    "**DESPECHO 2**"
   ]
  },
  {
   "cell_type": "markdown",
   "metadata": {},
   "source": [
    "Audio a procesar (el archivo debe estar en la carpeta directorio del cuaderno):\n",
    "\n",
    "<audio src=\"dulce_pecado.mp3\" controls>Your browser does not support the audio element.</audio>\n",
    "[dulce_pecado.mp3](dulce_pecado.mp3)"
   ]
  },
  {
   "cell_type": "code",
   "execution_count": 518,
   "metadata": {},
   "outputs": [
    {
     "name": "stdout",
     "output_type": "stream",
     "text": [
      "Frecuencia de muestreo 44100.00[Hz]\n",
      "audio dulce_pecado.wav\n"
     ]
    }
   ],
   "source": [
    "nombre_in = \"dulce_pecado.mp3\"\n",
    "nombre_out = \"dulce_pecado.wav\"\n",
    "command_consola = \"ffmpeg -i \" + nombre_in +\" \"+ nombre_out\n",
    "os.system(command_consola)\n",
    "\n",
    "import soundfile as sf \n",
    "x4, fs4 = sf.read('dulce_pecado.wav')\n",
    "x4=x4[0:mmax,:]\n",
    "print('Frecuencia de muestreo %.2f[Hz]\\naudio %s' % (fs4,nombre_out))"
   ]
  },
  {
   "cell_type": "code",
   "execution_count": 519,
   "metadata": {},
   "outputs": [],
   "source": [
    "xpro4 = x4.copy() \n",
    "Xw4 = np.fft.rfft(xpro4,axis=0) \n",
    "vf4 = np.fft.rfftfreq(np.size(xpro4,0),1/fs4)\n",
    "xwm4 = (abs(Xw4[:,[0]]))\n",
    "xwmm4 = (abs(Xw4[:,[1]]))\n",
    "xwmt4 = np.transpose(xwm4)\n",
    "xwmy4 = np.transpose(xwmm4)\n"
   ]
  },
  {
   "cell_type": "markdown",
   "metadata": {},
   "source": [
    "\n",
    "<audio src=\"dulce_pecado.wav\" controls>Your browser does not support the audio element.</audio>\n",
    "[dulce_pecado.wav](dulce_pecado.wav)"
   ]
  },
  {
   "cell_type": "markdown",
   "metadata": {},
   "source": [
    "**REGGAE 1**"
   ]
  },
  {
   "cell_type": "markdown",
   "metadata": {},
   "source": [
    "Audio a procesar (el archivo debe estar en la carpeta directorio del cuaderno):\n",
    "\n",
    "<audio src=\"is_this_love.mp3\" controls>Your browser does not support the audio element.</audio>\n",
    "[is_this_love.mp3](is_this_love.mp3)"
   ]
  },
  {
   "cell_type": "code",
   "execution_count": 520,
   "metadata": {},
   "outputs": [
    {
     "name": "stdout",
     "output_type": "stream",
     "text": [
      "Frecuencia de muestreo 44100.00[Hz]\n",
      "audio is_this_love.wav\n"
     ]
    }
   ],
   "source": [
    "nombre_in = \"is_this_love.mp3\"\n",
    "nombre_out = \"is_this_love.wav\"\n",
    "command_consola = \"ffmpeg -i \" + nombre_in +\" \"+ nombre_out\n",
    "os.system(command_consola)\n",
    "\n",
    "import soundfile as sf \n",
    "x5, fs5 = sf.read('is_this_love.wav')\n",
    "x5=x5[0:mmax,:]\n",
    "print('Frecuencia de muestreo %.2f[Hz]\\naudio %s' % (fs5,nombre_out))"
   ]
  },
  {
   "cell_type": "code",
   "execution_count": 521,
   "metadata": {},
   "outputs": [],
   "source": [
    "xpro5 = x5.copy() \n",
    "Xw5 = np.fft.rfft(xpro5,axis=0) \n",
    "vf5 = np.fft.rfftfreq(np.size(xpro5,0),1/fs5)\n",
    "xwm5 = (abs(Xw5[:,[0]]))\n",
    "xwmm5 = (abs(Xw5[:,[1]]))\n",
    "xwmt5 = np.transpose(xwm5)\n",
    "xwmy5 = np.transpose(xwmm5)"
   ]
  },
  {
   "cell_type": "markdown",
   "metadata": {},
   "source": [
    "\n",
    "<audio src=\"is_this_love.wav\" controls>Your browser does not support the audio element.</audio>\n",
    "[is_this_love.wav](is_this_love.wav)"
   ]
  },
  {
   "cell_type": "markdown",
   "metadata": {},
   "source": [
    "**REGGAE 2**"
   ]
  },
  {
   "cell_type": "markdown",
   "metadata": {},
   "source": [
    "Audio a procesar (el archivo debe estar en la carpeta directorio del cuaderno):\n",
    "\n",
    "<audio src=\"could_you_be_loved.mp3\" controls>Your browser does not support the audio element.</audio>\n",
    "[could_you_be_loved.mp3](could_you_be_loved.mp3)"
   ]
  },
  {
   "cell_type": "code",
   "execution_count": 522,
   "metadata": {},
   "outputs": [
    {
     "name": "stdout",
     "output_type": "stream",
     "text": [
      "Frecuencia de muestreo 44100.00[Hz]\n",
      "audio could_you_be_loved.wav\n"
     ]
    }
   ],
   "source": [
    "nombre_in = \"could_you_be_loved.mp3\"\n",
    "nombre_out = \"could_you_be_loved.wav\"\n",
    "command_consola = \"ffmpeg -i \" + nombre_in +\" \"+ nombre_out\n",
    "os.system(command_consola)\n",
    "\n",
    "import soundfile as sf \n",
    "x6, fs6 = sf.read('could_you_be_loved.wav')\n",
    "x6=x6[0:mmax,:]\n",
    "print('Frecuencia de muestreo %.2f[Hz]\\naudio %s' % (fs6,nombre_out))"
   ]
  },
  {
   "cell_type": "code",
   "execution_count": 523,
   "metadata": {},
   "outputs": [],
   "source": [
    "xpro6 = x6.copy() \n",
    "Xw6 = np.fft.rfft(xpro6,axis=0) \n",
    "vf6 = np.fft.rfftfreq(np.size(xpro6,0),1/fs6)\n",
    "xwm6 = (abs(Xw6[:,[0]]))\n",
    "xwmt6 = np.transpose(xwm6)\n",
    "xwmm6 = (abs(Xw6[:,[1]]))\n",
    "xwmy6 = np.transpose(xwmm6)"
   ]
  },
  {
   "cell_type": "markdown",
   "metadata": {},
   "source": [
    "<audio src=\"could_you_be_loved.wav\" controls>Your browser does not support the audio element.</audio>\n",
    "[could_you_be_loved.wav](could_you_be_loved.wav)"
   ]
  },
  {
   "cell_type": "markdown",
   "metadata": {},
   "source": [
    "**SALSA 1**\n"
   ]
  },
  {
   "cell_type": "markdown",
   "metadata": {},
   "source": [
    "Audio a procesar (el archivo debe estar en la carpeta directorio del cuaderno):\n",
    "\n",
    "<audio src=\"como_podre_disimular.mp3\" controls>Your browser does not support the audio element.</audio>\n",
    "[como_podre_disimular.mp3](como_podre_disimular.mp3)"
   ]
  },
  {
   "cell_type": "code",
   "execution_count": 524,
   "metadata": {},
   "outputs": [
    {
     "name": "stdout",
     "output_type": "stream",
     "text": [
      "Frecuencia de muestreo 44100.00[Hz]\n",
      "audio como_podre_disimular.wav\n"
     ]
    }
   ],
   "source": [
    "nombre_in = \"como_podre_disimular.mp3\"\n",
    "nombre_out = \"como_podre_disimular.wav\"\n",
    "command_consola = \"ffmpeg -i \" + nombre_in +\" \"+ nombre_out\n",
    "os.system(command_consola)\n",
    "\n",
    "import soundfile as sf \n",
    "x7, fs7 = sf.read('como_podre_disimular.wav')\n",
    "x7=x7[0:mmax,:]\n",
    "print('Frecuencia de muestreo %.2f[Hz]\\naudio %s' % (fs7,nombre_out))"
   ]
  },
  {
   "cell_type": "code",
   "execution_count": 525,
   "metadata": {},
   "outputs": [],
   "source": [
    "xpro7 = x7.copy() \n",
    "Xw7 = np.fft.rfft(xpro7,axis=0) \n",
    "vf7 = np.fft.rfftfreq(np.size(xpro7,0),1/fs7)\n",
    "xwm7 = (abs(Xw7[:,[0]]))\n",
    "xwmt7 = np.transpose(xwm7)\n",
    "xwmm7 = (abs(Xw7[:,[1]]))\n",
    "xwmy7 = np.transpose(xwmm7)"
   ]
  },
  {
   "cell_type": "markdown",
   "metadata": {},
   "source": [
    "<audio src=\"como_podre_disimular.wav\" controls>Your browser does not support the audio element.</audio>\n",
    "[como_podre_disimular.wav](como_podre_disimular.wav)"
   ]
  },
  {
   "cell_type": "markdown",
   "metadata": {},
   "source": [
    "**SALSA 2**"
   ]
  },
  {
   "cell_type": "markdown",
   "metadata": {},
   "source": [
    "Audio a procesar (el archivo debe estar en la carpeta directorio del cuaderno):\n",
    "\n",
    "<audio src=\"amor_a_medio_tiempo.mp3\" controls>Your browser does not support the audio element.</audio>\n",
    "[amor_a_medio_tiempo.mp3](amor_a_medio_tiempo.mp3)"
   ]
  },
  {
   "cell_type": "code",
   "execution_count": 526,
   "metadata": {},
   "outputs": [
    {
     "name": "stdout",
     "output_type": "stream",
     "text": [
      "Frecuencia de muestreo 44100.00[Hz]\n",
      "audio amor_a_medio_tiempo.wav\n"
     ]
    }
   ],
   "source": [
    "nombre_in = \"amor_a_medio_tiempo.mp3\"\n",
    "nombre_out = \"amor_a_medio_tiempo.wav\"\n",
    "command_consola = \"ffmpeg -i \" + nombre_in +\" \"+ nombre_out\n",
    "os.system(command_consola)\n",
    "\n",
    "import soundfile as sf \n",
    "x8, fs8 = sf.read('amor_a_medio_tiempo.wav')\n",
    "x8=x8[0:mmax,:]\n",
    "print('Frecuencia de muestreo %.2f[Hz]\\naudio %s' % (fs8,nombre_out))"
   ]
  },
  {
   "cell_type": "code",
   "execution_count": 527,
   "metadata": {},
   "outputs": [],
   "source": [
    "xpro8 = x8.copy() \n",
    "Xw8 = np.fft.rfft(xpro8,axis=0) \n",
    "vf8 = np.fft.rfftfreq(np.size(xpro8,0),1/fs8)\n",
    "xwm8 = (abs(Xw8[:,[0]]))\n",
    "xwmt8 = np.transpose(xwm8)\n",
    "xwmm8 = (abs(Xw8[:,[1]]))\n",
    "xwmy8 = np.transpose(xwmm8)"
   ]
  },
  {
   "cell_type": "markdown",
   "metadata": {},
   "source": [
    "<audio src=\"amor_a_medio_tiempo.wav\" controls>Your browser does not support the audio element.</audio>\n",
    "[amor_a_medio_tiempo.wav](amor_a_medio_tiempo.wav)"
   ]
  },
  {
   "cell_type": "markdown",
   "metadata": {},
   "source": [
    "**ROCK 1**"
   ]
  },
  {
   "cell_type": "markdown",
   "metadata": {},
   "source": [
    "Audio a procesar (el archivo debe estar en la carpeta directorio del cuaderno):\n",
    "\n",
    "<audio src=\"november_rain.mp3\" controls>Your browser does not support the audio element.</audio>\n",
    "[november_rain.mp3](november_rain.mp3)"
   ]
  },
  {
   "cell_type": "code",
   "execution_count": 528,
   "metadata": {},
   "outputs": [
    {
     "name": "stdout",
     "output_type": "stream",
     "text": [
      "Frecuencia de muestreo 44100.00[Hz]\n",
      "audio november_rain.wav\n"
     ]
    }
   ],
   "source": [
    "nombre_in = \"november_rain.mp3\"\n",
    "nombre_out = \"november_rain.wav\"\n",
    "command_consola = \"ffmpeg -i \" + nombre_in +\" \"+ nombre_out\n",
    "os.system(command_consola)\n",
    "\n",
    "import soundfile as sf \n",
    "x9, fs9 = sf.read('november_rain.wav')\n",
    "x9=x9[0:mmax,:]\n",
    "print('Frecuencia de muestreo %.2f[Hz]\\naudio %s' % (fs9,nombre_out))"
   ]
  },
  {
   "cell_type": "code",
   "execution_count": 529,
   "metadata": {},
   "outputs": [],
   "source": [
    "xpro9 = x9.copy() \n",
    "Xw9 = np.fft.rfft(xpro9,axis=0) \n",
    "vf9 = np.fft.rfftfreq(np.size(xpro9,0),1/fs9)\n",
    "xwm9 = (abs(Xw9[:,[0]]))\n",
    "xwmt9 = np.transpose(xwm9)\n",
    "xwmm9 = (abs(Xw9[:,[1]]))\n",
    "xwmy9 = np.transpose(xwmm9)"
   ]
  },
  {
   "cell_type": "markdown",
   "metadata": {},
   "source": [
    "<audio src=\"november_rain.wav\" controls>Your browser does not support the audio element.</audio>\n",
    "[november_rain.wav](november_rain.wav)"
   ]
  },
  {
   "cell_type": "markdown",
   "metadata": {},
   "source": [
    "**ROCK 2**"
   ]
  },
  {
   "cell_type": "markdown",
   "metadata": {},
   "source": [
    "Audio a procesar (el archivo debe estar en la carpeta directorio del cuaderno):\n",
    "\n",
    "<audio src=\"hotel_california.mp3\" controls>Your browser does not support the audio element.</audio>\n",
    "[hotel_california.mp3](hotel_california.mp3)"
   ]
  },
  {
   "cell_type": "code",
   "execution_count": 530,
   "metadata": {},
   "outputs": [
    {
     "name": "stdout",
     "output_type": "stream",
     "text": [
      "Frecuencia de muestreo 44100.00[Hz]\n",
      "audio hotel_california.wav\n"
     ]
    }
   ],
   "source": [
    "nombre_in = \"hotel_california.mp3\"\n",
    "nombre_out = \"hotel_california.wav\"\n",
    "command_consola = \"ffmpeg -i \" + nombre_in +\" \"+ nombre_out\n",
    "os.system(command_consola)\n",
    "\n",
    "import soundfile as sf \n",
    "x10, fs10 = sf.read('hotel_california.wav')\n",
    "x10=x10[0:mmax,:]\n",
    "print('Frecuencia de muestreo %.2f[Hz]\\naudio %s' % (fs10,nombre_out))"
   ]
  },
  {
   "cell_type": "code",
   "execution_count": 531,
   "metadata": {},
   "outputs": [],
   "source": [
    "xpro10 = x10.copy() \n",
    "Xw10 = np.fft.rfft(xpro10,axis=0) \n",
    "vf10 = np.fft.rfftfreq(np.size(xpro10,0),1/fs10)\n",
    "xwm10 = (abs(Xw10[:,[0]]))\n",
    "xwmt10 = np.transpose(xwm10)\n",
    "xwmm10 = (abs(Xw10[:,[1]]))\n",
    "xwmy10 = np.transpose(xwmm10)\n"
   ]
  },
  {
   "cell_type": "markdown",
   "metadata": {},
   "source": [
    "<audio src=\"hotel_california.wav\" controls>Your browser does not support the audio element.</audio>\n",
    "[hotel_california.wav](hotel_california.wav)"
   ]
  },
  {
   "cell_type": "markdown",
   "metadata": {},
   "source": [
    "**VALLENATO 1**"
   ]
  },
  {
   "cell_type": "markdown",
   "metadata": {},
   "source": [
    "Audio a procesar (el archivo debe estar en la carpeta directorio del cuaderno):\n",
    "\n",
    "<audio src=\"dile.mp3\" controls>Your browser does not support the audio element.</audio>\n",
    "[dile.mp3](dile.mp3)"
   ]
  },
  {
   "cell_type": "code",
   "execution_count": 532,
   "metadata": {},
   "outputs": [
    {
     "name": "stdout",
     "output_type": "stream",
     "text": [
      "Frecuencia de muestreo 44100.00[Hz]\n",
      "audio dile.wav\n"
     ]
    }
   ],
   "source": [
    "nombre_in = \"dile.mp3\"\n",
    "nombre_out = \"dile.wav\"\n",
    "command_consola = \"ffmpeg -i \" + nombre_in +\" \"+ nombre_out\n",
    "os.system(command_consola)\n",
    "\n",
    "import soundfile as sf \n",
    "x11, fs11 = sf.read('dile.wav')\n",
    "x11=x11[0:mmax,:]\n",
    "print('Frecuencia de muestreo %.2f[Hz]\\naudio %s' % (fs11,nombre_out))\n"
   ]
  },
  {
   "cell_type": "code",
   "execution_count": 533,
   "metadata": {},
   "outputs": [],
   "source": [
    "xpro11 = x11.copy() \n",
    "Xw11 = np.fft.rfft(xpro11,axis=0) \n",
    "vf11 = np.fft.rfftfreq(np.size(xpro11,0),1/fs11)\n",
    "xwm11 = (abs(Xw11[:,[0]]))\n",
    "xwmt11 = np.transpose(xwm11)\n",
    "xwmm11 = (abs(Xw11[:,[1]]))\n",
    "xwmy11 = np.transpose(xwmm11)"
   ]
  },
  {
   "cell_type": "markdown",
   "metadata": {},
   "source": [
    "<audio src=\"dile.wav\" controls>Your browser does not support the audio element.</audio>\n",
    "[dile.wav](dile.wav)"
   ]
  },
  {
   "cell_type": "markdown",
   "metadata": {},
   "source": [
    "**VALLENATO 2**"
   ]
  },
  {
   "cell_type": "markdown",
   "metadata": {},
   "source": [
    "Audio a procesar (el archivo debe estar en la carpeta directorio del cuaderno):\n",
    "\n",
    "<audio src=\"como_lo_hizo.mp3\" controls>Your browser does not support the audio element.</audio>\n",
    "[como_lo_hizo.mp3](como_lo_hizo.mp3)"
   ]
  },
  {
   "cell_type": "code",
   "execution_count": 534,
   "metadata": {},
   "outputs": [
    {
     "name": "stdout",
     "output_type": "stream",
     "text": [
      "Frecuencia de muestreo 44100.00[Hz]\n",
      "audio como_lo_hizo.wav\n"
     ]
    }
   ],
   "source": [
    "nombre_in = \"como_lo_hizo.mp3\"\n",
    "nombre_out = \"como_lo_hizo.wav\"\n",
    "command_consola = \"ffmpeg -i \" + nombre_in +\" \"+ nombre_out\n",
    "os.system(command_consola)\n",
    "\n",
    "import soundfile as sf \n",
    "x12, fs12 = sf.read('como_lo_hizo.wav')\n",
    "x12=x12[0:mmax,:]\n",
    "print('Frecuencia de muestreo %.2f[Hz]\\naudio %s' % (fs12,nombre_out))\n"
   ]
  },
  {
   "cell_type": "code",
   "execution_count": 535,
   "metadata": {},
   "outputs": [],
   "source": [
    "xpro12 = x12.copy() \n",
    "Xw12 = np.fft.rfft(xpro12,axis=0) \n",
    "vf12 = np.fft.rfftfreq(np.size(xpro12,0),1/fs12)\n",
    "xwm12 = (abs(Xw12[:,[0]]))\n",
    "xwmt12 = np.transpose(xwm12)\n",
    "xwmm12 = (abs(Xw12[:,[1]]))\n",
    "xwmy12 = np.transpose(xwmm12)"
   ]
  },
  {
   "cell_type": "markdown",
   "metadata": {},
   "source": [
    "<audio src=\"como_lo_hizo.wav\" controls>Your browser does not support the audio element.</audio>\n",
    "[como_lo_hizo.wav](como_lo_hizo.wav)"
   ]
  },
  {
   "cell_type": "markdown",
   "metadata": {},
   "source": [
    "**REGGAETON 1**"
   ]
  },
  {
   "cell_type": "markdown",
   "metadata": {},
   "source": [
    "Audio a procesar (el archivo debe estar en la carpeta directorio del cuaderno):\n",
    "\n",
    "<audio src=\"x.mp3\" controls>Your browser does not support the audio element.</audio>\n",
    "[x.mp3](x.mp3)"
   ]
  },
  {
   "cell_type": "code",
   "execution_count": 536,
   "metadata": {},
   "outputs": [
    {
     "name": "stdout",
     "output_type": "stream",
     "text": [
      "Frecuencia de muestreo 44100.00[Hz]\n",
      "audio x.wav\n"
     ]
    }
   ],
   "source": [
    "nombre_in = \"x.mp3\"\n",
    "nombre_out = \"x.wav\"\n",
    "command_consola = \"ffmpeg -i \" + nombre_in +\" \"+ nombre_out\n",
    "os.system(command_consola)\n",
    "\n",
    "import soundfile as sf \n",
    "x13, fs13 = sf.read('x.wav')\n",
    "x13=x13[0:mmax,:]\n",
    "print('Frecuencia de muestreo %.2f[Hz]\\naudio %s' % (fs13,nombre_out))\n"
   ]
  },
  {
   "cell_type": "code",
   "execution_count": 537,
   "metadata": {},
   "outputs": [],
   "source": [
    "xpro13 = x13.copy() \n",
    "Xw13 = np.fft.rfft(xpro13,axis=0) \n",
    "vf13 = np.fft.rfftfreq(np.size(xpro13,0),1/fs13)\n",
    "xwm13 = (abs(Xw13[:,[0]]))\n",
    "xwmt13 = np.transpose(xwm13)\n",
    "xwmm13 = (abs(Xw13[:,[1]]))\n",
    "xwmy13 = np.transpose(xwmm13)"
   ]
  },
  {
   "cell_type": "markdown",
   "metadata": {},
   "source": [
    "<audio src=\"x.wav\" controls>Your browser does not support the audio element.</audio>\n",
    "[x.wav](x.wav)"
   ]
  },
  {
   "cell_type": "markdown",
   "metadata": {},
   "source": [
    "**REGGAETON 2**"
   ]
  },
  {
   "cell_type": "markdown",
   "metadata": {},
   "source": [
    "Audio a procesar (el archivo debe estar en la carpeta directorio del cuaderno):\n",
    "\n",
    "<audio src=\"mocca.mp3\" controls>Your browser does not support the audio element.</audio>\n",
    "[mocca.mp3](mocca.mp3)"
   ]
  },
  {
   "cell_type": "code",
   "execution_count": 538,
   "metadata": {},
   "outputs": [
    {
     "name": "stdout",
     "output_type": "stream",
     "text": [
      "Frecuencia de muestreo 44100.00[Hz]\n",
      "audio mocca.wav\n"
     ]
    }
   ],
   "source": [
    "nombre_in = \"mocca.mp3\"\n",
    "nombre_out = \"mocca.wav\"\n",
    "command_consola = \"ffmpeg -i \" + nombre_in +\" \"+ nombre_out\n",
    "os.system(command_consola)\n",
    "\n",
    "import soundfile as sf \n",
    "x14, fs14 = sf.read('mocca.wav')\n",
    "x14=x14[0:mmax,:]\n",
    "print('Frecuencia de muestreo %.2f[Hz]\\naudio %s' % (fs14,nombre_out))\n"
   ]
  },
  {
   "cell_type": "code",
   "execution_count": 539,
   "metadata": {},
   "outputs": [],
   "source": [
    "xpro14 = x14.copy() \n",
    "Xw14 = np.fft.rfft(xpro14,axis=0) \n",
    "vf14 = np.fft.rfftfreq(np.size(xpro14,0),1/fs14)\n",
    "xwm14 = (abs(Xw14[:,[0]]))\n",
    "xwmt14 = np.transpose(xwm14)\n",
    "xwmm14 = (abs(Xw14[:,[1]]))\n",
    "xwmy14 = np.transpose(xwmm14)"
   ]
  },
  {
   "cell_type": "markdown",
   "metadata": {},
   "source": [
    "<audio src=\"mocca.wav\" controls>Your browser does not support the audio element.</audio>\n",
    "[mocca.wav](mocca.wav)"
   ]
  },
  {
   "cell_type": "markdown",
   "metadata": {},
   "source": [
    "**POP 1**"
   ]
  },
  {
   "cell_type": "markdown",
   "metadata": {},
   "source": [
    "Audio a procesar (el archivo debe estar en la carpeta directorio del cuaderno):\n",
    "\n",
    "<audio src=\"low.mp3\" controls>Your browser does not support the audio element.</audio>\n",
    "[low.mp3](low.mp3)"
   ]
  },
  {
   "cell_type": "code",
   "execution_count": 540,
   "metadata": {},
   "outputs": [
    {
     "name": "stdout",
     "output_type": "stream",
     "text": [
      "Frecuencia de muestreo 44100.00[Hz]\n",
      "audio low.wav\n"
     ]
    }
   ],
   "source": [
    "nombre_in = \"low.mp3\"\n",
    "nombre_out = \"low.wav\"\n",
    "command_consola = \"ffmpeg -i \" + nombre_in +\" \"+ nombre_out\n",
    "os.system(command_consola)\n",
    "\n",
    "import soundfile as sf \n",
    "x15, fs15 = sf.read('low.wav')\n",
    "x15=x15[0:mmax,:]\n",
    "print('Frecuencia de muestreo %.2f[Hz]\\naudio %s' % (fs15,nombre_out))"
   ]
  },
  {
   "cell_type": "code",
   "execution_count": 541,
   "metadata": {},
   "outputs": [],
   "source": [
    "xpro15 = x15.copy() \n",
    "Xw15 = np.fft.rfft(xpro15,axis=0) \n",
    "vf15 = np.fft.rfftfreq(np.size(xpro15,0),1/fs15)\n",
    "xwm15 = (abs(Xw15[:,[0]]))\n",
    "xwmt15 = np.transpose(xwm15)\n",
    "xwmm15 = (abs(Xw15[:,[1]]))\n",
    "xwmy15 = np.transpose(xwmm15)"
   ]
  },
  {
   "cell_type": "markdown",
   "metadata": {},
   "source": [
    "<audio src=\"low.wav\" controls>Your browser does not support the audio element.</audio>\n",
    "[low.wav](low.wav)"
   ]
  },
  {
   "cell_type": "markdown",
   "metadata": {},
   "source": [
    "**POP 2**"
   ]
  },
  {
   "cell_type": "markdown",
   "metadata": {},
   "source": [
    "Audio a procesar (el archivo debe estar en la carpeta directorio del cuaderno):\n",
    "\n",
    "<audio src=\"feel_good.mp3\" controls>Your browser does not support the audio element.</audio>\n",
    "[feel_good.mp3](feel_good.mp3)"
   ]
  },
  {
   "cell_type": "code",
   "execution_count": 542,
   "metadata": {},
   "outputs": [
    {
     "name": "stdout",
     "output_type": "stream",
     "text": [
      "Frecuencia de muestreo 44100.00[Hz]\n",
      "audio feel_good.wav\n"
     ]
    }
   ],
   "source": [
    "nombre_in = \"feel_good.mp3\"\n",
    "nombre_out = \"feel_good.wav\"\n",
    "command_consola = \"ffmpeg -i \" + nombre_in +\" \"+ nombre_out\n",
    "os.system(command_consola)\n",
    "\n",
    "import soundfile as sf \n",
    "x16, fs16 = sf.read('feel_good.wav')\n",
    "x16=x16[0:mmax,:]\n",
    "print('Frecuencia de muestreo %.2f[Hz]\\naudio %s' % (fs16,nombre_out))"
   ]
  },
  {
   "cell_type": "code",
   "execution_count": 543,
   "metadata": {},
   "outputs": [],
   "source": [
    "xpro16 = x16.copy() \n",
    "Xw16 = np.fft.rfft(xpro16,axis=0) \n",
    "vf16 = np.fft.rfftfreq(np.size(xpro16,0),1/fs16)\n",
    "xwm16 = (abs(Xw16[:,[0]]))\n",
    "xwmt16 = np.transpose(xwm16)\n",
    "xwmm16 = (abs(Xw16[:,[1]]))\n",
    "xwmy16 = np.transpose(xwmm16)"
   ]
  },
  {
   "cell_type": "markdown",
   "metadata": {},
   "source": [
    "<audio src=\"feel_good.wav\" controls>Your browser does not support the audio element.</audio>\n",
    "[feel_good.wav](feel_good.wav)"
   ]
  },
  {
   "cell_type": "markdown",
   "metadata": {},
   "source": [
    "**PLANCHA 1**"
   ]
  },
  {
   "cell_type": "markdown",
   "metadata": {},
   "source": [
    "Audio a procesar (el archivo debe estar en la carpeta directorio del cuaderno):\n",
    "\n",
    "<audio src=\"mar_y_arena.mp3\" controls>Your browser does not support the audio element.</audio>\n",
    "[mar_y_arena.mp3](mar_y_arena.mp3)"
   ]
  },
  {
   "cell_type": "code",
   "execution_count": 544,
   "metadata": {},
   "outputs": [
    {
     "name": "stdout",
     "output_type": "stream",
     "text": [
      "Frecuencia de muestreo 44100.00[Hz]\n",
      "audio mar_y_arena.wav\n"
     ]
    }
   ],
   "source": [
    "nombre_in = \"mar_y_arena.mp3\"\n",
    "nombre_out = \"mar_y_arena.wav\"\n",
    "command_consola = \"ffmpeg -i \" + nombre_in +\" \"+ nombre_out\n",
    "os.system(command_consola)\n",
    "\n",
    "import soundfile as sf \n",
    "x17, fs17 = sf.read('mar_y_arena.wav')\n",
    "x17=x17[0:mmax,:]\n",
    "print('Frecuencia de muestreo %.2f[Hz]\\naudio %s' % (fs17,nombre_out))"
   ]
  },
  {
   "cell_type": "code",
   "execution_count": 545,
   "metadata": {},
   "outputs": [],
   "source": [
    "xpro17 = x17.copy() \n",
    "Xw17 = np.fft.rfft(xpro17,axis=0) \n",
    "vf17 = np.fft.rfftfreq(np.size(xpro17,0),1/fs17)\n",
    "xwm17 = (abs(Xw17[:,[0]]))\n",
    "xwmt17 = np.transpose(xwm17)\n",
    "xwmm17 = (abs(Xw17[:,[1]]))\n",
    "xwmy17 = np.transpose(xwmm17)"
   ]
  },
  {
   "cell_type": "markdown",
   "metadata": {},
   "source": [
    "<audio src=\"mar_y_arena.wav\" controls>Your browser does not support the audio element.</audio>\n",
    "[mar_y_arena.wav](mar_y_arena.wav)"
   ]
  },
  {
   "cell_type": "markdown",
   "metadata": {},
   "source": [
    "**PLANCHA 2**"
   ]
  },
  {
   "cell_type": "markdown",
   "metadata": {},
   "source": [
    "Audio a procesar (el archivo debe estar en la carpeta directorio del cuaderno):\n",
    "\n",
    "<audio src=\"memorias.mp3\" controls>Your browser does not support the audio element.</audio>\n",
    "[memorias.mp3](memorias.mp3)"
   ]
  },
  {
   "cell_type": "code",
   "execution_count": 546,
   "metadata": {},
   "outputs": [
    {
     "name": "stdout",
     "output_type": "stream",
     "text": [
      "Frecuencia de muestreo 44100.00[Hz]\n",
      "audio memorias.wav\n"
     ]
    }
   ],
   "source": [
    "nombre_in = \"memorias.mp3\"\n",
    "nombre_out = \"memorias.wav\"\n",
    "command_consola = \"ffmpeg -i \" + nombre_in +\" \"+ nombre_out\n",
    "os.system(command_consola)\n",
    "\n",
    "import soundfile as sf \n",
    "x18, fs18 = sf.read('memorias.wav')\n",
    "x18=x18[0:mmax,:]\n",
    "print('Frecuencia de muestreo %.2f[Hz]\\naudio %s' % (fs18,nombre_out))"
   ]
  },
  {
   "cell_type": "code",
   "execution_count": 547,
   "metadata": {},
   "outputs": [],
   "source": [
    "xpro18 = x18.copy() \n",
    "Xw18 = np.fft.rfft(xpro18,axis=0) \n",
    "vf18 = np.fft.rfftfreq(np.size(xpro18,0),1/fs18)\n",
    "xwm18 = (abs(Xw18[:,[0]]))\n",
    "xwmt18 = np.transpose(xwm18)\n",
    "xwmm18 = (abs(Xw18[:,[1]]))\n",
    "xwmy18 = np.transpose(xwmm18)"
   ]
  },
  {
   "cell_type": "markdown",
   "metadata": {},
   "source": [
    "<audio src=\"memorias.wav\" controls>Your browser does not support the audio element.</audio>\n",
    "[memorias.wav](memorias.wav)"
   ]
  },
  {
   "cell_type": "markdown",
   "metadata": {},
   "source": [
    "**HEAVY METAL 1**"
   ]
  },
  {
   "cell_type": "markdown",
   "metadata": {},
   "source": [
    "Audio a procesar (el archivo debe estar en la carpeta directorio del cuaderno):\n",
    "\n",
    "<audio src=\"children_of_the_grave.mp3\" controls>Your browser does not support the audio element.</audio>\n",
    "[children_of_the_grave.mp3](children_of_the_grave.mp3)"
   ]
  },
  {
   "cell_type": "code",
   "execution_count": 548,
   "metadata": {},
   "outputs": [
    {
     "name": "stdout",
     "output_type": "stream",
     "text": [
      "Frecuencia de muestreo 44100.00[Hz]\n",
      "audio children_of_the_grave.wav\n"
     ]
    }
   ],
   "source": [
    "nombre_in = \"children_of_the_grave.mp3\"\n",
    "nombre_out = \"children_of_the_grave.wav\"\n",
    "command_consola = \"ffmpeg -i \" + nombre_in +\" \"+ nombre_out\n",
    "os.system(command_consola)\n",
    "\n",
    "import soundfile as sf \n",
    "x19, fs19 = sf.read('children_of_the_grave.wav')\n",
    "x19=x19[0:mmax,:]\n",
    "print('Frecuencia de muestreo %.2f[Hz]\\naudio %s' % (fs19,nombre_out))"
   ]
  },
  {
   "cell_type": "code",
   "execution_count": 549,
   "metadata": {},
   "outputs": [],
   "source": [
    "xpro19 = x19.copy() \n",
    "Xw19 = np.fft.rfft(xpro19,axis=0) \n",
    "vf19 = np.fft.rfftfreq(np.size(xpro19,0),1/fs19)\n",
    "xwm19 = (abs(Xw19[:,[0]]))\n",
    "xwmt19 = np.transpose(xwm19)\n",
    "xwmm19 = (abs(Xw19[:,[1]]))\n",
    "xwmy19 = np.transpose(xwmm19)"
   ]
  },
  {
   "cell_type": "markdown",
   "metadata": {},
   "source": [
    "<audio src=\"children_of_the_grave.wav\" controls>Your browser does not support the audio element.</audio>\n",
    "[children_of_the_grave.wav](children_of_the_grave.wav)"
   ]
  },
  {
   "cell_type": "markdown",
   "metadata": {},
   "source": [
    "**HEAVY METAL 2**"
   ]
  },
  {
   "cell_type": "markdown",
   "metadata": {},
   "source": [
    "Audio a procesar (el archivo debe estar en la carpeta directorio del cuaderno):\n",
    "\n",
    "<audio src=\"a_corpse_without_soul.mp3\" controls>Your browser does not support the audio element.</audio>\n",
    "[a_corpse_without_soul.mp3](a_corpse_without_soul.mp3)"
   ]
  },
  {
   "cell_type": "code",
   "execution_count": 550,
   "metadata": {},
   "outputs": [
    {
     "name": "stdout",
     "output_type": "stream",
     "text": [
      "Frecuencia de muestreo 44100.00[Hz]\n",
      "audio a_corpse_without_soul.wav\n"
     ]
    }
   ],
   "source": [
    "nombre_in = \"a_corpse_without_soul.mp3\"\n",
    "nombre_out = \"a_corpse_without_soul.wav\"\n",
    "command_consola = \"ffmpeg -i \" + nombre_in +\" \"+ nombre_out\n",
    "os.system(command_consola)\n",
    "\n",
    "import soundfile as sf \n",
    "x20, fs20 = sf.read('a_corpse_without_soul.wav')\n",
    "x20=x20[0:mmax,:]\n",
    "print('Frecuencia de muestreo %.2f[Hz]\\naudio %s' % (fs20,nombre_out))"
   ]
  },
  {
   "cell_type": "code",
   "execution_count": 551,
   "metadata": {},
   "outputs": [],
   "source": [
    "xpro20 = x20.copy() \n",
    "Xw20 = np.fft.rfft(xpro20,axis=0) \n",
    "vf20 = np.fft.rfftfreq(np.size(xpro20,0),1/fs20)\n",
    "xwm20 = (abs(Xw20[:,[0]]))\n",
    "xwmt20 = np.transpose(xwm20)\n",
    "xwmm20 = (abs(Xw20[:,[1]]))\n",
    "xwmy20 = np.transpose(xwmm20)"
   ]
  },
  {
   "cell_type": "markdown",
   "metadata": {},
   "source": [
    "<audio src=\"a_corpse_without_soul.wav\" controls>Your browser does not support the audio element.</audio>\n",
    "[a_corpse_without_soul.wav](a_corpse_without_soul.wav)"
   ]
  },
  {
   "cell_type": "markdown",
   "metadata": {},
   "source": [
    "**CLASICA 1**"
   ]
  },
  {
   "cell_type": "markdown",
   "metadata": {},
   "source": [
    "Audio a procesar (el archivo debe estar en la carpeta directorio del cuaderno):\n",
    "\n",
    "<audio src=\"el_lago_de_los_cisnes.mp3\" controls>Your browser does not support the audio element.</audio>\n",
    "[el_lago_de_los_cisnes.mp3](el_lago_de_los_cisnes.mp3)"
   ]
  },
  {
   "cell_type": "code",
   "execution_count": 552,
   "metadata": {},
   "outputs": [
    {
     "name": "stdout",
     "output_type": "stream",
     "text": [
      "Frecuencia de muestreo 44100.00[Hz]\n",
      "audio el_lago_de_los_cisnes.wav\n"
     ]
    }
   ],
   "source": [
    "nombre_in = \"el_lago_de_los_cisnes.mp3\"\n",
    "nombre_out = \"el_lago_de_los_cisnes.wav\"\n",
    "command_consola = \"ffmpeg -i \" + nombre_in +\" \"+ nombre_out\n",
    "os.system(command_consola)\n",
    "\n",
    "import soundfile as sf \n",
    "x21, fs21 = sf.read('el_lago_de_los_cisnes.wav')\n",
    "x21=x21[0:mmax,:]\n",
    "print('Frecuencia de muestreo %.2f[Hz]\\naudio %s' % (fs21,nombre_out))"
   ]
  },
  {
   "cell_type": "code",
   "execution_count": 553,
   "metadata": {},
   "outputs": [],
   "source": [
    "xpro21 = x21.copy() \n",
    "Xw21 = np.fft.rfft(xpro21,axis=0) \n",
    "vf21 = np.fft.rfftfreq(np.size(xpro21,0),1/fs21)\n",
    "xwm21 = (abs(Xw21[:,[0]]))\n",
    "xwmt21 = np.transpose(xwm21)\n",
    "xwmm21 = (abs(Xw21[:,[1]]))\n",
    "xwmy21 = np.transpose(xwmm21)\n"
   ]
  },
  {
   "cell_type": "markdown",
   "metadata": {},
   "source": [
    "<audio src=\"el_lago_de_los_cisnes.wav\" controls>Your browser does not support the audio element.</audio>\n",
    "[el_lago_de_los_cisnes.wav](el_lago_de_los_cisnes.wav)"
   ]
  },
  {
   "cell_type": "markdown",
   "metadata": {},
   "source": [
    "**CLASICA 2**\n"
   ]
  },
  {
   "cell_type": "markdown",
   "metadata": {},
   "source": [
    "Audio a procesar (el archivo debe estar en la carpeta directorio del cuaderno):\n",
    "\n",
    "<audio src=\"concierto_violin.mp3\" controls>Your browser does not support the audio element.</audio>\n",
    "[concierto_violin.mp3](concierto_violin.mp3)"
   ]
  },
  {
   "cell_type": "code",
   "execution_count": 554,
   "metadata": {},
   "outputs": [
    {
     "name": "stdout",
     "output_type": "stream",
     "text": [
      "Frecuencia de muestreo 44100.00[Hz]\n",
      "audio concierto_violin.wav\n"
     ]
    }
   ],
   "source": [
    "nombre_in = \"concierto_violin.mp3\"\n",
    "nombre_out = \"concierto_violin.wav\"\n",
    "command_consola = \"ffmpeg -i \" + nombre_in +\" \"+ nombre_out\n",
    "os.system(command_consola)\n",
    "\n",
    "import soundfile as sf \n",
    "x22, fs22 = sf.read('concierto_violin.wav')\n",
    "x22=x22[0:mmax,:]\n",
    "print('Frecuencia de muestreo %.2f[Hz]\\naudio %s' % (fs22,nombre_out))"
   ]
  },
  {
   "cell_type": "code",
   "execution_count": 555,
   "metadata": {},
   "outputs": [],
   "source": [
    "xpro22 = x22.copy() \n",
    "Xw22 = np.fft.rfft(xpro22,axis=0) \n",
    "vf22 = np.fft.rfftfreq(np.size(xpro22,0),1/fs22)\n",
    "xwm22 = (abs(Xw22[:,[0]]))\n",
    "xwmt22 = np.transpose(xwm22)\n",
    "xwmm22 = (abs(Xw22[:,[1]]))\n",
    "xwmy22 = np.transpose(xwmm22)\n"
   ]
  },
  {
   "cell_type": "markdown",
   "metadata": {},
   "source": [
    "<audio src=\"concierto_violin.wav\" controls>Your browser does not support the audio element.</audio>\n",
    "[concierto_violin.wav](concierto_violin.wav)"
   ]
  },
  {
   "cell_type": "markdown",
   "metadata": {},
   "source": [
    "**TANGO 1**"
   ]
  },
  {
   "cell_type": "markdown",
   "metadata": {},
   "source": [
    "Audio a procesar (el archivo debe estar en la carpeta directorio del cuaderno):\n",
    "\n",
    "<audio src=\"el_sombrero.mp3\" controls>Your browser does not support the audio element.</audio>\n",
    "[el_sombrero.mp3](el_sombrero.mp3)"
   ]
  },
  {
   "cell_type": "code",
   "execution_count": 556,
   "metadata": {},
   "outputs": [
    {
     "name": "stdout",
     "output_type": "stream",
     "text": [
      "Frecuencia de muestreo 44100.00[Hz]\n",
      "audio el_sombrero.wav\n"
     ]
    }
   ],
   "source": [
    "nombre_in = \"el_sombrero.mp3\"\n",
    "nombre_out = \"el_sombrero.wav\"\n",
    "command_consola = \"ffmpeg -i \" + nombre_in +\" \"+ nombre_out\n",
    "os.system(command_consola)\n",
    "\n",
    "import soundfile as sf \n",
    "x23, fs23 = sf.read('el_sombrero.wav')\n",
    "x23=x23[0:mmax,:]\n",
    "print('Frecuencia de muestreo %.2f[Hz]\\naudio %s' % (fs23,nombre_out))"
   ]
  },
  {
   "cell_type": "code",
   "execution_count": 557,
   "metadata": {},
   "outputs": [],
   "source": [
    "xpro23 = x23.copy() \n",
    "Xw23 = np.fft.rfft(xpro23,axis=0) \n",
    "vf23 = np.fft.rfftfreq(np.size(xpro23,0),1/fs23)\n",
    "xwm23 = (abs(Xw23[:,[0]]))\n",
    "xwmt23 = np.transpose(xwm23)\n",
    "xwmm23 = (abs(Xw23[:,[1]]))\n",
    "xwmy23 = np.transpose(xwmm23)"
   ]
  },
  {
   "cell_type": "markdown",
   "metadata": {},
   "source": [
    "<audio src=\"el_sombrero.wav\" controls>Your browser does not support the audio element.</audio>\n",
    "[el_sombrero.wav](el_sombrero.wav)"
   ]
  },
  {
   "cell_type": "markdown",
   "metadata": {},
   "source": [
    "**TANGO 2**"
   ]
  },
  {
   "cell_type": "markdown",
   "metadata": {},
   "source": [
    "Audio a procesar (el archivo debe estar en la carpeta directorio del cuaderno):\n",
    "\n",
    "<audio src=\"por_una_cabeza.mp3\" controls>Your browser does not support the audio element.</audio>\n",
    "[por_una_cabeza.mp3](por_una_cabeza.mp3)"
   ]
  },
  {
   "cell_type": "code",
   "execution_count": 558,
   "metadata": {},
   "outputs": [
    {
     "name": "stdout",
     "output_type": "stream",
     "text": [
      "Frecuencia de muestreo 44100.00[Hz]\n",
      "audio por_una_cabeza.wav\n"
     ]
    }
   ],
   "source": [
    "nombre_in = \"por_una_cabeza.mp3\"\n",
    "nombre_out = \"por_una_cabeza.wav\"\n",
    "command_consola = \"ffmpeg -i \" + nombre_in +\" \"+ nombre_out\n",
    "os.system(command_consola)\n",
    "\n",
    "import soundfile as sf \n",
    "x24, fs24 = sf.read('por_una_cabeza.wav')\n",
    "x24=x24[0:mmax,:]\n",
    "print('Frecuencia de muestreo %.2f[Hz]\\naudio %s' % (fs24,nombre_out))"
   ]
  },
  {
   "cell_type": "code",
   "execution_count": 559,
   "metadata": {},
   "outputs": [],
   "source": [
    "xpro24 = x24.copy() \n",
    "Xw24 = np.fft.rfft(xpro24,axis=0) \n",
    "vf24 = np.fft.rfftfreq(np.size(xpro24,0),1/fs24)\n",
    "xwm24 = (abs(Xw24[:,[0]]))\n",
    "xwmt24 = np.transpose(xwm24)\n",
    "xwmm24 = (abs(Xw24[:,[1]]))\n",
    "xwmy24 = np.transpose(xwmm24)"
   ]
  },
  {
   "cell_type": "markdown",
   "metadata": {},
   "source": [
    "<audio src=\"por_una_cabeza.wav\" controls>Your browser does not support the audio element.</audio>\n",
    "[por_una_cabeza.wav](por_una_cabeza.wav)"
   ]
  },
  {
   "cell_type": "markdown",
   "metadata": {},
   "source": [
    "**CUMBIA 1**"
   ]
  },
  {
   "cell_type": "markdown",
   "metadata": {},
   "source": [
    "Audio a procesar (el archivo debe estar en la carpeta directorio del cuaderno):\n",
    "\n",
    "<audio src=\"yo_me_llamo_cumbia.mp3\" controls>Your browser does not support the audio element.</audio>\n",
    "[yo_me_llamo_cumbia.mp3](yo_me_llamo_cumbia.mp3)"
   ]
  },
  {
   "cell_type": "code",
   "execution_count": 560,
   "metadata": {},
   "outputs": [
    {
     "name": "stdout",
     "output_type": "stream",
     "text": [
      "Frecuencia de muestreo 44100.00[Hz]\n",
      "audio yo_me_llamo_cumbia.wav\n"
     ]
    }
   ],
   "source": [
    "nombre_in = \"yo_me_llamo_cumbia.mp3\"\n",
    "nombre_out = \"yo_me_llamo_cumbia.wav\"\n",
    "command_consola = \"ffmpeg -i \" + nombre_in +\" \"+ nombre_out\n",
    "os.system(command_consola)\n",
    "\n",
    "import soundfile as sf \n",
    "x25, fs25 = sf.read('yo_me_llamo_cumbia.wav')\n",
    "x25=x25[0:mmax,:]\n",
    "print('Frecuencia de muestreo %.2f[Hz]\\naudio %s' % (fs25,nombre_out))"
   ]
  },
  {
   "cell_type": "code",
   "execution_count": 561,
   "metadata": {},
   "outputs": [],
   "source": [
    "xpro25 = x25.copy() \n",
    "Xw25 = np.fft.rfft(xpro25,axis=0) \n",
    "vf25 = np.fft.rfftfreq(np.size(xpro25,0),1/fs25)\n",
    "xwm25 = (abs(Xw25[:,[0]]))\n",
    "xwmt25 = np.transpose(xwm25)\n",
    "xwmm25 = (abs(Xw25[:,[1]]))\n",
    "xwmy25 = np.transpose(xwmm25)"
   ]
  },
  {
   "cell_type": "markdown",
   "metadata": {},
   "source": [
    "<audio src=\"yo_me_llamo_cumbia.wav\" controls>Your browser does not support the audio element.</audio>\n",
    "[yo_me_llamo_cumbia.wav](yo_me_llamo_cumbia.wav)"
   ]
  },
  {
   "cell_type": "markdown",
   "metadata": {},
   "source": [
    "**CUMBIA 2**"
   ]
  },
  {
   "cell_type": "markdown",
   "metadata": {},
   "source": [
    "Audio a procesar (el archivo debe estar en la carpeta directorio del cuaderno):\n",
    "\n",
    "<audio src=\"colombia_tierra_querida.mp3\" controls>Your browser does not support the audio element.</audio>\n",
    "[colombia_tierra_querida.mp3](colombia_tierra_querida.mp3)"
   ]
  },
  {
   "cell_type": "code",
   "execution_count": 562,
   "metadata": {},
   "outputs": [
    {
     "name": "stdout",
     "output_type": "stream",
     "text": [
      "Frecuencia de muestreo 44100.00[Hz]\n",
      "audio colombia_tierra_querida.wav\n"
     ]
    }
   ],
   "source": [
    "nombre_in = \"colombia_tierra_querida.mp3\"\n",
    "nombre_out = \"colombia_tierra_querida.wav\"\n",
    "command_consola = \"ffmpeg -i \" + nombre_in +\" \"+ nombre_out\n",
    "os.system(command_consola)\n",
    "\n",
    "import soundfile as sf \n",
    "x26, fs26 = sf.read('colombia_tierra_querida.wav')\n",
    "x26=x26[0:mmax,:]\n",
    "print('Frecuencia de muestreo %.2f[Hz]\\naudio %s' % (fs26,nombre_out))"
   ]
  },
  {
   "cell_type": "code",
   "execution_count": 563,
   "metadata": {},
   "outputs": [],
   "source": [
    "xpro26 = x26.copy() \n",
    "Xw26 = np.fft.rfft(xpro26,axis=0) \n",
    "vf26 = np.fft.rfftfreq(np.size(xpro26,0),1/fs26)\n",
    "xwm26 = (abs(Xw26[:,[0]]))\n",
    "xwmt26 = np.transpose(xwm26)\n",
    "xwmm26 = (abs(Xw26[:,[1]]))\n",
    "xwmy26 = np.transpose(xwmm26)"
   ]
  },
  {
   "cell_type": "markdown",
   "metadata": {},
   "source": [
    "<audio src=\"colombia_tierra_querida.wav\" controls>Your browser does not support the audio element.</audio>\n",
    "[colombia_tierra_querida.wav](colombia_tierra_querida.wav)"
   ]
  },
  {
   "cell_type": "markdown",
   "metadata": {},
   "source": [
    "**ELECTRONICA 1**"
   ]
  },
  {
   "cell_type": "markdown",
   "metadata": {},
   "source": [
    "Audio a procesar (el archivo debe estar en la carpeta directorio del cuaderno):\n",
    "\n",
    "<audio src=\"we_were_young.mp3\" controls>Your browser does not support the audio element.</audio>\n",
    "[we_were_young.mp3](we_were_young.mp3)"
   ]
  },
  {
   "cell_type": "code",
   "execution_count": 564,
   "metadata": {},
   "outputs": [
    {
     "name": "stdout",
     "output_type": "stream",
     "text": [
      "Frecuencia de muestreo 44100.00[Hz]\n",
      "audio we_were_young.wav\n"
     ]
    }
   ],
   "source": [
    "nombre_in = \"we_were_young.mp3\"\n",
    "nombre_out = \"we_were_young.wav\"\n",
    "command_consola = \"ffmpeg -i \" + nombre_in +\" \"+ nombre_out\n",
    "os.system(command_consola)\n",
    "\n",
    "import soundfile as sf \n",
    "x27, fs27 = sf.read('we_were_young.wav')\n",
    "x27=x27[0:mmax,:]\n",
    "print('Frecuencia de muestreo %.2f[Hz]\\naudio %s' % (fs27,nombre_out))"
   ]
  },
  {
   "cell_type": "code",
   "execution_count": 565,
   "metadata": {},
   "outputs": [],
   "source": [
    "xpro27 = x27.copy() \n",
    "Xw27 = np.fft.rfft(xpro27,axis=0) \n",
    "vf27 = np.fft.rfftfreq(np.size(xpro27,0),1/fs27)\n",
    "xwm27 = (abs(Xw27[:,[0]]))\n",
    "xwmt27 = np.transpose(xwm27)\n",
    "xwmm27 = (abs(Xw27[:,[1]]))\n",
    "xwmy27 = np.transpose(xwmm27)"
   ]
  },
  {
   "cell_type": "markdown",
   "metadata": {},
   "source": [
    "<audio src=\"we_were_young.wav\" controls>Your browser does not support the audio element.</audio>\n",
    "[we_were_young.wav](we_were_young.wav)"
   ]
  },
  {
   "cell_type": "markdown",
   "metadata": {},
   "source": [
    "**ELECTRONICA 2**"
   ]
  },
  {
   "cell_type": "markdown",
   "metadata": {},
   "source": [
    "Audio a procesar (el archivo debe estar en la carpeta directorio del cuaderno):\n",
    "\n",
    "<audio src=\"bad.mp3\" controls>Your browser does not support the audio element.</audio>\n",
    "[bad.mp3](bad.mp3)"
   ]
  },
  {
   "cell_type": "code",
   "execution_count": 566,
   "metadata": {},
   "outputs": [
    {
     "name": "stdout",
     "output_type": "stream",
     "text": [
      "Frecuencia de muestreo 44100.00[Hz]\n",
      "audio bad.wav\n"
     ]
    }
   ],
   "source": [
    "nombre_in = \"bad.mp3\"\n",
    "nombre_out = \"bad.wav\"\n",
    "command_consola = \"ffmpeg -i \" + nombre_in +\" \"+ nombre_out\n",
    "os.system(command_consola)\n",
    "\n",
    "import soundfile as sf \n",
    "x28, fs28 = sf.read('bad.wav')\n",
    "x28=x28[0:mmax,:]\n",
    "print('Frecuencia de muestreo %.2f[Hz]\\naudio %s' % (fs28,nombre_out))"
   ]
  },
  {
   "cell_type": "code",
   "execution_count": 567,
   "metadata": {},
   "outputs": [],
   "source": [
    "xpro28 = x28.copy() \n",
    "Xw28 = np.fft.rfft(xpro28,axis=0) \n",
    "vf28 = np.fft.rfftfreq(np.size(xpro28,0),1/fs28)\n",
    "xwm28 = (abs(Xw28[:,[0]]))\n",
    "xwmt28 = np.transpose(xwm28)\n",
    "xwmm28 = (abs(Xw28[:,[1]]))\n",
    "xwmy28 = np.transpose(xwmm28)"
   ]
  },
  {
   "cell_type": "markdown",
   "metadata": {},
   "source": [
    "<audio src=\"bad.wav\" controls>Your browser does not support the audio element.</audio>\n",
    "[bad.wav](bad.wav)"
   ]
  },
  {
   "cell_type": "markdown",
   "metadata": {},
   "source": [
    "**TRAP 1**"
   ]
  },
  {
   "cell_type": "markdown",
   "metadata": {},
   "source": [
    "Audio a procesar (el archivo debe estar en la carpeta directorio del cuaderno):\n",
    "\n",
    "<audio src=\"te_bote.mp3\" controls>Your browser does not support the audio element.</audio>\n",
    "[te_bote.mp3](te_bote.mp3)"
   ]
  },
  {
   "cell_type": "code",
   "execution_count": 568,
   "metadata": {},
   "outputs": [
    {
     "name": "stdout",
     "output_type": "stream",
     "text": [
      "Frecuencia de muestreo 44100.00[Hz]\n",
      "audio te_bote.wav\n"
     ]
    }
   ],
   "source": [
    "nombre_in = \"te_bote.mp3\"\n",
    "nombre_out = \"te_bote.wav\"\n",
    "command_consola = \"ffmpeg -i \" + nombre_in +\" \"+ nombre_out\n",
    "os.system(command_consola)\n",
    "\n",
    "import soundfile as sf \n",
    "x29, fs29 = sf.read('te_bote.wav')\n",
    "x29=x29[0:mmax,:]\n",
    "print('Frecuencia de muestreo %.2f[Hz]\\naudio %s' % (fs29,nombre_out))"
   ]
  },
  {
   "cell_type": "code",
   "execution_count": 569,
   "metadata": {},
   "outputs": [],
   "source": [
    "xpro29 = x29.copy() \n",
    "Xw29 = np.fft.rfft(xpro29,axis=0) \n",
    "vf29 = np.fft.rfftfreq(np.size(xpro29,0),1/fs29)\n",
    "xwm29 = (abs(Xw29[:,[0]]))\n",
    "xwmt29 = np.transpose(xwm29)\n",
    "xwmm29 = (abs(Xw29[:,[1]]))\n",
    "xwmy29 = np.transpose(xwmm29)"
   ]
  },
  {
   "cell_type": "markdown",
   "metadata": {},
   "source": [
    "<audio src=\"te_bote.wav\" controls>Your browser does not support the audio element.</audio>\n",
    "[te_bote.wav](te_bote.wav)"
   ]
  },
  {
   "cell_type": "markdown",
   "metadata": {},
   "source": [
    "**TRAP 2**"
   ]
  },
  {
   "cell_type": "markdown",
   "metadata": {},
   "source": [
    "Audio a procesar (el archivo debe estar en la carpeta directorio del cuaderno):\n",
    "\n",
    "<audio src=\"trap.mp3\" controls>Your browser does not support the audio element.</audio>\n",
    "[trap.mp3](trap.mp3)"
   ]
  },
  {
   "cell_type": "code",
   "execution_count": 570,
   "metadata": {},
   "outputs": [
    {
     "name": "stdout",
     "output_type": "stream",
     "text": [
      "Frecuencia de muestreo 44100.00[Hz]\n",
      "audio trap.wav\n"
     ]
    }
   ],
   "source": [
    "nombre_in = \"trap.mp3\"\n",
    "nombre_out = \"trap.wav\"\n",
    "command_consola = \"ffmpeg -i \" + nombre_in +\" \"+ nombre_out\n",
    "os.system(command_consola)\n",
    "\n",
    "import soundfile as sf \n",
    "x30, fs30 = sf.read('trap.wav')\n",
    "x30=x30[0:mmax,:]\n",
    "print('Frecuencia de muestreo %.2f[Hz]\\naudio %s' % (fs30,nombre_out))"
   ]
  },
  {
   "cell_type": "code",
   "execution_count": 571,
   "metadata": {},
   "outputs": [],
   "source": [
    "xpro30 = x30.copy() \n",
    "Xw30 = np.fft.rfft(xpro30,axis=0) \n",
    "vf30 = np.fft.rfftfreq(np.size(xpro30,0),1/fs30)\n",
    "xwm30 = (abs(Xw30[:,[0]]))\n",
    "xwmt30 = np.transpose(xwm30)\n",
    "xwmm30 = (abs(Xw30[:,[1]]))\n",
    "xwmy30 = np.transpose(xwmm30)"
   ]
  },
  {
   "cell_type": "markdown",
   "metadata": {},
   "source": [
    "<audio src=\"trap.wav\" controls>Your browser does not support the audio element.</audio>\n",
    "[trap.wav](trap.wav)"
   ]
  },
  {
   "cell_type": "markdown",
   "metadata": {},
   "source": [
    "**RAP 1**"
   ]
  },
  {
   "cell_type": "markdown",
   "metadata": {},
   "source": [
    "Audio a procesar (el archivo debe estar en la carpeta directorio del cuaderno):\n",
    "\n",
    "<audio src=\"maquiavelico.mp3\" controls>Your browser does not support the audio element.</audio>\n",
    "[maquiavelico.mp3](maquiavelico.mp3)"
   ]
  },
  {
   "cell_type": "code",
   "execution_count": 572,
   "metadata": {},
   "outputs": [
    {
     "name": "stdout",
     "output_type": "stream",
     "text": [
      "Frecuencia de muestreo 44100.00[Hz]\n",
      "audio maquiavelico.wav\n"
     ]
    }
   ],
   "source": [
    "nombre_in = \"maquiavelico.mp3\"\n",
    "nombre_out = \"maquiavelico.wav\"\n",
    "command_consola = \"ffmpeg -i \" + nombre_in +\" \"+ nombre_out\n",
    "os.system(command_consola)\n",
    "\n",
    "import soundfile as sf \n",
    "x31, fs31 = sf.read('maquiavelico.wav')\n",
    "x31=x31[0:mmax,:]\n",
    "print('Frecuencia de muestreo %.2f[Hz]\\naudio %s' % (fs31,nombre_out))"
   ]
  },
  {
   "cell_type": "code",
   "execution_count": 573,
   "metadata": {},
   "outputs": [],
   "source": [
    "xpro31 = x31.copy() \n",
    "Xw31 = np.fft.rfft(xpro31,axis=0) \n",
    "vf31 = np.fft.rfftfreq(np.size(xpro31,0),1/fs31)\n",
    "xwm31 = (abs(Xw31[:,[0]]))\n",
    "xwmt31 = np.transpose(xwm31)\n",
    "xwmm31 = (abs(Xw31[:,[1]]))\n",
    "xwmy31 = np.transpose(xwmm31)"
   ]
  },
  {
   "cell_type": "markdown",
   "metadata": {},
   "source": [
    "<audio src=\"maquiavelico.wav\" controls>Your browser does not support the audio element.</audio>\n",
    "[maquiavelico.wav](maquiavelico.wav)"
   ]
  },
  {
   "cell_type": "markdown",
   "metadata": {},
   "source": [
    "**RAP 2**"
   ]
  },
  {
   "cell_type": "markdown",
   "metadata": {},
   "source": [
    "Audio a procesar (el archivo debe estar en la carpeta directorio del cuaderno):\n",
    "\n",
    "<audio src=\"rap_god.mp3\" controls>Your browser does not support the audio element.</audio>\n",
    "[rap_god.mp3](rap_god.mp3)"
   ]
  },
  {
   "cell_type": "code",
   "execution_count": 574,
   "metadata": {},
   "outputs": [
    {
     "name": "stdout",
     "output_type": "stream",
     "text": [
      "Frecuencia de muestreo 44100.00[Hz]\n",
      "audio rap_god.wav\n"
     ]
    }
   ],
   "source": [
    "nombre_in = \"rap_god.mp3\"\n",
    "nombre_out = \"rap_god.wav\"\n",
    "command_consola = \"ffmpeg -i \" + nombre_in +\" \"+ nombre_out\n",
    "os.system(command_consola)\n",
    "\n",
    "import soundfile as sf \n",
    "x32, fs32 = sf.read('rap_god.wav')\n",
    "x32=x32[0:mmax,:]\n",
    "print('Frecuencia de muestreo %.2f[Hz]\\naudio %s' % (fs32,nombre_out))"
   ]
  },
  {
   "cell_type": "code",
   "execution_count": 575,
   "metadata": {},
   "outputs": [],
   "source": [
    "xpro32 = x32.copy() \n",
    "Xw32 = np.fft.rfft(xpro32,axis=0) \n",
    "vf32 = np.fft.rfftfreq(np.size(xpro32,0),1/fs32)\n",
    "xwm32 = (abs(Xw32[:,[0]]))\n",
    "xwmt32 = np.transpose(xwm32)\n",
    "xwmm32 = (abs(Xw32[:,[1]]))\n",
    "xwmy32 = np.transpose(xwmm32)"
   ]
  },
  {
   "cell_type": "markdown",
   "metadata": {},
   "source": [
    "<audio src=\"rap_god.wav\" controls>Your browser does not support the audio element.</audio>\n",
    "[rap_god.wav](rap_god.wav)"
   ]
  },
  {
   "cell_type": "markdown",
   "metadata": {},
   "source": [
    "**AHORA VAMOS A UNIR LAS DE DANSU**"
   ]
  },
  {
   "cell_type": "markdown",
   "metadata": {},
   "source": [
    "<audio src=\"dansu-all-you-got_1.mp3\" controls>Your browser does not support the audio element.</audio>\n",
    "[dansu-all-you-got_1.mp3](dansu-all-you-got_1.mp3)"
   ]
  },
  {
   "cell_type": "code",
   "execution_count": 576,
   "metadata": {},
   "outputs": [
    {
     "name": "stdout",
     "output_type": "stream",
     "text": [
      "Frecuencia de muestreo 44100.00[Hz]\n",
      "audio dansu-all-you-got_1.wav\n"
     ]
    }
   ],
   "source": [
    "nombre_in = \"dansu-all-you-got_1.mp3\"\n",
    "nombre_out = \"dansu-all-you-got_1.wav\"\n",
    "command_consola = \"ffmpeg -i \" + nombre_in +\" \"+ nombre_out\n",
    "os.system(command_consola)\n",
    "\n",
    "import soundfile as sf\n",
    "x33, fs33 = sf.read('dansu-all-you-got_1.wav')\n",
    "x33=x33[0:mmax,:]\n",
    "print('Frecuencia de muestreo %.2f[Hz]\\naudio %s' % (fs33,nombre_out))"
   ]
  },
  {
   "cell_type": "code",
   "execution_count": 577,
   "metadata": {},
   "outputs": [],
   "source": [
    "xpro33 = x33.copy() \n",
    "Xw33 = np.fft.rfft(xpro33,axis=0) \n",
    "vf33 = np.fft.rfftfreq(np.size(xpro33,0),1/fs33)\n",
    "xwm33 = (abs(Xw33[:,[0]]))\n",
    "xwmt33 = np.transpose(xwm33)\n",
    "xwmm33 = (abs(Xw33[:,[1]]))\n",
    "xwmy33 = np.transpose(xwmm33)"
   ]
  },
  {
   "cell_type": "markdown",
   "metadata": {},
   "source": [
    "<audio src=\"dansu-all-you-got_2.mp3\" controls>Your browser does not support the audio element.</audio>\n",
    "[dansu-all-you-got_2.mp3](dansu-all-you-got_2.mp3)"
   ]
  },
  {
   "cell_type": "code",
   "execution_count": 578,
   "metadata": {},
   "outputs": [
    {
     "name": "stdout",
     "output_type": "stream",
     "text": [
      "Frecuencia de muestreo 44100.00[Hz]\n",
      "audio dansu-all-you-got_2.wav\n"
     ]
    }
   ],
   "source": [
    "nombre_in = \"dansu-all-you-got_2.mp3\"\n",
    "nombre_out = \"dansu-all-you-got_2.wav\"\n",
    "command_consola = \"ffmpeg -i \" + nombre_in +\" \"+ nombre_out\n",
    "os.system(command_consola)\n",
    "\n",
    "import soundfile as sf \n",
    "\n",
    "x34, fs34 = sf.read('dansu-all-you-got_2.wav')\n",
    "x34=x34[0:mmax,:]\n",
    "print('Frecuencia de muestreo %.2f[Hz]\\naudio %s' % (fs34,nombre_out))"
   ]
  },
  {
   "cell_type": "code",
   "execution_count": 579,
   "metadata": {},
   "outputs": [],
   "source": [
    "xpro34 = x34.copy() \n",
    "Xw34 = np.fft.rfft(xpro34,axis=0) \n",
    "vf34 = np.fft.rfftfreq(np.size(xpro34,0),1/fs34)\n",
    "xwm34 = (abs(Xw34[:,[0]]))\n",
    "xwmt34 = np.transpose(xwm34)\n",
    "xwmm34 = (abs(Xw34[:,[1]]))\n",
    "xwmy34 = np.transpose(xwmm34)"
   ]
  },
  {
   "cell_type": "markdown",
   "metadata": {},
   "source": [
    "<audio src=\"dansu-all-you-got_3.mp3\" controls>Your browser does not support the audio element.</audio>\n",
    "[dansu-all-you-got_3.mp3](dansu-all-you-got_3.mp3)"
   ]
  },
  {
   "cell_type": "code",
   "execution_count": 580,
   "metadata": {},
   "outputs": [
    {
     "name": "stdout",
     "output_type": "stream",
     "text": [
      "Frecuencia de muestreo 44100.00[Hz]\n",
      "audio dansu-all-you-got_3.wav\n"
     ]
    }
   ],
   "source": [
    "nombre_in = \"dansu-all-you-got_3.mp3\"\n",
    "nombre_out = \"dansu-all-you-got_3.wav\"\n",
    "command_consola = \"ffmpeg -i \" + nombre_in +\" \"+ nombre_out\n",
    "os.system(command_consola)\n",
    "\n",
    "import soundfile as sf \n",
    "x35, fs35 = sf.read('dansu-all-you-got_3.wav')\n",
    "x35=x35[0:mmax,:]\n",
    "print('Frecuencia de muestreo %.2f[Hz]\\naudio %s' % (fs35,nombre_out))"
   ]
  },
  {
   "cell_type": "code",
   "execution_count": 581,
   "metadata": {},
   "outputs": [],
   "source": [
    "xpro35 = x35.copy() \n",
    "Xw35 = np.fft.rfft(xpro35,axis=0) \n",
    "vf35 = np.fft.rfftfreq(np.size(xpro35,0),1/fs35)\n",
    "xwm35 = (abs(Xw35[:,[0]]))\n",
    "xwmt35 = np.transpose(xwm35)\n",
    "xwmm35 = (abs(Xw35[:,[1]]))\n",
    "xwmy35 = np.transpose(xwmm35)"
   ]
  },
  {
   "cell_type": "markdown",
   "metadata": {},
   "source": [
    "<audio src=\"dansu-all-you-got_4.mp3\" controls>Your browser does not support the audio element.</audio>\n",
    "[dansu-all-you-got_4.mp3](dansu-all-you-got_4.mp3)"
   ]
  },
  {
   "cell_type": "code",
   "execution_count": 582,
   "metadata": {},
   "outputs": [
    {
     "name": "stdout",
     "output_type": "stream",
     "text": [
      "Frecuencia de muestreo 44100.00[Hz]\n",
      "audio dansu-all-you-got_4.wav\n"
     ]
    }
   ],
   "source": [
    "nombre_in = \"dansu-all-you-got_4.mp3\"\n",
    "nombre_out = \"dansu-all-you-got_4.wav\"\n",
    "command_consola = \"ffmpeg -i \" + nombre_in +\" \"+ nombre_out\n",
    "os.system(command_consola)\n",
    "\n",
    "import soundfile as sf \n",
    "x36, fs36 = sf.read('dansu-all-you-got_4.wav')\n",
    "x36=x36[0:mmax,:]\n",
    "print('Frecuencia de muestreo %.2f[Hz]\\naudio %s' % (fs36,nombre_out))"
   ]
  },
  {
   "cell_type": "code",
   "execution_count": 583,
   "metadata": {},
   "outputs": [],
   "source": [
    "xpro36 = x36.copy() \n",
    "Xw36 = np.fft.rfft(xpro36,axis=0) \n",
    "vf36 = np.fft.rfftfreq(np.size(xpro36,0),1/fs36)\n",
    "xwm36= (abs(Xw36[:,[0]]))\n",
    "xwmt36 = np.transpose(xwm36)\n",
    "xwmm36= (abs(Xw36[:,[1]]))\n",
    "xwmy36 = np.transpose(xwmm36)"
   ]
  },
  {
   "cell_type": "markdown",
   "metadata": {},
   "source": [
    "<audio src=\"dansu-all-you-got_5.mp3\" controls>Your browser does not support the audio element.</audio>\n",
    "[dansu-all-you-got_5.mp3](dansu-all-you-got_5.mp3)"
   ]
  },
  {
   "cell_type": "code",
   "execution_count": 584,
   "metadata": {},
   "outputs": [
    {
     "name": "stdout",
     "output_type": "stream",
     "text": [
      "Frecuencia de muestreo 44100.00[Hz]\n",
      "audio dansu-all-you-got_5.wav\n"
     ]
    }
   ],
   "source": [
    "nombre_in = \"dansu-all-you-got_5.mp3\"\n",
    "nombre_out = \"dansu-all-you-got_5.wav\"\n",
    "command_consola = \"ffmpeg -i \" + nombre_in +\" \"+ nombre_out\n",
    "os.system(command_consola)\n",
    "\n",
    "import soundfile as sf \n",
    "x37, fs37 = sf.read('dansu-all-you-got_5.wav')\n",
    "x37=x37[0:mmax,:]\n",
    "print('Frecuencia de muestreo %.2f[Hz]\\naudio %s' % (fs37,nombre_out))"
   ]
  },
  {
   "cell_type": "code",
   "execution_count": 585,
   "metadata": {},
   "outputs": [],
   "source": [
    "xpro37 = x37.copy() \n",
    "Xw37 = np.fft.rfft(xpro37,axis=0) \n",
    "vf37 = np.fft.rfftfreq(np.size(xpro37,0),1/fs37)\n",
    "xwm37 = (abs(Xw37[:,[0]]))\n",
    "xwmt37 = np.transpose(xwm37)\n",
    "xwmm37 = (abs(Xw37[:,[1]]))\n",
    "xwmy37 = np.transpose(xwmm37)"
   ]
  },
  {
   "cell_type": "markdown",
   "metadata": {},
   "source": [
    "<audio src=\"dansu-all-you-got_6.mp3\" controls>Your browser does not support the audio element.</audio>\n",
    "[dansu-all-you-got_6.mp3](dansu-all-you-got_6.mp3)"
   ]
  },
  {
   "cell_type": "code",
   "execution_count": 586,
   "metadata": {},
   "outputs": [
    {
     "name": "stdout",
     "output_type": "stream",
     "text": [
      "Frecuencia de muestreo 44100.00[Hz]\n",
      "audio dansu-all-you-got_6.wav\n"
     ]
    }
   ],
   "source": [
    "nombre_in = \"dansu-all-you-got_6.mp3\"\n",
    "nombre_out = \"dansu-all-you-got_6.wav\"\n",
    "command_consola = \"ffmpeg -i \" + nombre_in +\" \"+ nombre_out\n",
    "os.system(command_consola)\n",
    "\n",
    "import soundfile as sf \n",
    "x38, fs38 = sf.read('dansu-all-you-got_6.wav')\n",
    "x38=x38[0:mmax,:]\n",
    "print('Frecuencia de muestreo %.2f[Hz]\\naudio %s' % (fs38,nombre_out))"
   ]
  },
  {
   "cell_type": "code",
   "execution_count": 587,
   "metadata": {},
   "outputs": [],
   "source": [
    "xpro38 = x38.copy() \n",
    "Xw38 = np.fft.rfft(xpro38,axis=0) \n",
    "vf38 = np.fft.rfftfreq(np.size(xpro38,0),1/fs38)\n",
    "xwm38 = (abs(Xw38[:,[0]]))\n",
    "xwmt38 = np.transpose(xwm38)\n",
    "xwmm38 = (abs(Xw38[:,[1]]))\n",
    "xwmy38 = np.transpose(xwmm38)"
   ]
  },
  {
   "cell_type": "markdown",
   "metadata": {},
   "source": [
    "<audio src=\"dansu-all-you-got_7.mp3\" controls>Your browser does not support the audio element.</audio>\n",
    "[dansu-all-you-got_7.mp3](dansu-all-you-got_7.mp3)"
   ]
  },
  {
   "cell_type": "code",
   "execution_count": 588,
   "metadata": {},
   "outputs": [
    {
     "name": "stdout",
     "output_type": "stream",
     "text": [
      "Frecuencia de muestreo 44100.00[Hz]\n",
      "audio dansu-all-you-got_7.wav\n"
     ]
    }
   ],
   "source": [
    "nombre_in = \"dansu-all-you-got_7.mp3\"\n",
    "nombre_out = \"dansu-all-you-got_7.wav\"\n",
    "command_consola = \"ffmpeg -i \" + nombre_in +\" \"+ nombre_out\n",
    "os.system(command_consola)\n",
    "\n",
    "import soundfile as sf \n",
    "x39, fs39 = sf.read('dansu-all-you-got_7.wav')\n",
    "x39=x39[0:mmax,:]\n",
    "print('Frecuencia de muestreo %.2f[Hz]\\naudio %s' % (fs39,nombre_out))"
   ]
  },
  {
   "cell_type": "code",
   "execution_count": 589,
   "metadata": {},
   "outputs": [],
   "source": [
    "xpro39 = x39.copy() \n",
    "Xw39 = np.fft.rfft(xpro39,axis=0) \n",
    "vf39 = np.fft.rfftfreq(np.size(xpro39,0),1/fs39)\n",
    "xwm39 = (abs(Xw39[:,[0]]))\n",
    "xwmt39 = np.transpose(xwm39)\n",
    "xwmm39 = (abs(Xw39[:,[1]]))\n",
    "xwmy39 = np.transpose(xwmm39)"
   ]
  },
  {
   "cell_type": "markdown",
   "metadata": {},
   "source": [
    "<audio src=\"dansu-all-you-got_8.mp3\" controls>Your browser does not support the audio element.</audio>\n",
    "[dansu-all-you-got_8.mp3](dansu-all-you-got_8.mp3)"
   ]
  },
  {
   "cell_type": "code",
   "execution_count": 590,
   "metadata": {},
   "outputs": [
    {
     "name": "stdout",
     "output_type": "stream",
     "text": [
      "Frecuencia de muestreo 44100.00[Hz]\n",
      "audio dansu-all-you-got_8.wav\n"
     ]
    }
   ],
   "source": [
    "nombre_in = \"dansu-all-you-got_8.mp3\"\n",
    "nombre_out = \"dansu-all-you-got_8.wav\"\n",
    "command_consola = \"ffmpeg -i \" + nombre_in +\" \"+ nombre_out\n",
    "os.system(command_consola)\n",
    "\n",
    "import soundfile as sf \n",
    "x40, fs40 = sf.read('dansu-all-you-got_8.wav')\n",
    "x40=x40[0:mmax,:]\n",
    "print('Frecuencia de muestreo %.2f[Hz]\\naudio %s' % (fs40,nombre_out))"
   ]
  },
  {
   "cell_type": "code",
   "execution_count": 591,
   "metadata": {},
   "outputs": [],
   "source": [
    "xpro40 = x40.copy() \n",
    "Xw40 = np.fft.rfft(xpro40,axis=0) \n",
    "vf40 = np.fft.rfftfreq(np.size(xpro40,0),1/fs40)\n",
    "xwm40 = (abs(Xw40[:,[0]]))\n",
    "xwmt40 = np.transpose(xwm40)\n",
    "xwmm40 = (abs(Xw40[:,[1]]))\n",
    "xwmy40 = np.transpose(xwmm40)"
   ]
  },
  {
   "cell_type": "markdown",
   "metadata": {},
   "source": [
    "<audio src=\"dansu-all-you-got_9.mp3\" controls>Your browser does not support the audio element.</audio>\n",
    "[dansu-all-you-got_9.mp3](dansu-all-you-got_9.mp3)"
   ]
  },
  {
   "cell_type": "code",
   "execution_count": 592,
   "metadata": {},
   "outputs": [
    {
     "name": "stdout",
     "output_type": "stream",
     "text": [
      "Frecuencia de muestreo 44100.00[Hz]\n",
      "audio dansu-all-you-got_9.wav\n"
     ]
    }
   ],
   "source": [
    "nombre_in = \"dansu-all-you-got_9.mp3\"\n",
    "nombre_out = \"dansu-all-you-got_9.wav\"\n",
    "command_consola = \"ffmpeg -i \" + nombre_in +\" \"+ nombre_out\n",
    "os.system(command_consola)\n",
    "\n",
    "import soundfile as sf \n",
    "x41, fs41 = sf.read('dansu-all-you-got_9.wav')\n",
    "x41=x41[0:mmax,:]\n",
    "print('Frecuencia de muestreo %.2f[Hz]\\naudio %s' % (fs41,nombre_out))"
   ]
  },
  {
   "cell_type": "code",
   "execution_count": 593,
   "metadata": {},
   "outputs": [],
   "source": [
    "xpro41 = x41.copy() \n",
    "Xw41 = np.fft.rfft(xpro41,axis=0) \n",
    "vf41 = np.fft.rfftfreq(np.size(xpro41,0),1/fs41)\n",
    "xwm41 = (abs(Xw41[:,[0]]))\n",
    "xwmt41 = np.transpose(xwm41)\n",
    "xwmm41 = (abs(Xw41[:,[1]]))\n",
    "xwmy41 = np.transpose(xwmm41)"
   ]
  },
  {
   "cell_type": "markdown",
   "metadata": {},
   "source": [
    "<audio src=\"dansu-all-you-got_10.mp3\" controls>Your browser does not support the audio element.</audio>\n",
    "[dansu-all-you-got_10.mp3](dansu-all-you-got_10.mp3)"
   ]
  },
  {
   "cell_type": "code",
   "execution_count": 594,
   "metadata": {},
   "outputs": [
    {
     "name": "stdout",
     "output_type": "stream",
     "text": [
      "Frecuencia de muestreo 44100.00[Hz]\n",
      "audio dansu-all-you-got_10.wav\n"
     ]
    }
   ],
   "source": [
    "nombre_in = \"dansu-all-you-got_10.mp3\"\n",
    "nombre_out = \"dansu-all-you-got_10.wav\"\n",
    "command_consola = \"ffmpeg -i \" + nombre_in +\" \"+ nombre_out\n",
    "os.system(command_consola)\n",
    "\n",
    "import soundfile as sf \n",
    "x42, fs42 = sf.read('dansu-all-you-got_10.wav')\n",
    "x42=x42[0:mmax,:]\n",
    "print('Frecuencia de muestreo %.2f[Hz]\\naudio %s' % (fs42,nombre_out))"
   ]
  },
  {
   "cell_type": "code",
   "execution_count": 595,
   "metadata": {},
   "outputs": [],
   "source": [
    "xpro42 = x42.copy() \n",
    "Xw42 = np.fft.rfft(xpro42,axis=0) \n",
    "vf42 = np.fft.rfftfreq(np.size(xpro42,0),1/fs42)\n",
    "xwm42 = (abs(Xw42[:,[0]]))\n",
    "xwmt42 = np.transpose(xwm42)\n",
    "xwmm42 = (abs(Xw42[:,[1]]))\n",
    "xwmy42 = np.transpose(xwmm42)"
   ]
  },
  {
   "cell_type": "markdown",
   "metadata": {},
   "source": [
    "<audio src=\"dansu-all-you-got_11.mp3\" controls>Your browser does not support the audio element.</audio>\n",
    "[dansu-all-you-got_11.mp3](dansu-all-you-got_11.mp3)"
   ]
  },
  {
   "cell_type": "code",
   "execution_count": 596,
   "metadata": {},
   "outputs": [
    {
     "name": "stdout",
     "output_type": "stream",
     "text": [
      "Frecuencia de muestreo 44100.00[Hz]\n",
      "audio dansu-all-you-got_11.wav\n"
     ]
    }
   ],
   "source": [
    "nombre_in = \"dansu-all-you-got_11.mp3\"\n",
    "nombre_out = \"dansu-all-you-got_11.wav\"\n",
    "command_consola = \"ffmpeg -i \" + nombre_in +\" \"+ nombre_out\n",
    "os.system(command_consola)\n",
    "\n",
    "import soundfile as sf \n",
    "x43, fs43 = sf.read('dansu-all-you-got_11.wav')\n",
    "x43=x43[0:mmax,:]\n",
    "print('Frecuencia de muestreo %.2f[Hz]\\naudio %s' % (fs43,nombre_out))"
   ]
  },
  {
   "cell_type": "code",
   "execution_count": 597,
   "metadata": {},
   "outputs": [],
   "source": [
    "xpro43 = x43.copy() \n",
    "Xw43 = np.fft.rfft(xpro43,axis=0) \n",
    "vf43 = np.fft.rfftfreq(np.size(xpro43,0),1/fs43)\n",
    "xwm43 = (abs(Xw43[:,[0]]))\n",
    "xwmt43 = np.transpose(xwm43)\n",
    "xwmm43 = (abs(Xw43[:,[1]]))\n",
    "xwmy43 = np.transpose(xwmm43)"
   ]
  },
  {
   "cell_type": "markdown",
   "metadata": {},
   "source": [
    "<audio src=\"dansu-all-you-got_12.mp3\" controls>Your browser does not support the audio element.</audio>\n",
    "[dansu-all-you-got_12.mp3](dansu-all-you-got_12.mp3)"
   ]
  },
  {
   "cell_type": "code",
   "execution_count": 598,
   "metadata": {},
   "outputs": [
    {
     "name": "stdout",
     "output_type": "stream",
     "text": [
      "Frecuencia de muestreo 44100.00[Hz]\n",
      "audio dansu-all-you-got_12.wav\n"
     ]
    }
   ],
   "source": [
    "nombre_in = \"dansu-all-you-got_12.mp3\"\n",
    "nombre_out = \"dansu-all-you-got_12.wav\"\n",
    "command_consola = \"ffmpeg -i \" + nombre_in +\" \"+ nombre_out\n",
    "os.system(command_consola)\n",
    "\n",
    "import soundfile as sf \n",
    "x44, fs44 = sf.read('dansu-all-you-got_12.wav')\n",
    "x44=x44[0:mmax,:]\n",
    "print('Frecuencia de muestreo %.2f[Hz]\\naudio %s' % (fs44,nombre_out))"
   ]
  },
  {
   "cell_type": "code",
   "execution_count": 599,
   "metadata": {},
   "outputs": [],
   "source": [
    "xpro44 = x44.copy() \n",
    "Xw44 = np.fft.rfft(xpro44,axis=0) \n",
    "vf44 = np.fft.rfftfreq(np.size(xpro44,0),1/fs44)\n",
    "xwm44 = (abs(Xw44[:,[0]]))\n",
    "xwmt44 = np.transpose(xwm44)\n",
    "xwmm44 = (abs(Xw44[:,[1]]))\n",
    "xwmy44 = np.transpose(xwmm44)"
   ]
  },
  {
   "cell_type": "markdown",
   "metadata": {},
   "source": [
    "<audio src=\"dansu-all-you-got_13.mp3\" controls>Your browser does not support the audio element.</audio>\n",
    "[dansu-all-you-got_13.mp3](dansu-all-you-got_13.mp3)"
   ]
  },
  {
   "cell_type": "code",
   "execution_count": 600,
   "metadata": {},
   "outputs": [
    {
     "name": "stdout",
     "output_type": "stream",
     "text": [
      "Frecuencia de muestreo 44100.00[Hz]\n",
      "audio dansu-all-you-got_13.wav\n"
     ]
    }
   ],
   "source": [
    "nombre_in = \"dansu-all-you-got_13.mp3\"\n",
    "nombre_out = \"dansu-all-you-got_13.wav\"\n",
    "command_consola = \"ffmpeg -i \" + nombre_in +\" \"+ nombre_out\n",
    "os.system(command_consola)\n",
    "\n",
    "import soundfile as sf \n",
    "x45, fs45 = sf.read('dansu-all-you-got_13.wav')\n",
    "x45=x45[0:mmax,:]\n",
    "print('Frecuencia de muestreo %.2f[Hz]\\naudio %s' % (fs45,nombre_out))"
   ]
  },
  {
   "cell_type": "code",
   "execution_count": 601,
   "metadata": {},
   "outputs": [],
   "source": [
    "xpro45 = x45.copy() \n",
    "Xw45 = np.fft.rfft(xpro45,axis=0) \n",
    "vf45 = np.fft.rfftfreq(np.size(xpro45,0),1/fs45)\n",
    "xwm45 = (abs(Xw45[:,[0]]))\n",
    "xwmt45 = np.transpose(xwm45)\n",
    "xwmm45 = (abs(Xw45[:,[1]]))\n",
    "xwmy45 = np.transpose(xwmm45)"
   ]
  },
  {
   "cell_type": "markdown",
   "metadata": {},
   "source": [
    "<audio src=\"dansu-all-you-got_14.mp3\" controls>Your browser does not support the audio element.</audio>\n",
    "[dansu-all-you-got_14.mp3](dansu-all-you-got_14.mp3)"
   ]
  },
  {
   "cell_type": "code",
   "execution_count": 602,
   "metadata": {},
   "outputs": [
    {
     "name": "stdout",
     "output_type": "stream",
     "text": [
      "Frecuencia de muestreo 44100.00[Hz]\n",
      "audio dansu-all-you-got_14.wav\n"
     ]
    }
   ],
   "source": [
    "nombre_in = \"dansu-all-you-got_14.mp3\"\n",
    "nombre_out = \"dansu-all-you-got_14.wav\"\n",
    "command_consola = \"ffmpeg -i \" + nombre_in +\" \"+ nombre_out\n",
    "os.system(command_consola)\n",
    "\n",
    "import soundfile as sf \n",
    "x46, fs46 = sf.read('dansu-all-you-got_14.wav')\n",
    "x46=x46[0:mmax,:]\n",
    "print('Frecuencia de muestreo %.2f[Hz]\\naudio %s' % (fs46,nombre_out))"
   ]
  },
  {
   "cell_type": "code",
   "execution_count": 603,
   "metadata": {},
   "outputs": [],
   "source": [
    "xpro46 = x46.copy() \n",
    "Xw46 = np.fft.rfft(xpro46,axis=0) \n",
    "vf46 = np.fft.rfftfreq(np.size(xpro46,0),1/fs46)\n",
    "xwm46 = (abs(Xw46[:,[0]]))\n",
    "xwmt46 = np.transpose(xwm46)\n",
    "xwmm46 = (abs(Xw46[:,[1]]))\n",
    "xwmy46 = np.transpose(xwmm46)"
   ]
  },
  {
   "cell_type": "markdown",
   "metadata": {},
   "source": [
    "<audio src=\"dansu-all-you-got_15.mp3\" controls>Your browser does not support the audio element.</audio>\n",
    "[dansu-all-you-got_15.mp3](dansu-all-you-got_15.mp3)"
   ]
  },
  {
   "cell_type": "code",
   "execution_count": 604,
   "metadata": {},
   "outputs": [
    {
     "name": "stdout",
     "output_type": "stream",
     "text": [
      "Frecuencia de muestreo 44100.00[Hz]\n",
      "audio dansu-all-you-got_15.wav\n"
     ]
    }
   ],
   "source": [
    "nombre_in = \"dansu-all-you-got_15.mp3\"\n",
    "nombre_out = \"dansu-all-you-got_15.wav\"\n",
    "command_consola = \"ffmpeg -i \" + nombre_in +\" \"+ nombre_out\n",
    "os.system(command_consola)\n",
    "\n",
    "import soundfile as sf \n",
    "x47, fs47 = sf.read('dansu-all-you-got_15.wav')\n",
    "x47=x47[0:mmax,:]\n",
    "print('Frecuencia de muestreo %.2f[Hz]\\naudio %s' % (fs47,nombre_out))"
   ]
  },
  {
   "cell_type": "code",
   "execution_count": 605,
   "metadata": {},
   "outputs": [],
   "source": [
    "xpro47 = x47.copy() \n",
    "Xw47 = np.fft.rfft(xpro47,axis=0) \n",
    "vf47 = np.fft.rfftfreq(np.size(xpro47,0),1/fs47)\n",
    "xwm47 = (abs(Xw47[:,[0]]))\n",
    "xwmt47 = np.transpose(xwm47)\n",
    "xwmm47 = (abs(Xw47[:,[1]]))\n",
    "xwmy47 = np.transpose(xwmm47)"
   ]
  },
  {
   "cell_type": "markdown",
   "metadata": {},
   "source": [
    "<audio src=\"dansu-all-you-got_16.mp3\" controls>Your browser does not support the audio element.</audio>\n",
    "[dansu-all-you-got_16.mp3](dansu-all-you-got_16.mp3)"
   ]
  },
  {
   "cell_type": "code",
   "execution_count": 606,
   "metadata": {},
   "outputs": [
    {
     "name": "stdout",
     "output_type": "stream",
     "text": [
      "Frecuencia de muestreo 44100.00[Hz]\n",
      "audio dansu-all-you-got_16.wav\n"
     ]
    }
   ],
   "source": [
    "nombre_in = \"dansu-all-you-got_16.mp3\"\n",
    "nombre_out = \"dansu-all-you-got_16.wav\"\n",
    "command_consola = \"ffmpeg -i \" + nombre_in +\" \"+ nombre_out\n",
    "os.system(command_consola)\n",
    "\n",
    "import soundfile as sf \n",
    "x48, fs48 = sf.read('dansu-all-you-got_16.wav')\n",
    "x48=x48[0:mmax,:]\n",
    "print('Frecuencia de muestreo %.2f[Hz]\\naudio %s' % (fs48,nombre_out))"
   ]
  },
  {
   "cell_type": "code",
   "execution_count": 607,
   "metadata": {},
   "outputs": [],
   "source": [
    "xpro48 = x48.copy() \n",
    "Xw48 = np.fft.rfft(xpro48,axis=0) \n",
    "vf48 = np.fft.rfftfreq(np.size(xpro48,0),1/fs48)\n",
    "xwm48 = (abs(Xw48[:,[0]]))\n",
    "xwmt48 = np.transpose(xwm48)\n",
    "xwmm48 = (abs(Xw48[:,[1]]))\n",
    "xwmy48 = np.transpose(xwmm48)\n"
   ]
  },
  {
   "cell_type": "markdown",
   "metadata": {},
   "source": [
    "<audio src=\"dansu-all-you-got_17.mp3\" controls>Your browser does not support the audio element.</audio>\n",
    "[dansu-all-you-got_17.mp3](dansu-all-you-got_17.mp3)"
   ]
  },
  {
   "cell_type": "code",
   "execution_count": 608,
   "metadata": {},
   "outputs": [
    {
     "name": "stdout",
     "output_type": "stream",
     "text": [
      "Frecuencia de muestreo 44100.00[Hz]\n",
      "audio dansu-all-you-got_17.wav\n"
     ]
    }
   ],
   "source": [
    "nombre_in = \"dansu-all-you-got_17.mp3\"\n",
    "nombre_out = \"dansu-all-you-got_17.wav\"\n",
    "command_consola = \"ffmpeg -i \" + nombre_in +\" \"+ nombre_out\n",
    "os.system(command_consola)\n",
    "\n",
    "import soundfile as sf \n",
    "x49, fs49 = sf.read('dansu-all-you-got_17.wav')\n",
    "x49=x49[0:mmax,:]\n",
    "print('Frecuencia de muestreo %.2f[Hz]\\naudio %s' % (fs49,nombre_out))"
   ]
  },
  {
   "cell_type": "code",
   "execution_count": 609,
   "metadata": {},
   "outputs": [],
   "source": [
    "xpro49 = x49.copy() \n",
    "Xw49 = np.fft.rfft(xpro49,axis=0) \n",
    "vf49 = np.fft.rfftfreq(np.size(xpro49,0),1/fs49)\n",
    "xwm49 = (abs(Xw49[:,[0]]))\n",
    "xwmt49 = np.transpose(xwm49)\n",
    "xwmm49 = (abs(Xw49[:,[1]]))\n",
    "xwmy49 = np.transpose(xwmm49)"
   ]
  },
  {
   "cell_type": "markdown",
   "metadata": {},
   "source": [
    "<audio src=\"dansu-all-you-got_18.mp3\" controls>Your browser does not support the audio element.</audio>\n",
    "[dansu-all-you-got_18.mp3](dansu-all-you-got_18.mp3)"
   ]
  },
  {
   "cell_type": "code",
   "execution_count": 610,
   "metadata": {},
   "outputs": [
    {
     "name": "stdout",
     "output_type": "stream",
     "text": [
      "Frecuencia de muestreo 44100.00[Hz]\n",
      "audio dansu-all-you-got_18.wav\n"
     ]
    }
   ],
   "source": [
    "nombre_in = \"dansu-all-you-got_18.mp3\"\n",
    "nombre_out = \"dansu-all-you-got_18.wav\"\n",
    "command_consola = \"ffmpeg -i \" + nombre_in +\" \"+ nombre_out\n",
    "os.system(command_consola)\n",
    "\n",
    "import soundfile as sf \n",
    "x50, fs50 = sf.read('dansu-all-you-got_18.wav')\n",
    "x50=x50[0:mmax,:]\n",
    "print('Frecuencia de muestreo %.2f[Hz]\\naudio %s' % (fs50,nombre_out))"
   ]
  },
  {
   "cell_type": "code",
   "execution_count": 611,
   "metadata": {},
   "outputs": [],
   "source": [
    "xpro50 = x50.copy() \n",
    "Xw50 = np.fft.rfft(xpro50,axis=0) \n",
    "vf50 = np.fft.rfftfreq(np.size(xpro50,0),1/fs50)\n",
    "xwm50 = (abs(Xw50[:,[0]]))\n",
    "xwmt50 = np.transpose(xwm50)\n",
    "xwmm50 = (abs(Xw50[:,[1]]))\n",
    "xwmy50 = np.transpose(xwmm50)"
   ]
  },
  {
   "cell_type": "markdown",
   "metadata": {},
   "source": [
    "<audio src=\"dansu-all-you-got_19.mp3\" controls>Your browser does not support the audio element.</audio>\n",
    "[dansu-all-you-got_19.mp3](dansu-all-you-got_19.mp3)"
   ]
  },
  {
   "cell_type": "code",
   "execution_count": 612,
   "metadata": {},
   "outputs": [
    {
     "name": "stdout",
     "output_type": "stream",
     "text": [
      "Frecuencia de muestreo 44100.00[Hz]\n",
      "audio dansu-all-you-got_19.wav\n"
     ]
    }
   ],
   "source": [
    "nombre_in = \"dansu-all-you-got_19.mp3\"\n",
    "nombre_out = \"dansu-all-you-got_19.wav\"\n",
    "command_consola = \"ffmpeg -i \" + nombre_in +\" \"+ nombre_out\n",
    "os.system(command_consola)\n",
    "\n",
    "import soundfile as sf \n",
    "x51, fs51 = sf.read('dansu-all-you-got_19.wav')\n",
    "x51=x51[0:mmax,:]\n",
    "print('Frecuencia de muestreo %.2f[Hz]\\naudio %s' % (fs51,nombre_out))"
   ]
  },
  {
   "cell_type": "code",
   "execution_count": 613,
   "metadata": {},
   "outputs": [],
   "source": [
    "xpro51 = x51.copy() \n",
    "Xw51 = np.fft.rfft(xpro51,axis=0) \n",
    "vf51 = np.fft.rfftfreq(np.size(xpro51,0),1/fs51)\n",
    "xwm51 = (abs(Xw51[:,[0]]))\n",
    "xwmt51 = np.transpose(xwm51)\n",
    "xwmm51 = (abs(Xw51[:,[1]]))\n",
    "xwmy51 = np.transpose(xwmm51)"
   ]
  },
  {
   "cell_type": "markdown",
   "metadata": {},
   "source": [
    "<audio src=\"dansu-do-do-do_1.mp3\" controls>Your browser does not support the audio element.</audio>\n",
    "[dansu-do-do-do_1.mp3](dansu-do-do-do_1.mp3)"
   ]
  },
  {
   "cell_type": "code",
   "execution_count": 614,
   "metadata": {},
   "outputs": [
    {
     "name": "stdout",
     "output_type": "stream",
     "text": [
      "Frecuencia de muestreo 44100.00[Hz]\n",
      "audio dansu-do-do-do_1.wav\n"
     ]
    }
   ],
   "source": [
    "nombre_in = \"dansu-do-do-do_1.mp3\"\n",
    "nombre_out = \"dansu-do-do-do_1.wav\"\n",
    "command_consola = \"ffmpeg -i \" + nombre_in +\" \"+ nombre_out\n",
    "os.system(command_consola)\n",
    "\n",
    "import soundfile as sf \n",
    "x52, fs52 = sf.read('dansu-do-do-do_1.wav')\n",
    "x52=x52[0:mmax,:]\n",
    "print('Frecuencia de muestreo %.2f[Hz]\\naudio %s' % (fs52,nombre_out))"
   ]
  },
  {
   "cell_type": "code",
   "execution_count": 615,
   "metadata": {},
   "outputs": [],
   "source": [
    "xpro52 = x52.copy() \n",
    "Xw52 = np.fft.rfft(xpro52,axis=0) \n",
    "vf52 = np.fft.rfftfreq(np.size(xpro52,0),1/fs52)\n",
    "xwm52 = (abs(Xw52[:,[0]]))\n",
    "xwmt52 = np.transpose(xwm52)\n",
    "xwmm52 = (abs(Xw52[:,[1]]))\n",
    "xwmy52 = np.transpose(xwmm52)"
   ]
  },
  {
   "cell_type": "markdown",
   "metadata": {},
   "source": [
    "<audio src=\"dansu-do-do-do_2.mp3\" controls>Your browser does not support the audio element.</audio>\n",
    "[dansu-do-do-do_2.mp3](dansu-do-do-do_2.mp3)"
   ]
  },
  {
   "cell_type": "code",
   "execution_count": 616,
   "metadata": {},
   "outputs": [
    {
     "name": "stdout",
     "output_type": "stream",
     "text": [
      "Frecuencia de muestreo 44100.00[Hz]\n",
      "audio dansu-do-do-do_2.wav\n"
     ]
    }
   ],
   "source": [
    "nombre_in = \"dansu-do-do-do_2.mp3\"\n",
    "nombre_out = \"dansu-do-do-do_2.wav\"\n",
    "command_consola = \"ffmpeg -i \" + nombre_in +\" \"+ nombre_out\n",
    "os.system(command_consola)\n",
    "\n",
    "import soundfile as sf \n",
    "x53, fs53 = sf.read('dansu-do-do-do_2.wav')\n",
    "x53=x53[0:mmax,:]\n",
    "print('Frecuencia de muestreo %.2f[Hz]\\naudio %s' % (fs53,nombre_out))"
   ]
  },
  {
   "cell_type": "code",
   "execution_count": 617,
   "metadata": {},
   "outputs": [],
   "source": [
    "xpro53 = x53.copy() \n",
    "Xw53 = np.fft.rfft(xpro53,axis=0) \n",
    "vf53 = np.fft.rfftfreq(np.size(xpro53,0),1/fs53)\n",
    "xwm53 = (abs(Xw53[:,[0]]))\n",
    "xwmt53 = np.transpose(xwm53)\n",
    "xwmm53 = (abs(Xw53[:,[1]]))\n",
    "xwmy53 = np.transpose(xwmm53)"
   ]
  },
  {
   "cell_type": "markdown",
   "metadata": {},
   "source": [
    "<audio src=\"dansu-do-do-do_3.mp3\" controls>Your browser does not support the audio element.</audio>\n",
    "[dansu-do-do-do_3.mp3](dansu-do-do-do_3.mp3)"
   ]
  },
  {
   "cell_type": "code",
   "execution_count": 618,
   "metadata": {},
   "outputs": [
    {
     "name": "stdout",
     "output_type": "stream",
     "text": [
      "Frecuencia de muestreo 44100.00[Hz]\n",
      "audio dansu-do-do-do_3.wav\n"
     ]
    }
   ],
   "source": [
    "nombre_in = \"dansu-do-do-do_3.mp3\"\n",
    "nombre_out = \"dansu-do-do-do_3.wav\"\n",
    "command_consola = \"ffmpeg -i \" + nombre_in +\" \"+ nombre_out\n",
    "os.system(command_consola)\n",
    "\n",
    "import soundfile as sf \n",
    "x54, fs54 = sf.read('dansu-do-do-do_3.wav')\n",
    "x54=x54[0:mmax,:]\n",
    "print('Frecuencia de muestreo %.2f[Hz]\\naudio %s' % (fs54,nombre_out))"
   ]
  },
  {
   "cell_type": "code",
   "execution_count": 619,
   "metadata": {},
   "outputs": [],
   "source": [
    "xpro54 = x54.copy() \n",
    "Xw54 = np.fft.rfft(xpro54,axis=0) \n",
    "vf54 = np.fft.rfftfreq(np.size(xpro54,0),1/fs54)\n",
    "xwm54 = (abs(Xw54[:,[0]]))\n",
    "xwmt54 = np.transpose(xwm54)\n",
    "xwmm54 = (abs(Xw54[:,[1]]))\n",
    "xwmy54 = np.transpose(xwmm54)"
   ]
  },
  {
   "cell_type": "markdown",
   "metadata": {},
   "source": [
    "<audio src=\"dansu-do-do-do_4.mp3\" controls>Your browser does not support the audio element.</audio>\n",
    "[dansu-do-do-do_4.mp3](dansu-do-do-do_4.mp3)"
   ]
  },
  {
   "cell_type": "code",
   "execution_count": 620,
   "metadata": {},
   "outputs": [
    {
     "name": "stdout",
     "output_type": "stream",
     "text": [
      "Frecuencia de muestreo 44100.00[Hz]\n",
      "audio dansu-do-do-do_4.wav\n"
     ]
    }
   ],
   "source": [
    "nombre_in = \"dansu-do-do-do_4.mp3\"\n",
    "nombre_out = \"dansu-do-do-do_4.wav\"\n",
    "command_consola = \"ffmpeg -i \" + nombre_in +\" \"+ nombre_out\n",
    "os.system(command_consola)\n",
    "\n",
    "import soundfile as sf \n",
    "x55, fs55 = sf.read('dansu-do-do-do_4.wav')\n",
    "x55=x55[0:mmax,:]\n",
    "print('Frecuencia de muestreo %.2f[Hz]\\naudio %s' % (fs55,nombre_out))"
   ]
  },
  {
   "cell_type": "code",
   "execution_count": 621,
   "metadata": {},
   "outputs": [],
   "source": [
    "xpro55 = x55.copy() \n",
    "Xw55 = np.fft.rfft(xpro55,axis=0) \n",
    "vf55 = np.fft.rfftfreq(np.size(xpro55,0),1/fs55)\n",
    "xwm55 = (abs(Xw55[:,[0]]))\n",
    "xwmt55 = np.transpose(xwm55)\n",
    "xwmm55 = (abs(Xw55[:,[1]]))\n",
    "xwmy55 = np.transpose(xwmm55)"
   ]
  },
  {
   "cell_type": "markdown",
   "metadata": {},
   "source": [
    "<audio src=\"dansu-do-do-do_5.mp3\" controls>Your browser does not support the audio element.</audio>\n",
    "[dansu-do-do-do_5.mp3](dansu-do-do-do_5.mp3)"
   ]
  },
  {
   "cell_type": "code",
   "execution_count": 622,
   "metadata": {},
   "outputs": [
    {
     "name": "stdout",
     "output_type": "stream",
     "text": [
      "Frecuencia de muestreo 44100.00[Hz]\n",
      "audio dansu-do-do-do_5.wav\n"
     ]
    }
   ],
   "source": [
    "nombre_in = \"dansu-do-do-do_5.mp3\"\n",
    "nombre_out = \"dansu-do-do-do_5.wav\"\n",
    "command_consola = \"ffmpeg -i \" + nombre_in +\" \"+ nombre_out\n",
    "os.system(command_consola)\n",
    "\n",
    "import soundfile as sf \n",
    "x56, fs56 = sf.read('dansu-do-do-do_5.wav')\n",
    "x56=x56[0:mmax,:]\n",
    "print('Frecuencia de muestreo %.2f[Hz]\\naudio %s' % (fs56,nombre_out))"
   ]
  },
  {
   "cell_type": "code",
   "execution_count": 623,
   "metadata": {},
   "outputs": [],
   "source": [
    "xpro56 = x56.copy() \n",
    "Xw56 = np.fft.rfft(xpro56,axis=0) \n",
    "vf56 = np.fft.rfftfreq(np.size(xpro56,0),1/fs56)\n",
    "xwm56 = (abs(Xw56[:,[0]]))\n",
    "xwmt56 = np.transpose(xwm56)\n",
    "xwmm56 = (abs(Xw56[:,[1]]))\n",
    "xwmy56 = np.transpose(xwmm56)"
   ]
  },
  {
   "cell_type": "markdown",
   "metadata": {},
   "source": [
    "<audio src=\"dansu-do-do-do_6.mp3\" controls>Your browser does not support the audio element.</audio>\n",
    "[dansu-do-do-do_6.mp3](dansu-do-do-do_6.mp3)"
   ]
  },
  {
   "cell_type": "code",
   "execution_count": 624,
   "metadata": {},
   "outputs": [
    {
     "name": "stdout",
     "output_type": "stream",
     "text": [
      "Frecuencia de muestreo 44100.00[Hz]\n",
      "audio dansu-do-do-do_6.wav\n"
     ]
    }
   ],
   "source": [
    "nombre_in = \"dansu-do-do-do_6.mp3\"\n",
    "nombre_out = \"dansu-do-do-do_6.wav\"\n",
    "command_consola = \"ffmpeg -i \" + nombre_in +\" \"+ nombre_out\n",
    "os.system(command_consola)\n",
    "\n",
    "import soundfile as sf \n",
    "x57, fs57 = sf.read('dansu-do-do-do_6.wav')\n",
    "x57=x57[0:mmax,:]\n",
    "print('Frecuencia de muestreo %.2f[Hz]\\naudio %s' % (fs57,nombre_out))"
   ]
  },
  {
   "cell_type": "code",
   "execution_count": 625,
   "metadata": {},
   "outputs": [],
   "source": [
    "xpro57 = x57.copy() \n",
    "Xw57 = np.fft.rfft(xpro57,axis=0) \n",
    "vf57 = np.fft.rfftfreq(np.size(xpro57,0),1/fs57)\n",
    "xwm57 = (abs(Xw57[:,[0]]))\n",
    "xwmt57 = np.transpose(xwm57)\n",
    "xwmm57 = (abs(Xw57[:,[1]]))\n",
    "xwmy57 = np.transpose(xwmm57)"
   ]
  },
  {
   "cell_type": "markdown",
   "metadata": {},
   "source": [
    "<audio src=\"dansu-do-do-do_7.mp3\" controls>Your browser does not support the audio element.</audio>\n",
    "[dansu-do-do-do_7.mp3](dansu-do-do-do_7.mp3)"
   ]
  },
  {
   "cell_type": "code",
   "execution_count": 626,
   "metadata": {},
   "outputs": [
    {
     "name": "stdout",
     "output_type": "stream",
     "text": [
      "Frecuencia de muestreo 44100.00[Hz]\n",
      "audio dansu-do-do-do_7.wav\n"
     ]
    }
   ],
   "source": [
    "nombre_in = \"dansu-do-do-do_7.mp3\"\n",
    "nombre_out = \"dansu-do-do-do_7.wav\"\n",
    "command_consola = \"ffmpeg -i \" + nombre_in +\" \"+ nombre_out\n",
    "os.system(command_consola)\n",
    "\n",
    "import soundfile as sf \n",
    "x58, fs58 = sf.read('dansu-do-do-do_7.wav')\n",
    "x58=x58[0:mmax,:]\n",
    "print('Frecuencia de muestreo %.2f[Hz]\\naudio %s' % (fs58,nombre_out))"
   ]
  },
  {
   "cell_type": "code",
   "execution_count": 627,
   "metadata": {},
   "outputs": [],
   "source": [
    "xpro58 = x58.copy() \n",
    "Xw58 = np.fft.rfft(xpro58,axis=0) \n",
    "vf58 = np.fft.rfftfreq(np.size(xpro58,0),1/fs58)\n",
    "xwm58 = (abs(Xw58[:,[0]]))\n",
    "xwmt58 = np.transpose(xwm58)\n",
    "xwmm58 = (abs(Xw58[:,[1]]))\n",
    "xwmy58 = np.transpose(xwmm58)"
   ]
  },
  {
   "cell_type": "markdown",
   "metadata": {},
   "source": [
    "<audio src=\"dansu-do-do-do_8.mp3\" controls>Your browser does not support the audio element.</audio>\n",
    "[dansu-do-do-do_8.mp3](dansu-do-do-do_8.mp3)"
   ]
  },
  {
   "cell_type": "code",
   "execution_count": 628,
   "metadata": {},
   "outputs": [
    {
     "name": "stdout",
     "output_type": "stream",
     "text": [
      "Frecuencia de muestreo 44100.00[Hz]\n",
      "audio dansu-do-do-do_8.wav\n"
     ]
    }
   ],
   "source": [
    "nombre_in = \"dansu-do-do-do_8.mp3\"\n",
    "nombre_out = \"dansu-do-do-do_8.wav\"\n",
    "command_consola = \"ffmpeg -i \" + nombre_in +\" \"+ nombre_out\n",
    "os.system(command_consola)\n",
    "\n",
    "import soundfile as sf \n",
    "x59, fs59 = sf.read('dansu-do-do-do_8.wav')\n",
    "x59=x59[0:mmax,:]\n",
    "print('Frecuencia de muestreo %.2f[Hz]\\naudio %s' % (fs59,nombre_out))"
   ]
  },
  {
   "cell_type": "code",
   "execution_count": 629,
   "metadata": {},
   "outputs": [],
   "source": [
    "xpro59 = x59.copy() \n",
    "Xw59 = np.fft.rfft(xpro59,axis=0) \n",
    "vf59 = np.fft.rfftfreq(np.size(xpro59,0),1/fs59)\n",
    "xwm59 = (abs(Xw59[:,[0]]))\n",
    "xwmt59 = np.transpose(xwm59)\n",
    "xwmm59 = (abs(Xw59[:,[1]]))\n",
    "xwmy59 = np.transpose(xwmm59)"
   ]
  },
  {
   "cell_type": "markdown",
   "metadata": {},
   "source": [
    "<audio src=\"dansu-do-do-do_9.mp3\" controls>Your browser does not support the audio element.</audio>\n",
    "[dansu-do-do-do_9.mp3](dansu-do-do-do_9.mp3)"
   ]
  },
  {
   "cell_type": "code",
   "execution_count": 630,
   "metadata": {},
   "outputs": [
    {
     "name": "stdout",
     "output_type": "stream",
     "text": [
      "Frecuencia de muestreo 44100.00[Hz]\n",
      "audio dansu-do-do-do_9.wav\n"
     ]
    }
   ],
   "source": [
    "nombre_in = \"dansu-do-do-do_9.mp3\"\n",
    "nombre_out = \"dansu-do-do-do_9.wav\"\n",
    "command_consola = \"ffmpeg -i \" + nombre_in +\" \"+ nombre_out\n",
    "os.system(command_consola)\n",
    "\n",
    "import soundfile as sf \n",
    "x60, fs60 = sf.read('dansu-do-do-do_9.wav')\n",
    "x60=x60[0:mmax,:]\n",
    "print('Frecuencia de muestreo %.2f[Hz]\\naudio %s' % (fs60,nombre_out))"
   ]
  },
  {
   "cell_type": "code",
   "execution_count": 631,
   "metadata": {},
   "outputs": [],
   "source": [
    "xpro60 = x60.copy() \n",
    "Xw60 = np.fft.rfft(xpro60,axis=0) \n",
    "vf60 = np.fft.rfftfreq(np.size(xpro60,0),1/fs60)\n",
    "xwm60 = (abs(Xw60[:,[0]]))\n",
    "xwmt60 = np.transpose(xwm60)\n",
    "xwmm60 = (abs(Xw60[:,[1]]))\n",
    "xwmy60 = np.transpose(xwmm60)"
   ]
  },
  {
   "cell_type": "markdown",
   "metadata": {},
   "source": [
    "<audio src=\"dansu-do-do-do_10.mp3\" controls>Your browser does not support the audio element.</audio>\n",
    "[dansu-do-do-do_10.mp3](dansu-do-do-do_10.mp3)"
   ]
  },
  {
   "cell_type": "code",
   "execution_count": 632,
   "metadata": {},
   "outputs": [
    {
     "name": "stdout",
     "output_type": "stream",
     "text": [
      "Frecuencia de muestreo 44100.00[Hz]\n",
      "audio dansu-do-do-do_10.wav\n"
     ]
    }
   ],
   "source": [
    "nombre_in = \"dansu-do-do-do_10.mp3\"\n",
    "nombre_out = \"dansu-do-do-do_10.wav\"\n",
    "command_consola = \"ffmpeg -i \" + nombre_in +\" \"+ nombre_out\n",
    "os.system(command_consola)\n",
    "\n",
    "import soundfile as sf \n",
    "x61, fs61 = sf.read('dansu-do-do-do_10.wav')\n",
    "x61=x61[0:mmax,:]\n",
    "print('Frecuencia de muestreo %.2f[Hz]\\naudio %s' % (fs61,nombre_out))"
   ]
  },
  {
   "cell_type": "code",
   "execution_count": 633,
   "metadata": {},
   "outputs": [],
   "source": [
    "xpro61 = x61.copy() \n",
    "Xw61 = np.fft.rfft(xpro61,axis=0) \n",
    "vf61 = np.fft.rfftfreq(np.size(xpro61,0),1/fs61)\n",
    "xwm61 = (abs(Xw61[:,[0]]))\n",
    "xwmt61 = np.transpose(xwm61)\n",
    "xwmm61 = (abs(Xw61[:,[1]]))\n",
    "xwmy61 = np.transpose(xwmm61)\n"
   ]
  },
  {
   "cell_type": "markdown",
   "metadata": {},
   "source": [
    "<audio src=\"dansu-do-do-do_11.mp3\" controls>Your browser does not support the audio element.</audio>\n",
    "[dansu-do-do-do_11.mp3](dansu-do-do-do_11.mp3)"
   ]
  },
  {
   "cell_type": "code",
   "execution_count": 634,
   "metadata": {},
   "outputs": [
    {
     "name": "stdout",
     "output_type": "stream",
     "text": [
      "Frecuencia de muestreo 44100.00[Hz]\n",
      "audio dansu-do-do-do_11.wav\n"
     ]
    }
   ],
   "source": [
    "nombre_in = \"dansu-do-do-do_11.mp3\"\n",
    "nombre_out = \"dansu-do-do-do_11.wav\"\n",
    "command_consola = \"ffmpeg -i \" + nombre_in +\" \"+ nombre_out\n",
    "os.system(command_consola)\n",
    "\n",
    "import soundfile as sf \n",
    "x62, fs62 = sf.read('dansu-do-do-do_11.wav')\n",
    "x62=x62[0:mmax,:]\n",
    "print('Frecuencia de muestreo %.2f[Hz]\\naudio %s' % (fs62,nombre_out))"
   ]
  },
  {
   "cell_type": "code",
   "execution_count": 635,
   "metadata": {},
   "outputs": [],
   "source": [
    "xpro62 = x62.copy() \n",
    "Xw62 = np.fft.rfft(xpro62,axis=0) \n",
    "vf62 = np.fft.rfftfreq(np.size(xpro62,0),1/fs62)\n",
    "xwm62 = (abs(Xw62[:,[0]]))\n",
    "xwmt62 = np.transpose(xwm62)\n",
    "xwmm62 = (abs(Xw62[:,[1]]))\n",
    "xwmy62 = np.transpose(xwmm62)"
   ]
  },
  {
   "cell_type": "markdown",
   "metadata": {},
   "source": [
    "<audio src=\"dansu-do-do-do_12.mp3\" controls>Your browser does not support the audio element.</audio>\n",
    "[dansu-do-do-do_12.mp3](dansu-do-do-do_12.mp3)"
   ]
  },
  {
   "cell_type": "code",
   "execution_count": 636,
   "metadata": {},
   "outputs": [
    {
     "name": "stdout",
     "output_type": "stream",
     "text": [
      "Frecuencia de muestreo 44100.00[Hz]\n",
      "audio dansu-do-do-do_12.wav\n"
     ]
    }
   ],
   "source": [
    "nombre_in = \"dansu-do-do-do_12.mp3\"\n",
    "nombre_out = \"dansu-do-do-do_12.wav\"\n",
    "command_consola = \"ffmpeg -i \" + nombre_in +\" \"+ nombre_out\n",
    "os.system(command_consola)\n",
    "\n",
    "import soundfile as sf \n",
    "x63, fs63 = sf.read('dansu-do-do-do_12.wav')\n",
    "x63=x63[0:mmax,:]\n",
    "print('Frecuencia de muestreo %.2f[Hz]\\naudio %s' % (fs63,nombre_out))"
   ]
  },
  {
   "cell_type": "code",
   "execution_count": 637,
   "metadata": {},
   "outputs": [],
   "source": [
    "xpro63 = x63.copy() \n",
    "Xw63 = np.fft.rfft(xpro63,axis=0) \n",
    "vf63 = np.fft.rfftfreq(np.size(xpro63,0),1/fs63)\n",
    "xwm63 = (abs(Xw63[:,[0]]))\n",
    "xwmt63 = np.transpose(xwm63)\n",
    "xwmm63 = (abs(Xw63[:,[1]]))\n",
    "xwmy63 = np.transpose(xwmm63)"
   ]
  },
  {
   "cell_type": "markdown",
   "metadata": {},
   "source": [
    "<audio src=\"dansu-do-do-do_13.mp3\" controls>Your browser does not support the audio element.</audio>\n",
    "[dansu-do-do-do_13.mp3](dansu-do-do-do_13.mp3)"
   ]
  },
  {
   "cell_type": "code",
   "execution_count": 638,
   "metadata": {},
   "outputs": [
    {
     "name": "stdout",
     "output_type": "stream",
     "text": [
      "Frecuencia de muestreo 44100.00[Hz]\n",
      "audio dansu-do-do-do_13.wav\n"
     ]
    }
   ],
   "source": [
    "nombre_in = \"dansu-do-do-do_13.mp3\"\n",
    "nombre_out = \"dansu-do-do-do_13.wav\"\n",
    "command_consola = \"ffmpeg -i \" + nombre_in +\" \"+ nombre_out\n",
    "os.system(command_consola)\n",
    "\n",
    "import soundfile as sf \n",
    "x64, fs64 = sf.read('dansu-do-do-do_13.wav')\n",
    "x64=x64[0:mmax,:]\n",
    "print('Frecuencia de muestreo %.2f[Hz]\\naudio %s' % (fs64,nombre_out))"
   ]
  },
  {
   "cell_type": "code",
   "execution_count": 639,
   "metadata": {},
   "outputs": [],
   "source": [
    "xpro64 = x64.copy() \n",
    "Xw64 = np.fft.rfft(xpro64,axis=0) \n",
    "vf64 = np.fft.rfftfreq(np.size(xpro64,0),1/fs64)\n",
    "xwm64 = (abs(Xw64[:,[0]]))\n",
    "xwmt64 = np.transpose(xwm64)\n",
    "xwmm64 = (abs(Xw64[:,[1]]))\n",
    "xwmy64 = np.transpose(xwmm64)"
   ]
  },
  {
   "cell_type": "markdown",
   "metadata": {},
   "source": [
    "<audio src=\"dansu-do-do-do_14.mp3\" controls>Your browser does not support the audio element.</audio>\n",
    "[dansu-do-do-do_14.mp3](dansu-do-do-do_14.mp3)"
   ]
  },
  {
   "cell_type": "code",
   "execution_count": 640,
   "metadata": {},
   "outputs": [
    {
     "name": "stdout",
     "output_type": "stream",
     "text": [
      "Frecuencia de muestreo 44100.00[Hz]\n",
      "audio dansu-do-do-do_14.wav\n"
     ]
    }
   ],
   "source": [
    "nombre_in = \"dansu-do-do-do_14.mp3\"\n",
    "nombre_out = \"dansu-do-do-do_14.wav\"\n",
    "command_consola = \"ffmpeg -i \" + nombre_in +\" \"+ nombre_out\n",
    "os.system(command_consola)\n",
    "\n",
    "import soundfile as sf \n",
    "x65, fs65 = sf.read('dansu-do-do-do_14.wav')\n",
    "x65=x65[0:mmax,:]\n",
    "print('Frecuencia de muestreo %.2f[Hz]\\naudio %s' % (fs65,nombre_out))"
   ]
  },
  {
   "cell_type": "code",
   "execution_count": 641,
   "metadata": {},
   "outputs": [],
   "source": [
    "xpro65 = x65.copy() \n",
    "Xw65 = np.fft.rfft(xpro65,axis=0) \n",
    "vf65 = np.fft.rfftfreq(np.size(xpro65,0),1/fs65)\n",
    "xwm65 = (abs(Xw65[:,[0]]))\n",
    "xwmt65 = np.transpose(xwm65)\n",
    "xwmm65 = (abs(Xw65[:,[1]]))\n",
    "xwmy65 = np.transpose(xwmm65)"
   ]
  },
  {
   "cell_type": "markdown",
   "metadata": {},
   "source": [
    "<audio src=\"dansu-do-do-do_15.mp3\" controls>Your browser does not support the audio element.</audio>\n",
    "[dansu-do-do-do_15.mp3](dansu-do-do-do_15.mp3)"
   ]
  },
  {
   "cell_type": "code",
   "execution_count": 642,
   "metadata": {},
   "outputs": [
    {
     "name": "stdout",
     "output_type": "stream",
     "text": [
      "Frecuencia de muestreo 44100.00[Hz]\n",
      "audio dansu-do-do-do_15.wav\n"
     ]
    }
   ],
   "source": [
    "nombre_in = \"dansu-do-do-do_15.mp3\"\n",
    "nombre_out = \"dansu-do-do-do_15.wav\"\n",
    "command_consola = \"ffmpeg -i \" + nombre_in +\" \"+ nombre_out\n",
    "os.system(command_consola)\n",
    "\n",
    "import soundfile as sf \n",
    "x66, fs66 = sf.read('dansu-do-do-do_15.wav')\n",
    "x66=x66[0:mmax,:]\n",
    "print('Frecuencia de muestreo %.2f[Hz]\\naudio %s' % (fs66,nombre_out))"
   ]
  },
  {
   "cell_type": "code",
   "execution_count": 643,
   "metadata": {},
   "outputs": [],
   "source": [
    "xpro66 = x66.copy() \n",
    "Xw66 = np.fft.rfft(xpro66,axis=0) \n",
    "vf66 = np.fft.rfftfreq(np.size(xpro66,0),1/fs66)\n",
    "xwm66 = (abs(Xw66[:,[0]]))\n",
    "xwmt66 = np.transpose(xwm66)\n",
    "xwmm66 = (abs(Xw66[:,[1]]))\n",
    "xwmy66 = np.transpose(xwmm66)\n",
    "\n"
   ]
  },
  {
   "cell_type": "markdown",
   "metadata": {},
   "source": [
    "<audio src=\"dansu-do-do-do_16.mp3\" controls>Your browser does not support the audio element.</audio>\n",
    "[dansu-do-do-do_16.mp3](dansu-do-do-do_16.mp3)"
   ]
  },
  {
   "cell_type": "code",
   "execution_count": 644,
   "metadata": {},
   "outputs": [
    {
     "name": "stdout",
     "output_type": "stream",
     "text": [
      "Frecuencia de muestreo 44100.00[Hz]\n",
      "audio dansu-do-do-do_16.wav\n"
     ]
    }
   ],
   "source": [
    "nombre_in = \"dansu-do-do-do_16.mp3\"\n",
    "nombre_out = \"dansu-do-do-do_16.wav\"\n",
    "command_consola = \"ffmpeg -i \" + nombre_in +\" \"+ nombre_out\n",
    "os.system(command_consola)\n",
    "\n",
    "import soundfile as sf \n",
    "x67, fs67 = sf.read('dansu-do-do-do_16.wav')\n",
    "x67=x67[0:mmax,:]\n",
    "print('Frecuencia de muestreo %.2f[Hz]\\naudio %s' % (fs67,nombre_out))"
   ]
  },
  {
   "cell_type": "code",
   "execution_count": 645,
   "metadata": {},
   "outputs": [],
   "source": [
    "xpro67 = x67.copy() \n",
    "Xw67 = np.fft.rfft(xpro67,axis=0) \n",
    "vf67 = np.fft.rfftfreq(np.size(xpro67,0),1/fs67)\n",
    "xwm67 = (abs(Xw67[:,[0]]))\n",
    "xwmt67 = np.transpose(xwm67)\n",
    "xwmm67 = (abs(Xw67[:,[1]]))\n",
    "xwmy67 = np.transpose(xwmm67)"
   ]
  },
  {
   "cell_type": "markdown",
   "metadata": {},
   "source": [
    "<audio src=\"dansu-do-do-do_17.mp3\" controls>Your browser does not support the audio element.</audio>\n",
    "[dansu-do-do-do_17.mp3](dansu-do-do-do_17.mp3)"
   ]
  },
  {
   "cell_type": "code",
   "execution_count": 646,
   "metadata": {},
   "outputs": [
    {
     "name": "stdout",
     "output_type": "stream",
     "text": [
      "Frecuencia de muestreo 44100.00[Hz]\n",
      "audio dansu-do-do-do_17.wav\n"
     ]
    }
   ],
   "source": [
    "nombre_in = \"dansu-do-do-do_17.mp3\"\n",
    "nombre_out = \"dansu-do-do-do_17.wav\"\n",
    "command_consola = \"ffmpeg -i \" + nombre_in +\" \"+ nombre_out\n",
    "os.system(command_consola)\n",
    "\n",
    "import soundfile as sf \n",
    "x68, fs68 = sf.read('dansu-do-do-do_17.wav')\n",
    "x68=x68[0:mmax,:]\n",
    "print('Frecuencia de muestreo %.2f[Hz]\\naudio %s' % (fs68,nombre_out))"
   ]
  },
  {
   "cell_type": "code",
   "execution_count": 647,
   "metadata": {},
   "outputs": [],
   "source": [
    "xpro68 = x68.copy() \n",
    "Xw68 = np.fft.rfft(xpro68,axis=0) \n",
    "vf68 = np.fft.rfftfreq(np.size(xpro68,0),1/fs68)\n",
    "xwm68 = (abs(Xw68[:,[0]]))\n",
    "xwmt68 = np.transpose(xwm68)\n",
    "xwmm68 = (abs(Xw68[:,[1]]))\n",
    "xwmy68 = np.transpose(xwmm68)"
   ]
  },
  {
   "cell_type": "markdown",
   "metadata": {},
   "source": [
    "<audio src=\"dansu-do-do-do_18.mp3\" controls>Your browser does not support the audio element.</audio>\n",
    "[dansu-do-do-do_18.mp3](dansu-do-do-do_18.mp3)"
   ]
  },
  {
   "cell_type": "code",
   "execution_count": 648,
   "metadata": {},
   "outputs": [
    {
     "name": "stdout",
     "output_type": "stream",
     "text": [
      "Frecuencia de muestreo 44100.00[Hz]\n",
      "audio dansu-do-do-do_18.wav\n"
     ]
    }
   ],
   "source": [
    "nombre_in = \"dansu-do-do-do_18.mp3\"\n",
    "nombre_out = \"dansu-do-do-do_18.wav\"\n",
    "command_consola = \"ffmpeg -i \" + nombre_in +\" \"+ nombre_out\n",
    "os.system(command_consola)\n",
    "\n",
    "import soundfile as sf \n",
    "x69, fs69 = sf.read('dansu-do-do-do_18.wav')\n",
    "x69=x69[0:mmax,:]\n",
    "print('Frecuencia de muestreo %.2f[Hz]\\naudio %s' % (fs69,nombre_out))"
   ]
  },
  {
   "cell_type": "code",
   "execution_count": 649,
   "metadata": {},
   "outputs": [],
   "source": [
    "xpro69 = x69.copy() \n",
    "Xw69 = np.fft.rfft(xpro69,axis=0) \n",
    "vf69 = np.fft.rfftfreq(np.size(xpro69,0),1/fs69)\n",
    "xwm69 = (abs(Xw69[:,[0]]))\n",
    "xwmt69 = np.transpose(xwm69)\n",
    "xwmm69 = (abs(Xw69[:,[1]]))\n",
    "xwmy69 = np.transpose(xwmm69)"
   ]
  },
  {
   "cell_type": "markdown",
   "metadata": {},
   "source": [
    "<audio src=\"DONT.mp3\" controls>Your browser does not support the audio element.</audio>\n",
    "[DONT.mp3](DONT.mp3)"
   ]
  },
  {
   "cell_type": "code",
   "execution_count": 650,
   "metadata": {},
   "outputs": [
    {
     "name": "stdout",
     "output_type": "stream",
     "text": [
      "Frecuencia de muestreo 44100.00[Hz]\n",
      "audio DONT.wav\n"
     ]
    }
   ],
   "source": [
    "nombre_in = \"DONT.mp3\"\n",
    "nombre_out = \"DONT.wav\"\n",
    "command_consola = \"ffmpeg -i \" + nombre_in +\" \"+ nombre_out\n",
    "os.system(command_consola)\n",
    "import soundfile as sf \n",
    "x70, fs70 = sf.read('DONT.wav')\n",
    "x70=x70[0:mmax,:]\n",
    "print('Frecuencia de muestreo %.2f[Hz]\\naudio %s' % (fs70,nombre_out))"
   ]
  },
  {
   "cell_type": "code",
   "execution_count": 651,
   "metadata": {},
   "outputs": [],
   "source": [
    "xpro70 = x70.copy() \n",
    "Xw70 = np.fft.rfft(xpro70,axis=0) \n",
    "vf70 = np.fft.rfftfreq(np.size(xpro70,0),1/fs70)\n",
    "xwm70 = (abs(Xw70[:,[0]]))\n",
    "xwmt70 = np.transpose(xwm70)\n",
    "xwmm70 = (abs(Xw70[:,[1]]))\n",
    "xwmy70 = np.transpose(xwmm70)"
   ]
  },
  {
   "cell_type": "markdown",
   "metadata": {},
   "source": [
    "<audio src=\"DONT1.mp3\" controls>Your browser does not support the audio element.</audio>\n",
    "[DONT1.mp3](DONT1.mp3)"
   ]
  },
  {
   "cell_type": "code",
   "execution_count": 652,
   "metadata": {},
   "outputs": [
    {
     "name": "stdout",
     "output_type": "stream",
     "text": [
      "Frecuencia de muestreo 44100.00[Hz]\n",
      "audio DONT1.wav\n"
     ]
    }
   ],
   "source": [
    "nombre_in = \"DONT1.mp3\"\n",
    "nombre_out = \"DONT1.wav\"\n",
    "command_consola = \"ffmpeg -i \" + nombre_in +\" \"+ nombre_out\n",
    "os.system(command_consola)\n",
    "\n",
    "import soundfile as sf \n",
    "x71, fs71 = sf.read('DONT1.wav')\n",
    "x71=x71[0:mmax,:]\n",
    "print('Frecuencia de muestreo %.2f[Hz]\\naudio %s' % (fs71,nombre_out))"
   ]
  },
  {
   "cell_type": "code",
   "execution_count": 653,
   "metadata": {},
   "outputs": [],
   "source": [
    "xpro71 = x71.copy() \n",
    "Xw71 = np.fft.rfft(xpro71,axis=0) \n",
    "vf71 = np.fft.rfftfreq(np.size(xpro71,0),1/fs71)\n",
    "xwm71 = (abs(Xw71[:,[0]]))\n",
    "xwmt71 = np.transpose(xwm71)\n",
    "xwmm71 = (abs(Xw71[:,[1]]))\n",
    "xwmy71 = np.transpose(xwmm71)"
   ]
  },
  {
   "cell_type": "markdown",
   "metadata": {},
   "source": [
    "<audio src=\"DONT2.mp3\" controls>Your browser does not support the audio element.</audio>\n",
    "[DONT2.mp3](DONT2.mp3)"
   ]
  },
  {
   "cell_type": "code",
   "execution_count": 654,
   "metadata": {},
   "outputs": [
    {
     "name": "stdout",
     "output_type": "stream",
     "text": [
      "Frecuencia de muestreo 44100.00[Hz]\n",
      "audio DONT2.wav\n"
     ]
    }
   ],
   "source": [
    "nombre_in = \"DONT2.mp3\"\n",
    "nombre_out = \"DONT2.wav\"\n",
    "command_consola = \"ffmpeg -i \" + nombre_in +\" \"+ nombre_out\n",
    "os.system(command_consola)\n",
    "\n",
    "import soundfile as sf \n",
    "x72, fs72 = sf.read('DONT2.wav')\n",
    "x72=x72[0:mmax,:]\n",
    "print('Frecuencia de muestreo %.2f[Hz]\\naudio %s' % (fs72,nombre_out))"
   ]
  },
  {
   "cell_type": "code",
   "execution_count": 655,
   "metadata": {},
   "outputs": [],
   "source": [
    "xpro72 = x72.copy() \n",
    "Xw72 = np.fft.rfft(xpro72,axis=0) \n",
    "vf72 = np.fft.rfftfreq(np.size(xpro72,0),1/fs72)\n",
    "xwm72 = (abs(Xw72[:,[0]]))\n",
    "xwmt72 = np.transpose(xwm72)\n",
    "xwmm72 = (abs(Xw72[:,[1]]))\n",
    "xwmy72 = np.transpose(xwmm72)"
   ]
  },
  {
   "cell_type": "markdown",
   "metadata": {},
   "source": [
    "<audio src=\"DONT3.mp3\" controls>Your browser does not support the audio element.</audio>\n",
    "[DONT3.mp3](DONT3.mp3)"
   ]
  },
  {
   "cell_type": "code",
   "execution_count": 656,
   "metadata": {},
   "outputs": [
    {
     "name": "stdout",
     "output_type": "stream",
     "text": [
      "Frecuencia de muestreo 44100.00[Hz]\n",
      "audio DONT3.wav\n"
     ]
    }
   ],
   "source": [
    "nombre_in = \"DONT3.mp3\"\n",
    "nombre_out = \"DONT3.wav\"\n",
    "command_consola = \"ffmpeg -i \" + nombre_in +\" \"+ nombre_out\n",
    "os.system(command_consola)\n",
    "\n",
    "import soundfile as sf \n",
    "x73, fs73 = sf.read('DONT3.wav')\n",
    "x73=x73[0:mmax,:]\n",
    "print('Frecuencia de muestreo %.2f[Hz]\\naudio %s' % (fs73,nombre_out))"
   ]
  },
  {
   "cell_type": "code",
   "execution_count": 657,
   "metadata": {},
   "outputs": [],
   "source": [
    "xpro73 = x73.copy() \n",
    "Xw73 = np.fft.rfft(xpro73,axis=0) \n",
    "vf73 = np.fft.rfftfreq(np.size(xpro73,0),1/fs73)\n",
    "xwm73 = (abs(Xw73[:,[0]]))\n",
    "xwmt73 = np.transpose(xwm73)\n",
    "xwmm73 = (abs(Xw73[:,[1]]))\n",
    "xwmy73 = np.transpose(xwmm73)"
   ]
  },
  {
   "cell_type": "markdown",
   "metadata": {},
   "source": [
    "<audio src=\"DONT4.mp3\" controls>Your browser does not support the audio element.</audio>\n",
    "[DONT4.mp3](DONT4.mp3)"
   ]
  },
  {
   "cell_type": "code",
   "execution_count": 658,
   "metadata": {},
   "outputs": [
    {
     "name": "stdout",
     "output_type": "stream",
     "text": [
      "Frecuencia de muestreo 44100.00[Hz]\n",
      "audio DONT4.wav\n"
     ]
    }
   ],
   "source": [
    "nombre_in = \"DONT4.mp3\"\n",
    "nombre_out = \"DONT4.wav\"\n",
    "command_consola = \"ffmpeg -i \" + nombre_in +\" \"+ nombre_out\n",
    "os.system(command_consola)\n",
    "\n",
    "import soundfile as sf \n",
    "x74, fs74 = sf.read('DONT4.wav')\n",
    "x74=x74[0:mmax,:]\n",
    "\n",
    "print('Frecuencia de muestreo %.2f[Hz]\\naudio %s' % (fs74,nombre_out))"
   ]
  },
  {
   "cell_type": "code",
   "execution_count": 659,
   "metadata": {},
   "outputs": [],
   "source": [
    "xpro74 = x74.copy() \n",
    "Xw74 = np.fft.rfft(xpro74,axis=0) \n",
    "vf74 = np.fft.rfftfreq(np.size(xpro74,0),1/fs74)\n",
    "xwm74 = (abs(Xw74[:,[0]]))\n",
    "xwmt74 = np.transpose(xwm74)\n",
    "xwmm74 = (abs(Xw74[:,[1]]))\n",
    "xwmy74 = np.transpose(xwmm74)"
   ]
  },
  {
   "cell_type": "markdown",
   "metadata": {},
   "source": [
    "<audio src=\"DONT5.mp3\" controls>Your browser does not support the audio element.</audio>\n",
    "[DONT5.mp3](DONT5.mp3)"
   ]
  },
  {
   "cell_type": "code",
   "execution_count": 660,
   "metadata": {},
   "outputs": [
    {
     "name": "stdout",
     "output_type": "stream",
     "text": [
      "Frecuencia de muestreo 44100.00[Hz]\n",
      "audio DONT5.wav\n"
     ]
    }
   ],
   "source": [
    "nombre_in = \"DONT5.mp3\"\n",
    "nombre_out = \"DONT5.wav\"\n",
    "command_consola = \"ffmpeg -i \" + nombre_in +\" \"+ nombre_out\n",
    "os.system(command_consola)\n",
    "\n",
    "import soundfile as sf \n",
    "x75, fs75 = sf.read('DONT5.wav')\n",
    "x75=x75[0:mmax,:]\n",
    "print('Frecuencia de muestreo %.2f[Hz]\\naudio %s' % (fs75,nombre_out))"
   ]
  },
  {
   "cell_type": "code",
   "execution_count": 661,
   "metadata": {},
   "outputs": [],
   "source": [
    "xpro75 = x75.copy() \n",
    "Xw75 = np.fft.rfft(xpro75,axis=0) \n",
    "vf75 = np.fft.rfftfreq(np.size(xpro75,0),1/fs75)\n",
    "xwm75 = (abs(Xw75[:,[0]]))\n",
    "xwmt75 = np.transpose(xwm75)\n",
    "xwmm75 = (abs(Xw75[:,[1]]))\n",
    "xwmy75 = np.transpose(xwmm75)"
   ]
  },
  {
   "cell_type": "markdown",
   "metadata": {},
   "source": [
    "<audio src=\"DONT6.mp3\" controls>Your browser does not support the audio element.</audio>\n",
    "[DONT6.mp3](DONT6.mp3)"
   ]
  },
  {
   "cell_type": "code",
   "execution_count": 662,
   "metadata": {},
   "outputs": [
    {
     "name": "stdout",
     "output_type": "stream",
     "text": [
      "Frecuencia de muestreo 44100.00[Hz]\n",
      "audio DONT6.wav\n"
     ]
    }
   ],
   "source": [
    "nombre_in = \"DONT6.mp3\"\n",
    "nombre_out = \"DONT6.wav\"\n",
    "command_consola = \"ffmpeg -i \" + nombre_in +\" \"+ nombre_out\n",
    "os.system(command_consola)\n",
    "\n",
    "import soundfile as sf \n",
    "x76, fs76 = sf.read('DONT6.wav')\n",
    "x76=x76[0:mmax,:]\n",
    "print('Frecuencia de muestreo %.2f[Hz]\\naudio %s' % (fs76,nombre_out))"
   ]
  },
  {
   "cell_type": "code",
   "execution_count": 663,
   "metadata": {},
   "outputs": [],
   "source": [
    "xpro76 = x76.copy() \n",
    "Xw76 = np.fft.rfft(xpro76,axis=0) \n",
    "vf76 = np.fft.rfftfreq(np.size(xpro76,0),1/fs76)\n",
    "xwm76 = (abs(Xw76[:,[0]]))\n",
    "xwmt76 = np.transpose(xwm76)\n",
    "xwmm76 = (abs(Xw76[:,[1]]))\n",
    "xwmy76 = np.transpose(xwmm76)"
   ]
  },
  {
   "cell_type": "markdown",
   "metadata": {},
   "source": [
    "<audio src=\"DONT7.mp3\" controls>Your browser does not support the audio element.</audio>\n",
    "[DONT7.mp3](DONT7.mp3)"
   ]
  },
  {
   "cell_type": "code",
   "execution_count": 664,
   "metadata": {},
   "outputs": [
    {
     "name": "stdout",
     "output_type": "stream",
     "text": [
      "Frecuencia de muestreo 44100.00[Hz]\n",
      "audio DONT7.wav\n"
     ]
    }
   ],
   "source": [
    "nombre_in = \"DONT7.mp3\"\n",
    "nombre_out = \"DONT7.wav\"\n",
    "command_consola = \"ffmpeg -i \" + nombre_in +\" \"+ nombre_out\n",
    "os.system(command_consola)\n",
    "\n",
    "import soundfile as sf \n",
    "x77, fs77 = sf.read('DONT7.wav')\n",
    "x77=x77[0:mmax,:]\n",
    "print('Frecuencia de muestreo %.2f[Hz]\\naudio %s' % (fs77,nombre_out))"
   ]
  },
  {
   "cell_type": "code",
   "execution_count": 665,
   "metadata": {},
   "outputs": [],
   "source": [
    "xpro77 = x77.copy() \n",
    "Xw77 = np.fft.rfft(xpro77,axis=0) \n",
    "vf77 = np.fft.rfftfreq(np.size(xpro77,0),1/fs77)\n",
    "xwm77 = (abs(Xw77[:,[0]]))\n",
    "xwmt77 = np.transpose(xwm77)\n",
    "xwmm77 = (abs(Xw77[:,[1]]))\n",
    "xwmy77 = np.transpose(xwmm77)"
   ]
  },
  {
   "cell_type": "markdown",
   "metadata": {},
   "source": [
    "<audio src=\"DONT8.mp3\" controls>Your browser does not support the audio element.</audio>\n",
    "[DONT8.mp3](DONT8.mp3)"
   ]
  },
  {
   "cell_type": "code",
   "execution_count": 666,
   "metadata": {},
   "outputs": [
    {
     "name": "stdout",
     "output_type": "stream",
     "text": [
      "Frecuencia de muestreo 44100.00[Hz]\n",
      "audio DONT8.wav\n"
     ]
    }
   ],
   "source": [
    "nombre_in = \"DONT8.mp3\"\n",
    "nombre_out = \"DONT8.wav\"\n",
    "command_consola = \"ffmpeg -i \" + nombre_in +\" \"+ nombre_out\n",
    "os.system(command_consola)\n",
    "\n",
    "import soundfile as sf \n",
    "x78, fs78 = sf.read('DONT8.wav')\n",
    "x78=x78[0:mmax,:]\n",
    "print('Frecuencia de muestreo %.2f[Hz]\\naudio %s' % (fs78,nombre_out))"
   ]
  },
  {
   "cell_type": "code",
   "execution_count": 667,
   "metadata": {},
   "outputs": [],
   "source": [
    "xpro78 = x78.copy() \n",
    "Xw78 = np.fft.rfft(xpro78,axis=0) \n",
    "vf78 = np.fft.rfftfreq(np.size(xpro78,0),1/fs78)\n",
    "xwm78 = (abs(Xw78[:,[0]]))\n",
    "xwmt78 = np.transpose(xwm78)\n",
    "xwmm78 = (abs(Xw78[:,[1]]))\n",
    "xwmy78 = np.transpose(xwmm78)"
   ]
  },
  {
   "cell_type": "markdown",
   "metadata": {},
   "source": [
    "<audio src=\"DONT9.mp3\" controls>Your browser does not support the audio element.</audio>\n",
    "[DONT9.mp3](DONT9.mp3)"
   ]
  },
  {
   "cell_type": "code",
   "execution_count": 668,
   "metadata": {},
   "outputs": [
    {
     "name": "stdout",
     "output_type": "stream",
     "text": [
      "Frecuencia de muestreo 44100.00[Hz]\n",
      "audio DONT9.wav\n"
     ]
    }
   ],
   "source": [
    "nombre_in = \"DONT9.mp3\"\n",
    "nombre_out = \"DONT9.wav\"\n",
    "command_consola = \"ffmpeg -i \" + nombre_in +\" \"+ nombre_out\n",
    "os.system(command_consola)\n",
    "\n",
    "import soundfile as sf \n",
    "x79, fs79 = sf.read('DONT9.wav')\n",
    "x79=x79[0:mmax,:]\n",
    "print('Frecuencia de muestreo %.2f[Hz]\\naudio %s' % (fs79,nombre_out))"
   ]
  },
  {
   "cell_type": "code",
   "execution_count": 669,
   "metadata": {},
   "outputs": [],
   "source": [
    "xpro79 = x79.copy() \n",
    "Xw79 = np.fft.rfft(xpro79,axis=0) \n",
    "vf79 = np.fft.rfftfreq(np.size(xpro79,0),1/fs79)\n",
    "xwm79 = (abs(Xw79[:,[0]]))\n",
    "xwmt79 = np.transpose(xwm79)\n",
    "xwmm79 = (abs(Xw79[:,[1]]))\n",
    "xwmy79 = np.transpose(xwmm79)"
   ]
  },
  {
   "cell_type": "markdown",
   "metadata": {},
   "source": [
    "<audio src=\"DONT10.mp3\" controls>Your browser does not support the audio element.</audio>\n",
    "[DONT10.mp3](DONT10.mp3)"
   ]
  },
  {
   "cell_type": "code",
   "execution_count": 670,
   "metadata": {},
   "outputs": [
    {
     "name": "stdout",
     "output_type": "stream",
     "text": [
      "Frecuencia de muestreo 44100.00[Hz]\n",
      "audio DONT10.wav\n"
     ]
    }
   ],
   "source": [
    "nombre_in = \"DONT10.mp3\"\n",
    "nombre_out = \"DONT10.wav\"\n",
    "command_consola = \"ffmpeg -i \" + nombre_in +\" \"+ nombre_out\n",
    "os.system(command_consola)\n",
    "\n",
    "import soundfile as sf \n",
    "x80, fs80 = sf.read('DONT10.wav')\n",
    "x80=x80[0:mmax,:]\n",
    "print('Frecuencia de muestreo %.2f[Hz]\\naudio %s' % (fs80,nombre_out))"
   ]
  },
  {
   "cell_type": "code",
   "execution_count": 671,
   "metadata": {},
   "outputs": [],
   "source": [
    "xpro80 = x80.copy() \n",
    "Xw80 = np.fft.rfft(xpro80,axis=0) \n",
    "vf80 = np.fft.rfftfreq(np.size(xpro80,0),1/fs80)\n",
    "xwm80 = (abs(Xw80[:,[0]]))\n",
    "xwmt80 = np.transpose(xwm80)\n",
    "xwmm80 = (abs(Xw80[:,[1]]))\n",
    "xwmy80 = np.transpose(xwmm80)"
   ]
  },
  {
   "cell_type": "markdown",
   "metadata": {},
   "source": [
    "<audio src=\"DONT11.mp3\" controls>Your browser does not support the audio element.</audio>\n",
    "[DONT11.mp3](DONT11.mp3)"
   ]
  },
  {
   "cell_type": "code",
   "execution_count": 672,
   "metadata": {},
   "outputs": [
    {
     "name": "stdout",
     "output_type": "stream",
     "text": [
      "Frecuencia de muestreo 44100.00[Hz]\n",
      "audio DONT11.wav\n"
     ]
    }
   ],
   "source": [
    "nombre_in = \"DONT11.mp3\"\n",
    "nombre_out = \"DONT11.wav\"\n",
    "command_consola = \"ffmpeg -i \" + nombre_in +\" \"+ nombre_out\n",
    "os.system(command_consola)\n",
    "\n",
    "import soundfile as sf \n",
    "x81, fs81 = sf.read('DONT11.wav')\n",
    "x81=x81[0:mmax,:]\n",
    "print('Frecuencia de muestreo %.2f[Hz]\\naudio %s' % (fs81,nombre_out))"
   ]
  },
  {
   "cell_type": "code",
   "execution_count": 673,
   "metadata": {},
   "outputs": [],
   "source": [
    "xpro81 = x81.copy() \n",
    "Xw81 = np.fft.rfft(xpro81,axis=0) \n",
    "vf81 = np.fft.rfftfreq(np.size(xpro81,0),1/fs81)\n",
    "xwm81 = (abs(Xw81[:,[0]]))\n",
    "xwmt81 = np.transpose(xwm81)\n",
    "xwmm81 = (abs(Xw81[:,[1]]))\n",
    "xwmy81 = np.transpose(xwmm81)"
   ]
  },
  {
   "cell_type": "markdown",
   "metadata": {},
   "source": [
    "<audio src=\"DONT12.mp3\" controls>Your browser does not support the audio element.</audio>\n",
    "[DONT12.mp3](DONT12.mp3)"
   ]
  },
  {
   "cell_type": "code",
   "execution_count": 674,
   "metadata": {},
   "outputs": [
    {
     "name": "stdout",
     "output_type": "stream",
     "text": [
      "Frecuencia de muestreo 44100.00[Hz]\n",
      "audio DONT12.wav\n"
     ]
    }
   ],
   "source": [
    "nombre_in = \"DONT12.mp3\"\n",
    "nombre_out = \"DONT12.wav\"\n",
    "command_consola = \"ffmpeg -i \" + nombre_in +\" \"+ nombre_out\n",
    "os.system(command_consola)\n",
    "\n",
    "import soundfile as sf \n",
    "x82, fs82 = sf.read('DONT12.wav')\n",
    "x82=x82[0:mmax,:]\n",
    "print('Frecuencia de muestreo %.2f[Hz]\\naudio %s' % (fs82,nombre_out))"
   ]
  },
  {
   "cell_type": "code",
   "execution_count": 675,
   "metadata": {},
   "outputs": [],
   "source": [
    "xpro82 = x82.copy() \n",
    "Xw82 = np.fft.rfft(xpro82,axis=0) \n",
    "vf82 = np.fft.rfftfreq(np.size(xpro82,0),1/fs82)\n",
    "xwm82 = (abs(Xw82[:,[0]]))\n",
    "xwmt82 = np.transpose(xwm82)\n",
    "xwmm82 = (abs(Xw82[:,[1]]))\n",
    "xwmy82 = np.transpose(xwmm82)"
   ]
  },
  {
   "cell_type": "markdown",
   "metadata": {},
   "source": [
    "<audio src=\"DONT13.mp3\" controls>Your browser does not support the audio element.</audio>\n",
    "[DONT13.mp3](DONT13.mp3)"
   ]
  },
  {
   "cell_type": "code",
   "execution_count": 676,
   "metadata": {},
   "outputs": [
    {
     "name": "stdout",
     "output_type": "stream",
     "text": [
      "Frecuencia de muestreo 44100.00[Hz]\n",
      "audio DONT13.wav\n"
     ]
    }
   ],
   "source": [
    "nombre_in = \"DONT13.mp3\"\n",
    "nombre_out = \"DONT13.wav\"\n",
    "command_consola = \"ffmpeg -i \" + nombre_in +\" \"+ nombre_out\n",
    "os.system(command_consola)\n",
    "\n",
    "import soundfile as sf \n",
    "x83, fs83 = sf.read('DONT13.wav')\n",
    "x83=x83[0:mmax,:]\n",
    "print('Frecuencia de muestreo %.2f[Hz]\\naudio %s' % (fs83,nombre_out))"
   ]
  },
  {
   "cell_type": "code",
   "execution_count": 677,
   "metadata": {},
   "outputs": [],
   "source": [
    "xpro83 = x83.copy()\n",
    "Xw83 = np.fft.rfft(xpro83,axis=0) \n",
    "vf83 = np.fft.rfftfreq(np.size(xpro83,0),1/fs83)\n",
    "xwm83 = (abs(Xw83[:,[0]]))\n",
    "xwmt83 = np.transpose(xwm83)\n",
    "xwmm83 = (abs(Xw83[:,[1]]))\n",
    "xwmy83 = np.transpose(xwmm83)"
   ]
  },
  {
   "cell_type": "markdown",
   "metadata": {},
   "source": [
    "<audio src=\"DONT14.mp3\" controls>Your browser does not support the audio element.</audio>\n",
    "[DONT14.mp3](DONT14.mp3)"
   ]
  },
  {
   "cell_type": "code",
   "execution_count": 678,
   "metadata": {},
   "outputs": [
    {
     "name": "stdout",
     "output_type": "stream",
     "text": [
      "Frecuencia de muestreo 44100.00[Hz]\n",
      "audio DONT14.wav\n"
     ]
    }
   ],
   "source": [
    "nombre_in = \"DONT14.mp3\"\n",
    "nombre_out = \"DONT14.wav\"\n",
    "command_consola = \"ffmpeg -i \" + nombre_in +\" \"+ nombre_out\n",
    "os.system(command_consola)\n",
    "\n",
    "import soundfile as sf \n",
    "x84, fs84 = sf.read('DONT14.wav')\n",
    "x84=x84[0:mmax,:]\n",
    "print('Frecuencia de muestreo %.2f[Hz]\\naudio %s' % (fs84,nombre_out))"
   ]
  },
  {
   "cell_type": "code",
   "execution_count": 679,
   "metadata": {},
   "outputs": [],
   "source": [
    "xpro84 = x84.copy() \n",
    "Xw84 = np.fft.rfft(xpro84,axis=0) \n",
    "vf84 = np.fft.rfftfreq(np.size(xpro84,0),1/fs84)\n",
    "xwm84 = (abs(Xw84[:,[0]]))\n",
    "xwmt84 = np.transpose(xwm84)\n",
    "xwmm84 = (abs(Xw84[:,[1]]))\n",
    "xwmy84 = np.transpose(xwmm84)"
   ]
  },
  {
   "cell_type": "markdown",
   "metadata": {},
   "source": [
    "<audio src=\"DONT15.mp3\" controls>Your browser does not support the audio element.</audio>\n",
    "[DONT15.mp3](DONT15].mp3)"
   ]
  },
  {
   "cell_type": "code",
   "execution_count": 680,
   "metadata": {},
   "outputs": [
    {
     "name": "stdout",
     "output_type": "stream",
     "text": [
      "Frecuencia de muestreo 44100.00[Hz]\n",
      "audio DONT15.wav\n"
     ]
    }
   ],
   "source": [
    "nombre_in = \"DONT15.mp3\"\n",
    "nombre_out = \"DONT15.wav\"\n",
    "command_consola = \"ffmpeg -i \" + nombre_in +\" \"+ nombre_out\n",
    "os.system(command_consola)\n",
    "\n",
    "import soundfile as sf \n",
    "x85, fs85 = sf.read('DONT15.wav')\n",
    "x85=x85[0:mmax,:]\n",
    "print('Frecuencia de muestreo %.2f[Hz]\\naudio %s' % (fs85,nombre_out))"
   ]
  },
  {
   "cell_type": "code",
   "execution_count": 681,
   "metadata": {},
   "outputs": [],
   "source": [
    "xpro85 = x85.copy() \n",
    "Xw85 = np.fft.rfft(xpro85,axis=0) \n",
    "vf85 = np.fft.rfftfreq(np.size(xpro85,0),1/fs85)\n",
    "xwm85 = (abs(Xw85[:,[0]]))\n",
    "xwmt85 = np.transpose(xwm85)\n",
    "xwmm85 = (abs(Xw85[:,[1]]))\n",
    "xwmy85 = np.transpose(xwmm85)"
   ]
  },
  {
   "cell_type": "markdown",
   "metadata": {},
   "source": [
    "<audio src=\"DONT16.mp3\" controls>Your browser does not support the audio element.</audio>\n",
    "[DONT16.mp3](DONT16.mp3)"
   ]
  },
  {
   "cell_type": "code",
   "execution_count": 682,
   "metadata": {},
   "outputs": [
    {
     "name": "stdout",
     "output_type": "stream",
     "text": [
      "Frecuencia de muestreo 44100.00[Hz]\n",
      "audio DONT16.wav\n"
     ]
    }
   ],
   "source": [
    "nombre_in = \"DONT16.mp3\"\n",
    "nombre_out = \"DONT16.wav\"\n",
    "command_consola = \"ffmpeg -i \" + nombre_in +\" \"+ nombre_out\n",
    "os.system(command_consola)\n",
    "\n",
    "import soundfile as sf \n",
    "x86, fs86 = sf.read('DONT16.wav')\n",
    "x86=x86[0:mmax,:]\n",
    "print('Frecuencia de muestreo %.2f[Hz]\\naudio %s' % (fs86,nombre_out))"
   ]
  },
  {
   "cell_type": "code",
   "execution_count": 683,
   "metadata": {},
   "outputs": [],
   "source": [
    "xpro86 = x86.copy() \n",
    "Xw86 = np.fft.rfft(xpro86,axis=0) \n",
    "vf86 = np.fft.rfftfreq(np.size(xpro86,0),1/fs86)\n",
    "xwm86 = (abs(Xw86[:,[0]]))\n",
    "xwmt86 = np.transpose(xwm86)\n",
    "xwmm86 = (abs(Xw86[:,[1]]))\n",
    "xwmy86 = np.transpose(xwmm86)"
   ]
  },
  {
   "cell_type": "markdown",
   "metadata": {},
   "source": [
    "<audio src=\"dansu-lost-in-the-city_1.mp3\" controls>Your browser does not support the audio element.</audio>\n",
    "[dansu-lost-in-the-city_1.mp3](dansu-lost-in-the-city_1.mp3)"
   ]
  },
  {
   "cell_type": "code",
   "execution_count": 684,
   "metadata": {},
   "outputs": [
    {
     "name": "stdout",
     "output_type": "stream",
     "text": [
      "Frecuencia de muestreo 44100.00[Hz]\n",
      "audio dansu-lost-in-the-city_1.wav\n"
     ]
    }
   ],
   "source": [
    "nombre_in = \"dansu-lost-in-the-city_1.mp3\"\n",
    "nombre_out = \"dansu-lost-in-the-city_1.wav\"\n",
    "command_consola = \"ffmpeg -i \" + nombre_in +\" \"+ nombre_out\n",
    "os.system(command_consola)\n",
    "\n",
    "import soundfile as sf \n",
    "x87, fs87 = sf.read('dansu-lost-in-the-city_1.wav')\n",
    "x87=x87[0:mmax,:]\n",
    "print('Frecuencia de muestreo %.2f[Hz]\\naudio %s' % (fs87,nombre_out))"
   ]
  },
  {
   "cell_type": "code",
   "execution_count": 685,
   "metadata": {},
   "outputs": [],
   "source": [
    "xpro87 = x87.copy() \n",
    "Xw87 = np.fft.rfft(xpro87,axis=0) \n",
    "vf87 = np.fft.rfftfreq(np.size(xpro87,0),1/fs87)\n",
    "xwm87 = (abs(Xw87[:,[0]]))\n",
    "xwmt87 = np.transpose(xwm87)\n",
    "xwmm87 = (abs(Xw87[:,[1]]))\n",
    "xwmy87 = np.transpose(xwmm87)"
   ]
  },
  {
   "cell_type": "markdown",
   "metadata": {},
   "source": [
    "<audio src=\"dansu-lost-in-the-city_2.mp3\" controls>Your browser does not support the audio element.</audio>\n",
    "[dansu-lost-in-the-city_2.mp3](dansu-lost-in-the-city_2.mp3)"
   ]
  },
  {
   "cell_type": "code",
   "execution_count": 686,
   "metadata": {},
   "outputs": [
    {
     "name": "stdout",
     "output_type": "stream",
     "text": [
      "Frecuencia de muestreo 44100.00[Hz]\n",
      "audio dansu-lost-in-the-city_2.wav\n"
     ]
    }
   ],
   "source": [
    "nombre_in = \"dansu-lost-in-the-city_2.mp3\"\n",
    "nombre_out = \"dansu-lost-in-the-city_2.wav\"\n",
    "command_consola = \"ffmpeg -i \" + nombre_in +\" \"+ nombre_out\n",
    "os.system(command_consola)\n",
    "\n",
    "import soundfile as sf \n",
    "x88, fs88 = sf.read('dansu-lost-in-the-city_2.wav')\n",
    "x88=x88[0:mmax,:]\n",
    "print('Frecuencia de muestreo %.2f[Hz]\\naudio %s' % (fs88,nombre_out))"
   ]
  },
  {
   "cell_type": "code",
   "execution_count": 687,
   "metadata": {},
   "outputs": [],
   "source": [
    "xpro88 = x88.copy() \n",
    "Xw88 = np.fft.rfft(xpro88,axis=0) \n",
    "vf88 = np.fft.rfftfreq(np.size(xpro88,0),1/fs88)\n",
    "xwm88 = (abs(Xw88[:,[0]]))\n",
    "xwmt88 = np.transpose(xwm88)\n",
    "xwmm88 = (abs(Xw88[:,[1]]))\n",
    "xwmy88 = np.transpose(xwmm88)"
   ]
  },
  {
   "cell_type": "markdown",
   "metadata": {},
   "source": [
    "<audio src=\"dansu-lost-in-the-city_3.mp3\" controls>Your browser does not support the audio element.</audio>\n",
    "[dansu-lost-in-the-city_3.mp3](dansu-lost-in-the-city_3.mp3)"
   ]
  },
  {
   "cell_type": "code",
   "execution_count": 688,
   "metadata": {},
   "outputs": [
    {
     "name": "stdout",
     "output_type": "stream",
     "text": [
      "Frecuencia de muestreo 44100.00[Hz]\n",
      "audio dansu-lost-in-the-city_3.wav\n"
     ]
    }
   ],
   "source": [
    "nombre_in = \"dansu-lost-in-the-city_3.mp3\"\n",
    "nombre_out = \"dansu-lost-in-the-city_3.wav\"\n",
    "command_consola = \"ffmpeg -i \" + nombre_in +\" \"+ nombre_out\n",
    "os.system(command_consola)\n",
    "\n",
    "import soundfile as sf \n",
    "x89, fs89 = sf.read('dansu-lost-in-the-city_3.wav')\n",
    "x89=x89[0:mmax,:]\n",
    "print('Frecuencia de muestreo %.2f[Hz]\\naudio %s' % (fs89,nombre_out))"
   ]
  },
  {
   "cell_type": "code",
   "execution_count": 689,
   "metadata": {},
   "outputs": [],
   "source": [
    "xpro89 = x89.copy() \n",
    "Xw89 = np.fft.rfft(xpro89,axis=0) \n",
    "vf89 = np.fft.rfftfreq(np.size(xpro89,0),1/fs89)\n",
    "xwm89 = (abs(Xw89[:,[0]]))\n",
    "xwmt89 = np.transpose(xwm89)\n",
    "xwmm89 = (abs(Xw89[:,[1]]))\n",
    "xwmy89 = np.transpose(xwmm89)"
   ]
  },
  {
   "cell_type": "markdown",
   "metadata": {},
   "source": [
    "<audio src=\"dansu-lost-in-the-city_4.mp3\" controls>Your browser does not support the audio element.</audio>\n",
    "[dansu-lost-in-the-city_4.mp3](dansu-lost-in-the-city_4.mp3)"
   ]
  },
  {
   "cell_type": "code",
   "execution_count": 690,
   "metadata": {},
   "outputs": [
    {
     "name": "stdout",
     "output_type": "stream",
     "text": [
      "Frecuencia de muestreo 44100.00[Hz]\n",
      "audio dansu-lost-in-the-city_4.wav\n"
     ]
    }
   ],
   "source": [
    "nombre_in = \"dansu-lost-in-the-city_4.mp3\"\n",
    "nombre_out = \"dansu-lost-in-the-city_4.wav\"\n",
    "command_consola = \"ffmpeg -i \" + nombre_in +\" \"+ nombre_out\n",
    "os.system(command_consola)\n",
    "\n",
    "import soundfile as sf \n",
    "x90, fs90 = sf.read('dansu-lost-in-the-city_4.wav')\n",
    "x90=x90[0:mmax,:]\n",
    "print('Frecuencia de muestreo %.2f[Hz]\\naudio %s' % (fs90,nombre_out))"
   ]
  },
  {
   "cell_type": "code",
   "execution_count": 691,
   "metadata": {},
   "outputs": [],
   "source": [
    "xpro90 = x90.copy() \n",
    "Xw90 = np.fft.rfft(xpro90,axis=0) \n",
    "vf90 = np.fft.rfftfreq(np.size(xpro90,0),1/fs90)\n",
    "xwm90 = (abs(Xw90[:,[0]]))\n",
    "xwmt90 = np.transpose(xwm90)\n",
    "xwmm90 = (abs(Xw90[:,[1]]))\n",
    "xwmy90 = np.transpose(xwmm90)"
   ]
  },
  {
   "cell_type": "markdown",
   "metadata": {},
   "source": [
    "<audio src=\"dansu-lost-in-the-city_5.mp3\" controls>Your browser does not support the audio element.</audio>\n",
    "[dansu-lost-in-the-city_5.mp3](dansu-lost-in-the-city_5.mp3)"
   ]
  },
  {
   "cell_type": "code",
   "execution_count": 692,
   "metadata": {},
   "outputs": [
    {
     "name": "stdout",
     "output_type": "stream",
     "text": [
      "Frecuencia de muestreo 44100.00[Hz]\n",
      "audio dansu-lost-in-the-city_5.wav\n"
     ]
    }
   ],
   "source": [
    "nombre_in = \"dansu-lost-in-the-city_5.mp3\"\n",
    "nombre_out = \"dansu-lost-in-the-city_5.wav\"\n",
    "command_consola = \"ffmpeg -i \" + nombre_in +\" \"+ nombre_out\n",
    "os.system(command_consola)\n",
    "\n",
    "import soundfile as sf \n",
    "x91, fs91 = sf.read('dansu-lost-in-the-city_5.wav')\n",
    "x91=x91[0:mmax,:]\n",
    "print('Frecuencia de muestreo %.2f[Hz]\\naudio %s' % (fs91,nombre_out))"
   ]
  },
  {
   "cell_type": "code",
   "execution_count": 693,
   "metadata": {},
   "outputs": [],
   "source": [
    "xpro91 = x91.copy() \n",
    "Xw91 = np.fft.rfft(xpro91,axis=0) \n",
    "vf91 = np.fft.rfftfreq(np.size(xpro91,0),1/fs91)\n",
    "xwm91 = (abs(Xw91[:,[0]]))\n",
    "xwmt91 = np.transpose(xwm91)\n",
    "xwmm91 = (abs(Xw91[:,[1]]))\n",
    "xwmy91 = np.transpose(xwmm91)"
   ]
  },
  {
   "cell_type": "markdown",
   "metadata": {},
   "source": [
    "<audio src=\"dansu-lost-in-the-city_6.mp3\" controls>Your browser does not support the audio element.</audio>\n",
    "[dansu-lost-in-the-city_6.mp3](dansu-lost-in-the-city_6.mp3)"
   ]
  },
  {
   "cell_type": "code",
   "execution_count": 694,
   "metadata": {},
   "outputs": [
    {
     "name": "stdout",
     "output_type": "stream",
     "text": [
      "Frecuencia de muestreo 44100.00[Hz]\n",
      "audio dansu-lost-in-the-city_6.wav\n"
     ]
    }
   ],
   "source": [
    "nombre_in = \"dansu-lost-in-the-city_6.mp3\"\n",
    "nombre_out = \"dansu-lost-in-the-city_6.wav\"\n",
    "command_consola = \"ffmpeg -i \" + nombre_in +\" \"+ nombre_out\n",
    "os.system(command_consola)\n",
    "\n",
    "import soundfile as sf \n",
    "x92, fs92 = sf.read('dansu-lost-in-the-city_6.wav')\n",
    "x92=x92[0:mmax,:]\n",
    "print('Frecuencia de muestreo %.2f[Hz]\\naudio %s' % (fs92,nombre_out))"
   ]
  },
  {
   "cell_type": "code",
   "execution_count": 695,
   "metadata": {},
   "outputs": [],
   "source": [
    "xpro92 = x92.copy() \n",
    "Xw92 = np.fft.rfft(xpro92,axis=0) \n",
    "vf92 = np.fft.rfftfreq(np.size(xpro92,0),1/fs92)\n",
    "xwm92 = (abs(Xw92[:,[0]]))\n",
    "xwmt92 = np.transpose(xwm92)\n",
    "xwmm92 = (abs(Xw92[:,[1]]))\n",
    "xwmy92 = np.transpose(xwmm92)"
   ]
  },
  {
   "cell_type": "markdown",
   "metadata": {},
   "source": [
    "<audio src=\"dansu-lost-in-the-city_7.mp3\" controls>Your browser does not support the audio element.</audio>\n",
    "[dansu-lost-in-the-city_7.mp3](dansu-lost-in-the-city_7.mp3)"
   ]
  },
  {
   "cell_type": "code",
   "execution_count": 696,
   "metadata": {},
   "outputs": [
    {
     "name": "stdout",
     "output_type": "stream",
     "text": [
      "Frecuencia de muestreo 44100.00[Hz]\n",
      "audio dansu-lost-in-the-city_7.wav\n"
     ]
    }
   ],
   "source": [
    "nombre_in = \"dansu-lost-in-the-city_7.mp3\"\n",
    "nombre_out = \"dansu-lost-in-the-city_7.wav\"\n",
    "command_consola = \"ffmpeg -i \" + nombre_in +\" \"+ nombre_out\n",
    "os.system(command_consola)\n",
    "\n",
    "import soundfile as sf \n",
    "x93, fs93 = sf.read('dansu-lost-in-the-city_7.wav')\n",
    "x93=x93[0:mmax,:]\n",
    "print('Frecuencia de muestreo %.2f[Hz]\\naudio %s' % (fs93,nombre_out))"
   ]
  },
  {
   "cell_type": "code",
   "execution_count": 697,
   "metadata": {},
   "outputs": [],
   "source": [
    "xpro93 = x93.copy() \n",
    "Xw93 = np.fft.rfft(xpro93,axis=0) \n",
    "vf93 = np.fft.rfftfreq(np.size(xpro93,0),1/fs93)\n",
    "xwm93 = (abs(Xw93[:,[0]]))\n",
    "xwmt93 = np.transpose(xwm93)\n",
    "xwmm93 = (abs(Xw93[:,[1]]))\n",
    "xwmy93 = np.transpose(xwmm93)"
   ]
  },
  {
   "cell_type": "markdown",
   "metadata": {},
   "source": [
    "<audio src=\"dansu-lost-in-the-city_8.mp3\" controls>Your browser does not support the audio element.</audio>\n",
    "[dansu-lost-in-the-city_8.mp3](dansu-lost-in-the-city_8.mp3)"
   ]
  },
  {
   "cell_type": "code",
   "execution_count": 698,
   "metadata": {},
   "outputs": [
    {
     "name": "stdout",
     "output_type": "stream",
     "text": [
      "Frecuencia de muestreo 44100.00[Hz]\n",
      "audio dansu-lost-in-the-city_8.wav\n"
     ]
    }
   ],
   "source": [
    "nombre_in = \"dansu-lost-in-the-city_8.mp3\"\n",
    "nombre_out = \"dansu-lost-in-the-city_8.wav\"\n",
    "command_consola = \"ffmpeg -i \" + nombre_in +\" \"+ nombre_out\n",
    "os.system(command_consola)\n",
    "\n",
    "import soundfile as sf \n",
    "x94, fs94 = sf.read('dansu-lost-in-the-city_8.wav')\n",
    "x94=x94[0:mmax,:]\n",
    "print('Frecuencia de muestreo %.2f[Hz]\\naudio %s' % (fs94,nombre_out))"
   ]
  },
  {
   "cell_type": "code",
   "execution_count": 699,
   "metadata": {},
   "outputs": [],
   "source": [
    "xpro94 = x94.copy() \n",
    "Xw94 = np.fft.rfft(xpro94,axis=0) \n",
    "vf94 = np.fft.rfftfreq(np.size(xpro94,0),1/fs94)\n",
    "xwm94 = (abs(Xw94[:,[0]]))\n",
    "xwmt94 = np.transpose(xwm94)\n",
    "xwmm94 = (abs(Xw94[:,[1]]))\n",
    "xwmy94 = np.transpose(xwmm94)"
   ]
  },
  {
   "cell_type": "markdown",
   "metadata": {},
   "source": [
    "<audio src=\"dansu-lost-in-the-city_9.mp3\" controls>Your browser does not support the audio element.</audio>\n",
    "[dansu-lost-in-the-city_9.mp3](dansu-lost-in-the-city_9.mp3)"
   ]
  },
  {
   "cell_type": "code",
   "execution_count": 700,
   "metadata": {},
   "outputs": [
    {
     "name": "stdout",
     "output_type": "stream",
     "text": [
      "Frecuencia de muestreo 44100.00[Hz]\n",
      "audio dansu-lost-in-the-city_9.wav\n"
     ]
    }
   ],
   "source": [
    "nombre_in = \"dansu-lost-in-the-city_9.mp3\"\n",
    "nombre_out = \"dansu-lost-in-the-city_9.wav\"\n",
    "command_consola = \"ffmpeg -i \" + nombre_in +\" \"+ nombre_out\n",
    "os.system(command_consola)\n",
    "\n",
    "import soundfile as sf \n",
    "x95, fs95 = sf.read('dansu-lost-in-the-city_9.wav')\n",
    "x95=x95[0:mmax,:]\n",
    "print('Frecuencia de muestreo %.2f[Hz]\\naudio %s' % (fs95,nombre_out))"
   ]
  },
  {
   "cell_type": "code",
   "execution_count": 701,
   "metadata": {},
   "outputs": [],
   "source": [
    "xpro95 = x95.copy() \n",
    "Xw95 = np.fft.rfft(xpro95,axis=0) \n",
    "vf95 = np.fft.rfftfreq(np.size(xpro95,0),1/fs95)\n",
    "xwm95 = (abs(Xw95[:,[0]]))\n",
    "xwmt95 = np.transpose(xwm95)\n",
    "xwmm95 = (abs(Xw95[:,[1]]))\n",
    "xwmy95 = np.transpose(xwmm95)"
   ]
  },
  {
   "cell_type": "markdown",
   "metadata": {},
   "source": [
    "<audio src=\"dansu-lost-in-the-city_10.mp3\" controls>Your browser does not support the audio element.</audio>\n",
    "[dansu-lost-in-the-city_10.mp3](dansu-lost-in-the-city_10.mp3)"
   ]
  },
  {
   "cell_type": "code",
   "execution_count": 702,
   "metadata": {},
   "outputs": [
    {
     "name": "stdout",
     "output_type": "stream",
     "text": [
      "Frecuencia de muestreo 44100.00[Hz]\n",
      "audio dansu-lost-in-the-city_10.wav\n"
     ]
    }
   ],
   "source": [
    "nombre_in = \"dansu-lost-in-the-city_10.mp3\"\n",
    "nombre_out = \"dansu-lost-in-the-city_10.wav\"\n",
    "command_consola = \"ffmpeg -i \" + nombre_in +\" \"+ nombre_out\n",
    "os.system(command_consola)\n",
    "\n",
    "import soundfile as sf \n",
    "x96, fs96 = sf.read('dansu-lost-in-the-city_10.wav')\n",
    "x96=x96[0:mmax,:]\n",
    "print('Frecuencia de muestreo %.2f[Hz]\\naudio %s' % (fs96,nombre_out))"
   ]
  },
  {
   "cell_type": "code",
   "execution_count": 703,
   "metadata": {},
   "outputs": [],
   "source": [
    "xpro96 = x96.copy() \n",
    "Xw96 = np.fft.rfft(xpro96,axis=0) \n",
    "vf96 = np.fft.rfftfreq(np.size(xpro96,0),1/fs96)\n",
    "xwm96 = (abs(Xw96[:,[0]]))\n",
    "xwmt96 = np.transpose(xwm96)\n",
    "xwmm96 = (abs(Xw96[:,[1]]))\n",
    "xwmy96 = np.transpose(xwmm96)"
   ]
  },
  {
   "cell_type": "markdown",
   "metadata": {},
   "source": [
    "<audio src=\"dansu-lost-in-the-city_11.mp3\" controls>Your browser does not support the audio element.</audio>\n",
    "[dansu-lost-in-the-city_11.mp3](dansu-lost-in-the-city_11.mp3)"
   ]
  },
  {
   "cell_type": "code",
   "execution_count": 704,
   "metadata": {},
   "outputs": [
    {
     "name": "stdout",
     "output_type": "stream",
     "text": [
      "Frecuencia de muestreo 44100.00[Hz]\n",
      "audio dansu-lost-in-the-city_11.wav\n"
     ]
    }
   ],
   "source": [
    "nombre_in = \"dansu-lost-in-the-city_11.mp3\"\n",
    "nombre_out = \"dansu-lost-in-the-city_11.wav\"\n",
    "command_consola = \"ffmpeg -i \" + nombre_in +\" \"+ nombre_out\n",
    "os.system(command_consola)\n",
    "\n",
    "import soundfile as sf \n",
    "x97, fs97 = sf.read('dansu-lost-in-the-city_11.wav')\n",
    "x97=x97[0:mmax,:]\n",
    "print('Frecuencia de muestreo %.2f[Hz]\\naudio %s' % (fs97,nombre_out))"
   ]
  },
  {
   "cell_type": "code",
   "execution_count": 705,
   "metadata": {},
   "outputs": [],
   "source": [
    "xpro97 = x97.copy() \n",
    "Xw97 = np.fft.rfft(xpro97,axis=0) \n",
    "vf97 = np.fft.rfftfreq(np.size(xpro97,0),1/fs97)\n",
    "xwm97 = (abs(Xw97[:,[0]]))\n",
    "xwmt97 = np.transpose(xwm97)\n",
    "xwmm97 = (abs(Xw97[:,[1]]))\n",
    "xwmy97 = np.transpose(xwmm97)"
   ]
  },
  {
   "cell_type": "markdown",
   "metadata": {},
   "source": [
    "<audio src=\"dansu-lost-in-the-city_12.mp3\" controls>Your browser does not support the audio element.</audio>\n",
    "[dansu-lost-in-the-city_12.mp3](dansu-lost-in-the-city_12.mp3)"
   ]
  },
  {
   "cell_type": "code",
   "execution_count": 706,
   "metadata": {},
   "outputs": [
    {
     "name": "stdout",
     "output_type": "stream",
     "text": [
      "Frecuencia de muestreo 44100.00[Hz]\n",
      "audio dansu-lost-in-the-city_12.wav\n"
     ]
    }
   ],
   "source": [
    "nombre_in = \"dansu-lost-in-the-city_12.mp3\"\n",
    "nombre_out = \"dansu-lost-in-the-city_12.wav\"\n",
    "command_consola = \"ffmpeg -i \" + nombre_in +\" \"+ nombre_out\n",
    "os.system(command_consola)\n",
    "\n",
    "import soundfile as sf \n",
    "x98, fs98 = sf.read('dansu-lost-in-the-city_12.wav')\n",
    "x98=x98[0:mmax,:]\n",
    "print('Frecuencia de muestreo %.2f[Hz]\\naudio %s' % (fs98,nombre_out))"
   ]
  },
  {
   "cell_type": "code",
   "execution_count": 707,
   "metadata": {},
   "outputs": [],
   "source": [
    "xpro98 = x98.copy() \n",
    "Xw98 = np.fft.rfft(xpro98,axis=0) \n",
    "vf98 = np.fft.rfftfreq(np.size(xpro98,0),1/fs98)\n",
    "xwm98 = (abs(Xw98[:,[0]]))\n",
    "xwmt98 = np.transpose(xwm98)\n",
    "xwmm98 = (abs(Xw98[:,[1]]))\n",
    "xwmy98 = np.transpose(xwmm98)"
   ]
  },
  {
   "cell_type": "markdown",
   "metadata": {},
   "source": [
    "<audio src=\"dansu-lost-in-the-city_13.mp3\" controls>Your browser does not support the audio element.</audio>\n",
    "[dansu-lost-in-the-city_13.mp3](dansu-lost-in-the-city_13.mp3)"
   ]
  },
  {
   "cell_type": "code",
   "execution_count": 708,
   "metadata": {},
   "outputs": [
    {
     "name": "stdout",
     "output_type": "stream",
     "text": [
      "Frecuencia de muestreo 44100.00[Hz]\n",
      "audio dansu-lost-in-the-city_13.wav\n"
     ]
    }
   ],
   "source": [
    "nombre_in = \"dansu-lost-in-the-city_13.mp3\"\n",
    "nombre_out = \"dansu-lost-in-the-city_13.wav\"\n",
    "command_consola = \"ffmpeg -i \" + nombre_in +\" \"+ nombre_out\n",
    "os.system(command_consola)\n",
    "\n",
    "import soundfile as sf \n",
    "x99, fs99 = sf.read('dansu-lost-in-the-city_13.wav')\n",
    "x99=x99[0:mmax,:]\n",
    "print('Frecuencia de muestreo %.2f[Hz]\\naudio %s' % (fs99,nombre_out))"
   ]
  },
  {
   "cell_type": "code",
   "execution_count": 709,
   "metadata": {},
   "outputs": [],
   "source": [
    "xpro99 = x99.copy() \n",
    "Xw99 = np.fft.rfft(xpro99,axis=0) \n",
    "vf99 = np.fft.rfftfreq(np.size(xpro99,0),1/fs99)\n",
    "xwm99 = (abs(Xw99[:,[0]]))\n",
    "xwmt99 = np.transpose(xwm99)\n",
    "xwmm99 = (abs(Xw99[:,[1]]))\n",
    "xwmy99 = np.transpose(xwmm99)"
   ]
  },
  {
   "cell_type": "markdown",
   "metadata": {},
   "source": [
    "<audio src=\"dansu-lost-in-the-city_14.mp3\" controls>Your browser does not support the audio element.</audio>\n",
    "[dansu-lost-in-the-city_14.mp3](dansu-lost-in-the-city_14.mp3)"
   ]
  },
  {
   "cell_type": "code",
   "execution_count": 710,
   "metadata": {},
   "outputs": [
    {
     "name": "stdout",
     "output_type": "stream",
     "text": [
      "Frecuencia de muestreo 44100.00[Hz]\n",
      "audio dansu-lost-in-the-city_14.wav\n"
     ]
    }
   ],
   "source": [
    "nombre_in = \"dansu-lost-in-the-city_14.mp3\"\n",
    "nombre_out = \"dansu-lost-in-the-city_14.wav\"\n",
    "command_consola = \"ffmpeg -i \" + nombre_in +\" \"+ nombre_out\n",
    "os.system(command_consola)\n",
    "\n",
    "import soundfile as sf \n",
    "x100, fs100 = sf.read('dansu-lost-in-the-city_14.wav')\n",
    "x100=x100[0:mmax,:]\n",
    "print('Frecuencia de muestreo %.2f[Hz]\\naudio %s' % (fs100,nombre_out))"
   ]
  },
  {
   "cell_type": "code",
   "execution_count": 711,
   "metadata": {},
   "outputs": [],
   "source": [
    "xpro100 = x100.copy() \n",
    "Xw100 = np.fft.rfft(xpro100,axis=0) \n",
    "vf100 = np.fft.rfftfreq(np.size(xpro100,0),1/fs100)\n",
    "xwm100 = (abs(Xw100[:,[0]]))\n",
    "xwmt100 = np.transpose(xwm100)\n",
    "xwmm100 = (abs(Xw100[:,[1]]))\n",
    "xwmy100 = np.transpose(xwmm100)"
   ]
  },
  {
   "cell_type": "markdown",
   "metadata": {},
   "source": [
    "<audio src=\"dansu-lost-in-the-city_15.mp3\" controls>Your browser does not support the audio element.</audio>\n",
    "[dansu-lost-in-the-city_15.mp3](dansu-lost-in-the-city_15.mp3)"
   ]
  },
  {
   "cell_type": "code",
   "execution_count": 712,
   "metadata": {},
   "outputs": [
    {
     "name": "stdout",
     "output_type": "stream",
     "text": [
      "Frecuencia de muestreo 44100.00[Hz]\n",
      "audio dansu-lost-in-the-city_15.wav\n"
     ]
    }
   ],
   "source": [
    "nombre_in = \"dansu-lost-in-the-city_15.mp3\"\n",
    "nombre_out = \"dansu-lost-in-the-city_15.wav\"\n",
    "command_consola = \"ffmpeg -i \" + nombre_in +\" \"+ nombre_out\n",
    "os.system(command_consola)\n",
    "\n",
    "import soundfile as sf \n",
    "x101, fs101 = sf.read('dansu-lost-in-the-city_15.wav')\n",
    "x101=x101[0:mmax,:]\n",
    "print('Frecuencia de muestreo %.2f[Hz]\\naudio %s' % (fs101,nombre_out))"
   ]
  },
  {
   "cell_type": "code",
   "execution_count": 713,
   "metadata": {},
   "outputs": [],
   "source": [
    "xpro101 = x101.copy() \n",
    "Xw101 = np.fft.rfft(xpro101,axis=0) \n",
    "vf101 = np.fft.rfftfreq(np.size(xpro101,0),1/fs101)\n",
    "xwm101 = (abs(Xw101[:,[0]]))\n",
    "xwmt101 = np.transpose(xwm101)\n",
    "xwmm101 = (abs(Xw101[:,[1]]))\n",
    "xwmy101 = np.transpose(xwmm101)"
   ]
  },
  {
   "cell_type": "markdown",
   "metadata": {},
   "source": [
    "<audio src=\"dansu-lost-in-the-city_16.mp3\" controls>Your browser does not support the audio element.</audio>\n",
    "[dansu-lost-in-the-city_16.mp3](dansu-lost-in-the-city_16.mp3)"
   ]
  },
  {
   "cell_type": "code",
   "execution_count": 714,
   "metadata": {},
   "outputs": [
    {
     "name": "stdout",
     "output_type": "stream",
     "text": [
      "Frecuencia de muestreo 44100.00[Hz]\n",
      "audio dansu-lost-in-the-city_16.wav\n"
     ]
    }
   ],
   "source": [
    "nombre_in = \"dansu-lost-in-the-city_16.mp3\"\n",
    "nombre_out = \"dansu-lost-in-the-city_16.wav\"\n",
    "command_consola = \"ffmpeg -i \" + nombre_in +\" \"+ nombre_out\n",
    "os.system(command_consola)\n",
    "\n",
    "import soundfile as sf \n",
    "x102, fs102 = sf.read('dansu-lost-in-the-city_16.wav')\n",
    "x102=x102[0:mmax,:]\n",
    "print('Frecuencia de muestreo %.2f[Hz]\\naudio %s' % (fs102,nombre_out))"
   ]
  },
  {
   "cell_type": "code",
   "execution_count": 715,
   "metadata": {},
   "outputs": [],
   "source": [
    "xpro102 = x102.copy() \n",
    "Xw102 = np.fft.rfft(xpro102,axis=0) \n",
    "vf102 = np.fft.rfftfreq(np.size(xpro102,0),1/fs102)\n",
    "xwm102 = (abs(Xw102[:,[0]]))\n",
    "xwmt102 = np.transpose(xwm102)\n",
    "xwmm102 = (abs(Xw102[:,[1]]))\n",
    "xwmy102 = np.transpose(xwmm102)"
   ]
  },
  {
   "cell_type": "markdown",
   "metadata": {},
   "source": [
    "<audio src=\"dansu-love-is-ours_1.mp3\" controls>Your browser does not support the audio element.</audio>\n",
    "[dansu-love-is-ours_1.mp3](dansu-love-is-ours_1.mp3)"
   ]
  },
  {
   "cell_type": "code",
   "execution_count": 716,
   "metadata": {},
   "outputs": [
    {
     "name": "stdout",
     "output_type": "stream",
     "text": [
      "Frecuencia de muestreo 44100.00[Hz]\n",
      "audio dansu-love-is-ours_1.wav\n"
     ]
    }
   ],
   "source": [
    "nombre_in = \"dansu-love-is-ours_1.mp3\"\n",
    "nombre_out = \"dansu-love-is-ours_1.wav\"\n",
    "command_consola = \"ffmpeg -i \" + nombre_in +\" \"+ nombre_out\n",
    "os.system(command_consola)\n",
    "\n",
    "import soundfile as sf \n",
    "x103, fs103 = sf.read('dansu-love-is-ours_1.wav')\n",
    "x103=x103[0:mmax,:]\n",
    "print('Frecuencia de muestreo %.2f[Hz]\\naudio %s' % (fs103,nombre_out))"
   ]
  },
  {
   "cell_type": "code",
   "execution_count": 717,
   "metadata": {},
   "outputs": [],
   "source": [
    "xpro103 = x103.copy() \n",
    "Xw103 = np.fft.rfft(xpro103,axis=0) \n",
    "vf103 = np.fft.rfftfreq(np.size(xpro103,0),1/fs103)\n",
    "xwm103 = (abs(Xw103[:,[0]]))\n",
    "xwmt103 = np.transpose(xwm103)\n",
    "xwmm103 = (abs(Xw103[:,[1]]))\n",
    "xwmy103 = np.transpose(xwmm103)"
   ]
  },
  {
   "cell_type": "markdown",
   "metadata": {},
   "source": [
    "<audio src=\"dansu-love-is-ours_2.mp3\" controls>Your browser does not support the audio element.</audio>\n",
    "[dansu-love-is-ours_2.mp3](dansu-love-is-ours_2.mp3)"
   ]
  },
  {
   "cell_type": "code",
   "execution_count": 718,
   "metadata": {},
   "outputs": [
    {
     "name": "stdout",
     "output_type": "stream",
     "text": [
      "Frecuencia de muestreo 44100.00[Hz]\n",
      "audio dansu-love-is-ours_2.wav\n"
     ]
    }
   ],
   "source": [
    "nombre_in = \"dansu-love-is-ours_2.mp3\"\n",
    "nombre_out = \"dansu-love-is-ours_2.wav\"\n",
    "command_consola = \"ffmpeg -i \" + nombre_in +\" \"+ nombre_out\n",
    "os.system(command_consola)\n",
    "\n",
    "import soundfile as sf \n",
    "x104, fs104 = sf.read('dansu-love-is-ours_2.wav')\n",
    "x104=x104[0:mmax,:]\n",
    "print('Frecuencia de muestreo %.2f[Hz]\\naudio %s' % (fs104,nombre_out))"
   ]
  },
  {
   "cell_type": "code",
   "execution_count": 719,
   "metadata": {},
   "outputs": [],
   "source": [
    "xpro104 = x104.copy() \n",
    "Xw104 = np.fft.rfft(xpro104,axis=0) \n",
    "vf104 = np.fft.rfftfreq(np.size(xpro104,0),1/fs104)\n",
    "xwm104 = (abs(Xw104[:,[0]]))\n",
    "xwmt104 = np.transpose(xwm104)\n",
    "xwmm104 = (abs(Xw104[:,[1]]))\n",
    "xwmy104 = np.transpose(xwmm104)"
   ]
  },
  {
   "cell_type": "markdown",
   "metadata": {},
   "source": [
    "<audio src=\"dansu-love-is-ours_3.mp3\" controls>Your browser does not support the audio element.</audio>\n",
    "[dansu-love-is-ours_3.mp3](dansu-love-is-ours_3.mp3)"
   ]
  },
  {
   "cell_type": "code",
   "execution_count": 720,
   "metadata": {},
   "outputs": [
    {
     "name": "stdout",
     "output_type": "stream",
     "text": [
      "Frecuencia de muestreo 44100.00[Hz]\n",
      "audio dansu-love-is-ours_3.wav\n"
     ]
    }
   ],
   "source": [
    "nombre_in = \"dansu-love-is-ours_3.mp3\"\n",
    "nombre_out = \"dansu-love-is-ours_3.wav\"\n",
    "command_consola = \"ffmpeg -i \" + nombre_in +\" \"+ nombre_out\n",
    "os.system(command_consola)\n",
    "\n",
    "import soundfile as sf \n",
    "x105, fs105 = sf.read('dansu-love-is-ours_3.wav')\n",
    "x105=x105[0:mmax,:]\n",
    "print('Frecuencia de muestreo %.2f[Hz]\\naudio %s' % (fs105,nombre_out))"
   ]
  },
  {
   "cell_type": "code",
   "execution_count": 721,
   "metadata": {},
   "outputs": [],
   "source": [
    "xpro105 = x105.copy() \n",
    "Xw105 = np.fft.rfft(xpro105,axis=0) \n",
    "vf105 = np.fft.rfftfreq(np.size(xpro105,0),1/fs105)\n",
    "xwm105 = (abs(Xw105[:,[0]]))\n",
    "xwmt105 = np.transpose(xwm105)\n",
    "xwmm105 = (abs(Xw105[:,[1]]))\n",
    "xwmy105 = np.transpose(xwmm105)"
   ]
  },
  {
   "cell_type": "markdown",
   "metadata": {},
   "source": [
    "<audio src=\"dansu-love-is-ours_4.mp3\" controls>Your browser does not support the audio element.</audio>\n",
    "[dansu-love-is-ours_4.mp3](dansu-love-is-ours_4.mp3)"
   ]
  },
  {
   "cell_type": "code",
   "execution_count": 722,
   "metadata": {},
   "outputs": [
    {
     "name": "stdout",
     "output_type": "stream",
     "text": [
      "Frecuencia de muestreo 44100.00[Hz]\n",
      "audio dansu-love-is-ours_4.wav\n"
     ]
    }
   ],
   "source": [
    "nombre_in = \"dansu-love-is-ours_4.mp3\"\n",
    "nombre_out = \"dansu-love-is-ours_4.wav\"\n",
    "command_consola = \"ffmpeg -i \" + nombre_in +\" \"+ nombre_out\n",
    "os.system(command_consola)\n",
    "\n",
    "import soundfile as sf \n",
    "x106, fs106 = sf.read('dansu-love-is-ours_4.wav')\n",
    "x106=x106[0:mmax,:]\n",
    "print('Frecuencia de muestreo %.2f[Hz]\\naudio %s' % (fs106,nombre_out))"
   ]
  },
  {
   "cell_type": "code",
   "execution_count": 723,
   "metadata": {},
   "outputs": [],
   "source": [
    "xpro106 = x106.copy() \n",
    "Xw106 = np.fft.rfft(xpro106,axis=0) \n",
    "vf106 = np.fft.rfftfreq(np.size(xpro106,0),1/fs106)\n",
    "xwm106 = (abs(Xw106[:,[0]]))\n",
    "xwmt106 = np.transpose(xwm106)\n",
    "xwmm106 = (abs(Xw106[:,[1]]))\n",
    "xwmy106 = np.transpose(xwmm106)"
   ]
  },
  {
   "cell_type": "markdown",
   "metadata": {},
   "source": [
    "<audio src=\"dansu-love-is-ours_5.mp3\" controls>Your browser does not support the audio element.</audio>\n",
    "[dansu-love-is-ours_5.mp3](dansu-love-is-ours_5.mp3)"
   ]
  },
  {
   "cell_type": "code",
   "execution_count": 724,
   "metadata": {},
   "outputs": [
    {
     "name": "stdout",
     "output_type": "stream",
     "text": [
      "Frecuencia de muestreo 44100.00[Hz]\n",
      "audio dansu-love-is-ours_5.wav\n"
     ]
    }
   ],
   "source": [
    "nombre_in = \"dansu-love-is-ours_5.mp3\"\n",
    "nombre_out = \"dansu-love-is-ours_5.wav\"\n",
    "command_consola = \"ffmpeg -i \" + nombre_in +\" \"+ nombre_out\n",
    "os.system(command_consola)\n",
    "\n",
    "import soundfile as sf \n",
    "x107, fs107 = sf.read('dansu-love-is-ours_5.wav')\n",
    "x107=x107[0:mmax,:]\n",
    "print('Frecuencia de muestreo %.2f[Hz]\\naudio %s' % (fs107,nombre_out))"
   ]
  },
  {
   "cell_type": "code",
   "execution_count": 725,
   "metadata": {},
   "outputs": [],
   "source": [
    "xpro107 = x107.copy() \n",
    "Xw107 = np.fft.rfft(xpro107,axis=0) \n",
    "vf107 = np.fft.rfftfreq(np.size(xpro107,0),1/fs107)\n",
    "xwm107 = (abs(Xw107[:,[0]]))\n",
    "xwmt107 = np.transpose(xwm107)\n",
    "xwmm107 = (abs(Xw107[:,[1]]))\n",
    "xwmy107 = np.transpose(xwmm107)"
   ]
  },
  {
   "cell_type": "markdown",
   "metadata": {},
   "source": [
    "<audio src=\"dansu-love-is-ours_6.mp3\" controls>Your browser does not support the audio element.</audio>\n",
    "[dansu-love-is-ours_6.mp3](dansu-love-is-ours_6.mp3)"
   ]
  },
  {
   "cell_type": "code",
   "execution_count": 726,
   "metadata": {},
   "outputs": [
    {
     "name": "stdout",
     "output_type": "stream",
     "text": [
      "Frecuencia de muestreo 44100.00[Hz]\n",
      "audio dansu-love-is-ours_6.wav\n"
     ]
    }
   ],
   "source": [
    "nombre_in = \"dansu-love-is-ours_6.mp3\"\n",
    "nombre_out = \"dansu-love-is-ours_6.wav\"\n",
    "command_consola = \"ffmpeg -i \" + nombre_in +\" \"+ nombre_out\n",
    "os.system(command_consola)\n",
    "\n",
    "import soundfile as sf \n",
    "x108, fs108 = sf.read('dansu-love-is-ours_6.wav')\n",
    "x108=x108[0:mmax,:]\n",
    "print('Frecuencia de muestreo %.2f[Hz]\\naudio %s' % (fs108,nombre_out))"
   ]
  },
  {
   "cell_type": "code",
   "execution_count": 727,
   "metadata": {},
   "outputs": [],
   "source": [
    "xpro108 = x108.copy() \n",
    "Xw108 = np.fft.rfft(xpro108,axis=0) \n",
    "vf108 = np.fft.rfftfreq(np.size(xpro108,0),1/fs108)\n",
    "xwm108 = (abs(Xw108[:,[0]]))\n",
    "xwmt108 = np.transpose(xwm108)\n",
    "xwmm108 = (abs(Xw108[:,[1]]))\n",
    "xwmy108 = np.transpose(xwmm108)"
   ]
  },
  {
   "cell_type": "markdown",
   "metadata": {},
   "source": [
    "<audio src=\"dansu-love-is-ours_7.mp3\" controls>Your browser does not support the audio element.</audio>\n",
    "[dansu-love-is-ours_7.mp3](dansu-love-is-ours_7.mp3)"
   ]
  },
  {
   "cell_type": "code",
   "execution_count": 728,
   "metadata": {},
   "outputs": [
    {
     "name": "stdout",
     "output_type": "stream",
     "text": [
      "Frecuencia de muestreo 44100.00[Hz]\n",
      "audio dansu-love-is-ours_7.wav\n"
     ]
    }
   ],
   "source": [
    "nombre_in = \"dansu-love-is-ours_7.mp3\"\n",
    "nombre_out = \"dansu-love-is-ours_7.wav\"\n",
    "command_consola = \"ffmpeg -i \" + nombre_in +\" \"+ nombre_out\n",
    "os.system(command_consola)\n",
    "\n",
    "import soundfile as sf \n",
    "x109, fs109 = sf.read('dansu-love-is-ours_7.wav')\n",
    "x109=x109[0:mmax,:]\n",
    "print('Frecuencia de muestreo %.2f[Hz]\\naudio %s' % (fs109,nombre_out))"
   ]
  },
  {
   "cell_type": "code",
   "execution_count": 729,
   "metadata": {},
   "outputs": [],
   "source": [
    "xpro109 = x109.copy() \n",
    "Xw109 = np.fft.rfft(xpro109,axis=0) \n",
    "vf109 = np.fft.rfftfreq(np.size(xpro109,0),1/fs109)\n",
    "xwm109 = (abs(Xw109[:,[0]]))\n",
    "xwmt109 = np.transpose(xwm109)\n",
    "xwmm109 = (abs(Xw109[:,[1]]))\n",
    "xwmy109 = np.transpose(xwmm109)"
   ]
  },
  {
   "cell_type": "markdown",
   "metadata": {},
   "source": [
    "<audio src=\"dansu-love-is-ours_8.mp3\" controls>Your browser does not support the audio element.</audio>\n",
    "[dansu-love-is-ours_8.mp3](dansu-love-is-ours_8.mp3)"
   ]
  },
  {
   "cell_type": "code",
   "execution_count": 730,
   "metadata": {},
   "outputs": [
    {
     "name": "stdout",
     "output_type": "stream",
     "text": [
      "Frecuencia de muestreo 44100.00[Hz]\n",
      "audio dansu-love-is-ours_8.wav\n"
     ]
    }
   ],
   "source": [
    "nombre_in = \"dansu-love-is-ours_8.mp3\"\n",
    "nombre_out = \"dansu-love-is-ours_8.wav\"\n",
    "command_consola = \"ffmpeg -i \" + nombre_in +\" \"+ nombre_out\n",
    "os.system(command_consola)\n",
    "\n",
    "import soundfile as sf \n",
    "x110, fs110 = sf.read('dansu-love-is-ours_8.wav')\n",
    "x110=x110[0:mmax,:]\n",
    "print('Frecuencia de muestreo %.2f[Hz]\\naudio %s' % (fs110,nombre_out))"
   ]
  },
  {
   "cell_type": "code",
   "execution_count": 731,
   "metadata": {},
   "outputs": [],
   "source": [
    "xpro110 = x110.copy() \n",
    "Xw110 = np.fft.rfft(xpro110,axis=0) \n",
    "vf110 = np.fft.rfftfreq(np.size(xpro110,0),1/fs110)\n",
    "xwm110 = (abs(Xw110[:,[0]]))\n",
    "xwmt110 = np.transpose(xwm110)\n",
    "xwmm110 = (abs(Xw110[:,[1]]))\n",
    "xwmy110 = np.transpose(xwmm110)"
   ]
  },
  {
   "cell_type": "markdown",
   "metadata": {},
   "source": [
    "<audio src=\"dansu-love-is-ours_9.mp3\" controls>Your browser does not support the audio element.</audio>\n",
    "[dansu-love-is-ours_9.mp3](dansu-love-is-ours_9.mp3)"
   ]
  },
  {
   "cell_type": "code",
   "execution_count": 732,
   "metadata": {},
   "outputs": [
    {
     "name": "stdout",
     "output_type": "stream",
     "text": [
      "Frecuencia de muestreo 44100.00[Hz]\n",
      "audio dansu-love-is-ours_9.wav\n"
     ]
    }
   ],
   "source": [
    "nombre_in = \"dansu-love-is-ours_9.mp3\"\n",
    "nombre_out = \"dansu-love-is-ours_9.wav\"\n",
    "command_consola = \"ffmpeg -i \" + nombre_in +\" \"+ nombre_out\n",
    "os.system(command_consola)\n",
    "\n",
    "import soundfile as sf \n",
    "x111, fs111 = sf.read('dansu-love-is-ours_9.wav')\n",
    "x111=x111[0:mmax,:]\n",
    "print('Frecuencia de muestreo %.2f[Hz]\\naudio %s' % (fs111,nombre_out))"
   ]
  },
  {
   "cell_type": "code",
   "execution_count": 733,
   "metadata": {},
   "outputs": [],
   "source": [
    "xpro111 = x111.copy() \n",
    "Xw111 = np.fft.rfft(xpro111,axis=0) \n",
    "vf111 = np.fft.rfftfreq(np.size(xpro111,0),1/fs111)\n",
    "xwm111 = (abs(Xw111[:,[0]]))\n",
    "xwmt111 = np.transpose(xwm111)\n",
    "xwmm111 = (abs(Xw111[:,[1]]))\n",
    "xwmy111 = np.transpose(xwmm111)"
   ]
  },
  {
   "cell_type": "markdown",
   "metadata": {},
   "source": [
    "<audio src=\"dansu-love-is-ours_10.mp3\" controls>Your browser does not support the audio element.</audio>\n",
    "[dansu-love-is-ours_10.mp3](dansu-love-is-ours_10.mp3)"
   ]
  },
  {
   "cell_type": "code",
   "execution_count": 734,
   "metadata": {},
   "outputs": [
    {
     "name": "stdout",
     "output_type": "stream",
     "text": [
      "Frecuencia de muestreo 44100.00[Hz]\n",
      "audio dansu-love-is-ours_10.wav\n"
     ]
    }
   ],
   "source": [
    "nombre_in = \"dansu-love-is-ours_10.mp3\"\n",
    "nombre_out = \"dansu-love-is-ours_10.wav\"\n",
    "command_consola = \"ffmpeg -i \" + nombre_in +\" \"+ nombre_out\n",
    "os.system(command_consola)\n",
    "\n",
    "import soundfile as sf \n",
    "x112, fs112 = sf.read('dansu-love-is-ours_10.wav')\n",
    "x112=x112[0:mmax,:]\n",
    "print('Frecuencia de muestreo %.2f[Hz]\\naudio %s' % (fs112,nombre_out))"
   ]
  },
  {
   "cell_type": "code",
   "execution_count": 735,
   "metadata": {},
   "outputs": [],
   "source": [
    "xpro112 = x112.copy() \n",
    "Xw112 = np.fft.rfft(xpro112,axis=0) \n",
    "vf112 = np.fft.rfftfreq(np.size(xpro112,0),1/fs112)\n",
    "xwm112 = (abs(Xw112[:,[0]]))\n",
    "xwmt112 = np.transpose(xwm112)\n",
    "xwmm112 = (abs(Xw112[:,[1]]))\n",
    "xwmy112 = np.transpose(xwmm112)"
   ]
  },
  {
   "cell_type": "markdown",
   "metadata": {},
   "source": [
    "<audio src=\"dansu-love-is-ours_11.mp3\" controls>Your browser does not support the audio element.</audio>\n",
    "[dansu-love-is-ours_11.mp3](dansu-love-is-ours_11.mp3)"
   ]
  },
  {
   "cell_type": "code",
   "execution_count": 736,
   "metadata": {},
   "outputs": [
    {
     "name": "stdout",
     "output_type": "stream",
     "text": [
      "Frecuencia de muestreo 44100.00[Hz]\n",
      "audio dansu-love-is-ours_11.wav\n"
     ]
    }
   ],
   "source": [
    "nombre_in = \"dansu-love-is-ours_11.mp3\"\n",
    "nombre_out = \"dansu-love-is-ours_11.wav\"\n",
    "command_consola = \"ffmpeg -i \" + nombre_in +\" \"+ nombre_out\n",
    "os.system(command_consola)\n",
    "\n",
    "import soundfile as sf \n",
    "x113, fs113 = sf.read('dansu-love-is-ours_11.wav')\n",
    "x113=x113[0:mmax,:]\n",
    "print('Frecuencia de muestreo %.2f[Hz]\\naudio %s' % (fs113,nombre_out))"
   ]
  },
  {
   "cell_type": "code",
   "execution_count": 737,
   "metadata": {},
   "outputs": [],
   "source": [
    "xpro113 = x113.copy() \n",
    "Xw113 = np.fft.rfft(xpro113,axis=0) \n",
    "vf113 = np.fft.rfftfreq(np.size(xpro113,0),1/fs113)\n",
    "xwm113 = (abs(Xw113[:,[0]]))\n",
    "xwmt113 = np.transpose(xwm113)\n",
    "xwmm113 = (abs(Xw113[:,[1]]))\n",
    "xwmy113 = np.transpose(xwmm113)\n"
   ]
  },
  {
   "cell_type": "markdown",
   "metadata": {},
   "source": [
    "<audio src=\"dansu-love-is-ours_12.mp3\" controls>Your browser does not support the audio element.</audio>\n",
    "[dansu-love-is-ours_12.mp3](dansu-love-is-ours_12.mp3)"
   ]
  },
  {
   "cell_type": "code",
   "execution_count": 738,
   "metadata": {},
   "outputs": [
    {
     "name": "stdout",
     "output_type": "stream",
     "text": [
      "Frecuencia de muestreo 44100.00[Hz]\n",
      "audio dansu-love-is-ours_12.wav\n"
     ]
    }
   ],
   "source": [
    "nombre_in = \"dansu-love-is-ours_12.mp3\"\n",
    "nombre_out = \"dansu-love-is-ours_12.wav\"\n",
    "command_consola = \"ffmpeg -i \" + nombre_in +\" \"+ nombre_out\n",
    "os.system(command_consola)\n",
    "\n",
    "import soundfile as sf \n",
    "x114, fs114 = sf.read('dansu-love-is-ours_12.wav')\n",
    "x114=x114[0:mmax,:]\n",
    "print('Frecuencia de muestreo %.2f[Hz]\\naudio %s' % (fs114,nombre_out))"
   ]
  },
  {
   "cell_type": "code",
   "execution_count": 739,
   "metadata": {},
   "outputs": [],
   "source": [
    "xpro114 = x114.copy() \n",
    "Xw114 = np.fft.rfft(xpro114,axis=0) \n",
    "vf114 = np.fft.rfftfreq(np.size(xpro114,0),1/fs114)\n",
    "xwm114 = (abs(Xw114[:,[0]]))\n",
    "xwmt114 = np.transpose(xwm114)\n",
    "xwmm114 = (abs(Xw114[:,[1]]))\n",
    "xwmy114 = np.transpose(xwmm114)"
   ]
  },
  {
   "cell_type": "markdown",
   "metadata": {},
   "source": [
    "<audio src=\"dansu-love-is-ours_13.mp3\" controls>Your browser does not support the audio element.</audio>\n",
    "[dansu-love-is-ours_13.mp3](dansu-love-is-ours_13.mp3)"
   ]
  },
  {
   "cell_type": "code",
   "execution_count": 740,
   "metadata": {},
   "outputs": [
    {
     "name": "stdout",
     "output_type": "stream",
     "text": [
      "Frecuencia de muestreo 44100.00[Hz]\n",
      "audio dansu-love-is-ours_13.wav\n"
     ]
    }
   ],
   "source": [
    "nombre_in = \"dansu-love-is-ours_13.mp3\"\n",
    "nombre_out = \"dansu-love-is-ours_13.wav\"\n",
    "command_consola = \"ffmpeg -i \" + nombre_in +\" \"+ nombre_out\n",
    "os.system(command_consola)\n",
    "\n",
    "import soundfile as sf \n",
    "x115, fs115 = sf.read('dansu-love-is-ours_13.wav')\n",
    "x115=x115[0:mmax,:]\n",
    "print('Frecuencia de muestreo %.2f[Hz]\\naudio %s' % (fs115,nombre_out))"
   ]
  },
  {
   "cell_type": "code",
   "execution_count": 741,
   "metadata": {},
   "outputs": [],
   "source": [
    "xpro115 = x115.copy() \n",
    "Xw115 = np.fft.rfft(xpro115,axis=0) \n",
    "vf115 = np.fft.rfftfreq(np.size(xpro115,0),1/fs115)\n",
    "xwm115 = (abs(Xw115[:,[0]]))\n",
    "xwmt115 = np.transpose(xwm115)\n",
    "xwmm115 = (abs(Xw115[:,[1]]))\n",
    "xwmy115 = np.transpose(xwmm115)"
   ]
  },
  {
   "cell_type": "markdown",
   "metadata": {},
   "source": [
    "<audio src=\"dansu-love-is-ours_14.mp3\" controls>Your browser does not support the audio element.</audio>\n",
    "[dansu-love-is-ours_14.mp3](dansu-love-is-ours_14.mp3)"
   ]
  },
  {
   "cell_type": "code",
   "execution_count": 742,
   "metadata": {},
   "outputs": [
    {
     "name": "stdout",
     "output_type": "stream",
     "text": [
      "Frecuencia de muestreo 44100.00[Hz]\n",
      "audio dansu-love-is-ours_14.wav\n"
     ]
    }
   ],
   "source": [
    "nombre_in = \"dansu-love-is-ours_14.mp3\"\n",
    "nombre_out = \"dansu-love-is-ours_14.wav\"\n",
    "command_consola = \"ffmpeg -i \" + nombre_in +\" \"+ nombre_out\n",
    "os.system(command_consola)\n",
    "\n",
    "import soundfile as sf \n",
    "x116, fs116 = sf.read('dansu-love-is-ours_14.wav')\n",
    "x116=x116[0:mmax,:]\n",
    "print('Frecuencia de muestreo %.2f[Hz]\\naudio %s' % (fs116,nombre_out))"
   ]
  },
  {
   "cell_type": "code",
   "execution_count": 743,
   "metadata": {},
   "outputs": [],
   "source": [
    "xpro116 = x116.copy() \n",
    "Xw116 = np.fft.rfft(xpro116,axis=0) \n",
    "vf116 = np.fft.rfftfreq(np.size(xpro116,0),1/fs116)\n",
    "xwm116 = (abs(Xw116[:,[0]]))\n",
    "xwmt116 = np.transpose(xwm116)\n",
    "xwmm116 = (abs(Xw116[:,[1]]))\n",
    "xwmy116 = np.transpose(xwmm116)"
   ]
  },
  {
   "cell_type": "markdown",
   "metadata": {},
   "source": [
    "<audio src=\"dansu-love-is-ours_15.mp3\" controls>Your browser does not support the audio element.</audio>\n",
    "[dansu-love-is-ours_15.mp3](dansu-love-is-ours_15.mp3)"
   ]
  },
  {
   "cell_type": "code",
   "execution_count": 744,
   "metadata": {},
   "outputs": [
    {
     "name": "stdout",
     "output_type": "stream",
     "text": [
      "Frecuencia de muestreo 44100.00[Hz]\n",
      "audio dansu-love-is-ours_15.wav\n"
     ]
    }
   ],
   "source": [
    "nombre_in = \"dansu-love-is-ours_15.mp3\"\n",
    "nombre_out = \"dansu-love-is-ours_15.wav\"\n",
    "command_consola = \"ffmpeg -i \" + nombre_in +\" \"+ nombre_out\n",
    "os.system(command_consola)\n",
    "\n",
    "import soundfile as sf \n",
    "x117, fs117 = sf.read('dansu-love-is-ours_15.wav')\n",
    "x117=x117[0:mmax,:]\n",
    "print('Frecuencia de muestreo %.2f[Hz]\\naudio %s' % (fs117,nombre_out))"
   ]
  },
  {
   "cell_type": "code",
   "execution_count": 745,
   "metadata": {},
   "outputs": [],
   "source": [
    "xpro117 = x117.copy() \n",
    "Xw117 = np.fft.rfft(xpro117,axis=0) \n",
    "vf117 = np.fft.rfftfreq(np.size(xpro117,0),1/fs117)\n",
    "xwm117 = (abs(Xw117[:,[0]]))\n",
    "xwmt117 = np.transpose(xwm117)\n",
    "xwmm117 = (abs(Xw117[:,[1]]))\n",
    "xwmy117 = np.transpose(xwmm117)"
   ]
  },
  {
   "cell_type": "markdown",
   "metadata": {},
   "source": [
    "<audio src=\"dansu-love-is-ours_16.mp3\" controls>Your browser does not support the audio element.</audio>\n",
    "[dansu-love-is-ours_16.mp3](dansu-love-is-ours_16.mp3)"
   ]
  },
  {
   "cell_type": "code",
   "execution_count": 746,
   "metadata": {},
   "outputs": [
    {
     "name": "stdout",
     "output_type": "stream",
     "text": [
      "Frecuencia de muestreo 44100.00[Hz]\n",
      "audio dansu-love-is-ours_16.wav\n"
     ]
    }
   ],
   "source": [
    "nombre_in = \"dansu-love-is-ours_16.mp3\"\n",
    "nombre_out = \"dansu-love-is-ours_16.wav\"\n",
    "command_consola = \"ffmpeg -i \" + nombre_in +\" \"+ nombre_out\n",
    "os.system(command_consola)\n",
    "\n",
    "import soundfile as sf \n",
    "x118, fs118 = sf.read('dansu-love-is-ours_16.wav')\n",
    "x118=x118[0:mmax,:]\n",
    "print('Frecuencia de muestreo %.2f[Hz]\\naudio %s' % (fs118,nombre_out))"
   ]
  },
  {
   "cell_type": "code",
   "execution_count": 747,
   "metadata": {},
   "outputs": [],
   "source": [
    "xpro118 = x118.copy() \n",
    "Xw118 = np.fft.rfft(xpro118,axis=0) \n",
    "vf118 = np.fft.rfftfreq(np.size(xpro118,0),1/fs118)\n",
    "xwm118 = (abs(Xw118[:,[0]]))\n",
    "xwmt118 = np.transpose(xwm118)\n",
    "xwmm118 = (abs(Xw118[:,[1]]))\n",
    "xwmy118 = np.transpose(xwmm118)"
   ]
  },
  {
   "cell_type": "markdown",
   "metadata": {},
   "source": [
    "<audio src=\"dansu-love-is-ours_17.mp3\" controls>Your browser does not support the audio element.</audio>\n",
    "[dansu-love-is-ours_17.mp3](dansu-love-is-ours_17.mp3)"
   ]
  },
  {
   "cell_type": "code",
   "execution_count": 748,
   "metadata": {},
   "outputs": [
    {
     "name": "stdout",
     "output_type": "stream",
     "text": [
      "Frecuencia de muestreo 44100.00[Hz]\n",
      "audio dansu-love-is-ours_17.wav\n"
     ]
    }
   ],
   "source": [
    "nombre_in = \"dansu-love-is-ours_17.mp3\"\n",
    "nombre_out = \"dansu-love-is-ours_17.wav\"\n",
    "command_consola = \"ffmpeg -i \" + nombre_in +\" \"+ nombre_out\n",
    "os.system(command_consola)\n",
    "\n",
    "import soundfile as sf \n",
    "x119, fs119 = sf.read('dansu-love-is-ours_17.wav')\n",
    "x119=x119[0:mmax,:]\n",
    "print('Frecuencia de muestreo %.2f[Hz]\\naudio %s' % (fs119,nombre_out))"
   ]
  },
  {
   "cell_type": "code",
   "execution_count": 749,
   "metadata": {},
   "outputs": [],
   "source": [
    "xpro119 = x119.copy() \n",
    "Xw119 = np.fft.rfft(xpro119,axis=0) \n",
    "vf119 = np.fft.rfftfreq(np.size(xpro119,0),1/fs119)\n",
    "xwm119 = (abs(Xw119[:,[0]]))\n",
    "xwmt119 = np.transpose(xwm119)\n",
    "xwmm119 = (abs(Xw119[:,[1]]))\n",
    "xwmy119 = np.transpose(xwmm119)"
   ]
  },
  {
   "cell_type": "markdown",
   "metadata": {},
   "source": [
    "<audio src=\"dansu-love-is-ours_18.mp3\" controls>Your browser does not support the audio element.</audio>\n",
    "[dansu-love-is-ours_18.mp3](dansu-love-is-ours_18.mp3)"
   ]
  },
  {
   "cell_type": "code",
   "execution_count": 750,
   "metadata": {},
   "outputs": [
    {
     "name": "stdout",
     "output_type": "stream",
     "text": [
      "Frecuencia de muestreo 44100.00[Hz]\n",
      "audio dansu-love-is-ours_18.wav\n"
     ]
    }
   ],
   "source": [
    "nombre_in = \"dansu-love-is-ours_18.mp3\"\n",
    "nombre_out = \"dansu-love-is-ours_18.wav\"\n",
    "command_consola = \"ffmpeg -i \" + nombre_in +\" \"+ nombre_out\n",
    "os.system(command_consola)\n",
    "\n",
    "import soundfile as sf \n",
    "x120, fs120 = sf.read('dansu-love-is-ours_18.wav')\n",
    "x120=x120[0:mmax,:]\n",
    "print('Frecuencia de muestreo %.2f[Hz]\\naudio %s' % (fs120,nombre_out))"
   ]
  },
  {
   "cell_type": "code",
   "execution_count": 751,
   "metadata": {},
   "outputs": [],
   "source": [
    "xpro120 = x120.copy() \n",
    "Xw120 = np.fft.rfft(xpro120,axis=0) \n",
    "vf120 = np.fft.rfftfreq(np.size(xpro120,0),1/fs120)\n",
    "xwm120 = (abs(Xw120[:,[0]]))\n",
    "xwmt120 = np.transpose(xwm120)\n",
    "xwmm120 = (abs(Xw120[:,[1]]))\n",
    "xwmy120 = np.transpose(xwmm120)"
   ]
  },
  {
   "cell_type": "markdown",
   "metadata": {},
   "source": [
    "<audio src=\"RUN.mp3\" controls>Your browser does not support the audio element.</audio>\n",
    "[RUN.mp3](RUN.mp3)"
   ]
  },
  {
   "cell_type": "code",
   "execution_count": 752,
   "metadata": {},
   "outputs": [
    {
     "name": "stdout",
     "output_type": "stream",
     "text": [
      "Frecuencia de muestreo 44100.00[Hz]\n",
      "audio RUN.wav\n"
     ]
    }
   ],
   "source": [
    "nombre_in = \"RUN.mp3\"\n",
    "nombre_out = \"RUN.wav\"\n",
    "command_consola = \"ffmpeg -i \" + nombre_in +\" \"+ nombre_out\n",
    "os.system(command_consola)\n",
    "\n",
    "import soundfile as sf \n",
    "x121, fs121 = sf.read('RUN.wav')\n",
    "x121=x121[0:mmax,:]\n",
    "print('Frecuencia de muestreo %.2f[Hz]\\naudio %s' % (fs121,nombre_out))"
   ]
  },
  {
   "cell_type": "code",
   "execution_count": 753,
   "metadata": {},
   "outputs": [],
   "source": [
    "xpro121 = x121.copy() \n",
    "Xw121 = np.fft.rfft(xpro121,axis=0) \n",
    "vf121 = np.fft.rfftfreq(np.size(xpro121,0),1/fs121)\n",
    "xwm121 = (abs(Xw121[:,[0]]))\n",
    "xwmt121 = np.transpose(xwm121)\n",
    "xwmm121 = (abs(Xw121[:,[1]]))\n",
    "xwmy121 = np.transpose(xwmm121)"
   ]
  },
  {
   "cell_type": "markdown",
   "metadata": {},
   "source": [
    "<audio src=\"RUN1.mp3\" controls>Your browser does not support the audio element.</audio>\n",
    "[RUN1.mp3](RUN1.mp3)"
   ]
  },
  {
   "cell_type": "code",
   "execution_count": 754,
   "metadata": {},
   "outputs": [
    {
     "name": "stdout",
     "output_type": "stream",
     "text": [
      "Frecuencia de muestreo 44100.00[Hz]\n",
      "audio RUN1.wav\n"
     ]
    }
   ],
   "source": [
    "nombre_in = \"RUN1.mp3\"\n",
    "nombre_out = \"RUN1.wav\"\n",
    "command_consola = \"ffmpeg -i \" + nombre_in +\" \"+ nombre_out\n",
    "os.system(command_consola)\n",
    "\n",
    "import soundfile as sf \n",
    "x122, fs122 = sf.read('RUN1.wav')\n",
    "x122=x122[0:mmax,:]\n",
    "print('Frecuencia de muestreo %.2f[Hz]\\naudio %s' % (fs122,nombre_out))"
   ]
  },
  {
   "cell_type": "code",
   "execution_count": 755,
   "metadata": {},
   "outputs": [],
   "source": [
    "xpro122 = x122.copy() \n",
    "Xw122 = np.fft.rfft(xpro122,axis=0) \n",
    "vf122 = np.fft.rfftfreq(np.size(xpro122,0),1/fs122)\n",
    "xwm122 = (abs(Xw122[:,[0]]))\n",
    "xwmt122 = np.transpose(xwm122)\n",
    "xwmm122 = (abs(Xw122[:,[1]]))\n",
    "xwmy122 = np.transpose(xwmm122)"
   ]
  },
  {
   "cell_type": "markdown",
   "metadata": {},
   "source": [
    "<audio src=\"RUN2.mp3\" controls>Your browser does not support the audio element.</audio>\n",
    "[RUN2.mp3](RUN2.mp3)"
   ]
  },
  {
   "cell_type": "code",
   "execution_count": 756,
   "metadata": {},
   "outputs": [
    {
     "name": "stdout",
     "output_type": "stream",
     "text": [
      "Frecuencia de muestreo 44100.00[Hz]\n",
      "audio RUN2.wav\n"
     ]
    }
   ],
   "source": [
    "nombre_in = \"RUN2.mp3\"\n",
    "nombre_out = \"RUN2.wav\"\n",
    "command_consola = \"ffmpeg -i \" + nombre_in +\" \"+ nombre_out\n",
    "os.system(command_consola)\n",
    "\n",
    "import soundfile as sf \n",
    "x123, fs123 = sf.read('RUN2.wav')\n",
    "x123=x123[0:mmax,:]\n",
    "print('Frecuencia de muestreo %.2f[Hz]\\naudio %s' % (fs123,nombre_out))"
   ]
  },
  {
   "cell_type": "code",
   "execution_count": 757,
   "metadata": {},
   "outputs": [],
   "source": [
    "xpro123 = x123.copy() \n",
    "Xw123 = np.fft.rfft(xpro123,axis=0) \n",
    "vf123 = np.fft.rfftfreq(np.size(xpro123,0),1/fs123)\n",
    "xwm123 = (abs(Xw123[:,[0]]))\n",
    "xwmt123 = np.transpose(xwm123)\n",
    "xwmm123 = (abs(Xw123[:,[1]]))\n",
    "xwmy123 = np.transpose(xwmm123)"
   ]
  },
  {
   "cell_type": "markdown",
   "metadata": {},
   "source": [
    "<audio src=\"RUN3.mp3\" controls>Your browser does not support the audio element.</audio>\n",
    "[RUN3.mp3](RUN3.mp3)"
   ]
  },
  {
   "cell_type": "code",
   "execution_count": 758,
   "metadata": {},
   "outputs": [
    {
     "name": "stdout",
     "output_type": "stream",
     "text": [
      "Frecuencia de muestreo 44100.00[Hz]\n",
      "audio RUN3.wav\n"
     ]
    }
   ],
   "source": [
    "nombre_in = \"RUN3.mp3\"\n",
    "nombre_out = \"RUN3.wav\"\n",
    "command_consola = \"ffmpeg -i \" + nombre_in +\" \"+ nombre_out\n",
    "os.system(command_consola)\n",
    "\n",
    "import soundfile as sf \n",
    "x124, fs124 = sf.read('RUN3.wav')\n",
    "x124=x124[0:mmax,:]\n",
    "print('Frecuencia de muestreo %.2f[Hz]\\naudio %s' % (fs124,nombre_out))"
   ]
  },
  {
   "cell_type": "code",
   "execution_count": 759,
   "metadata": {},
   "outputs": [],
   "source": [
    "xpro124 = x124.copy() \n",
    "Xw124 = np.fft.rfft(xpro124,axis=0) \n",
    "vf124 = np.fft.rfftfreq(np.size(xpro124,0),1/fs124)\n",
    "xwm124 = (abs(Xw124[:,[0]]))\n",
    "xwmt124 = np.transpose(xwm124)\n",
    "xwmm124 = (abs(Xw124[:,[1]]))\n",
    "xwmy124 = np.transpose(xwmm124)"
   ]
  },
  {
   "cell_type": "markdown",
   "metadata": {},
   "source": [
    "<audio src=\"RUN4.mp3\" controls>Your browser does not support the audio element.</audio>\n",
    "[RUN4.mp3](RUN4.mp3)"
   ]
  },
  {
   "cell_type": "code",
   "execution_count": 760,
   "metadata": {},
   "outputs": [
    {
     "name": "stdout",
     "output_type": "stream",
     "text": [
      "Frecuencia de muestreo 44100.00[Hz]\n",
      "audio RUN4.wav\n"
     ]
    }
   ],
   "source": [
    "nombre_in = \"RUN4.mp3\"\n",
    "nombre_out = \"RUN4.wav\"\n",
    "command_consola = \"ffmpeg -i \" + nombre_in +\" \"+ nombre_out\n",
    "os.system(command_consola)\n",
    "\n",
    "import soundfile as sf \n",
    "x125, fs125 = sf.read('RUN4.wav')\n",
    "x125=x125[0:mmax,:]\n",
    "print('Frecuencia de muestreo %.2f[Hz]\\naudio %s' % (fs125,nombre_out))"
   ]
  },
  {
   "cell_type": "code",
   "execution_count": 761,
   "metadata": {},
   "outputs": [],
   "source": [
    "xpro125 = x125.copy() \n",
    "Xw125 = np.fft.rfft(xpro125,axis=0) \n",
    "vf125 = np.fft.rfftfreq(np.size(xpro125,0),1/fs125)\n",
    "xwm125 = (abs(Xw125[:,[0]]))\n",
    "xwmt125 = np.transpose(xwm125)\n",
    "xwmm125 = (abs(Xw125[:,[1]]))\n",
    "xwmy125 = np.transpose(xwmm125)"
   ]
  },
  {
   "cell_type": "markdown",
   "metadata": {},
   "source": [
    "<audio src=\"RUN5.mp3\" controls>Your browser does not support the audio element.</audio>\n",
    "[RUN5.mp3](RUN5.mp3)"
   ]
  },
  {
   "cell_type": "code",
   "execution_count": 762,
   "metadata": {},
   "outputs": [
    {
     "name": "stdout",
     "output_type": "stream",
     "text": [
      "Frecuencia de muestreo 44100.00[Hz]\n",
      "audio RUN5.wav\n"
     ]
    }
   ],
   "source": [
    "nombre_in = \"RUN5.mp3\"\n",
    "nombre_out = \"RUN5.wav\"\n",
    "command_consola = \"ffmpeg -i \" + nombre_in +\" \"+ nombre_out\n",
    "os.system(command_consola)\n",
    "\n",
    "import soundfile as sf \n",
    "x126, fs126 = sf.read('RUN5.wav')\n",
    "x126=x126[0:mmax,:]\n",
    "print('Frecuencia de muestreo %.2f[Hz]\\naudio %s' % (fs126,nombre_out))\n"
   ]
  },
  {
   "cell_type": "code",
   "execution_count": 763,
   "metadata": {},
   "outputs": [],
   "source": [
    "xpro126 = x126.copy() \n",
    "Xw126 = np.fft.rfft(xpro126,axis=0) \n",
    "vf126 = np.fft.rfftfreq(np.size(xpro126,0),1/fs126)\n",
    "xwm126 = (abs(Xw126[:,[0]]))\n",
    "xwmt126 = np.transpose(xwm126)\n",
    "xwmm126 = (abs(Xw126[:,[1]]))\n",
    "xwmy126 = np.transpose(xwmm126)"
   ]
  },
  {
   "cell_type": "markdown",
   "metadata": {},
   "source": [
    "<audio src=\"RUN6.mp3\" controls>Your browser does not support the audio element.</audio>\n",
    "[RUN6.mp3](RUN6.mp3)"
   ]
  },
  {
   "cell_type": "code",
   "execution_count": 764,
   "metadata": {},
   "outputs": [
    {
     "name": "stdout",
     "output_type": "stream",
     "text": [
      "Frecuencia de muestreo 44100.00[Hz]\n",
      "audio RUN6.wav\n"
     ]
    }
   ],
   "source": [
    "nombre_in = \"RUN6.mp3\"\n",
    "nombre_out = \"RUN6.wav\"\n",
    "command_consola = \"ffmpeg -i \" + nombre_in +\" \"+ nombre_out\n",
    "os.system(command_consola)\n",
    "\n",
    "import soundfile as sf \n",
    "x127, fs127 = sf.read('RUN6.wav')\n",
    "x127=x127[0:mmax,:]\n",
    "print('Frecuencia de muestreo %.2f[Hz]\\naudio %s' % (fs127,nombre_out))"
   ]
  },
  {
   "cell_type": "code",
   "execution_count": 765,
   "metadata": {},
   "outputs": [],
   "source": [
    "xpro127 = x127.copy() \n",
    "Xw127 = np.fft.rfft(xpro127,axis=0) \n",
    "vf127 = np.fft.rfftfreq(np.size(xpro127,0),1/fs127)\n",
    "xwm127 = (abs(Xw127[:,[0]]))\n",
    "xwmt127 = np.transpose(xwm127)\n",
    "xwmm127 = (abs(Xw127[:,[1]]))\n",
    "xwmy127 = np.transpose(xwmm127)"
   ]
  },
  {
   "cell_type": "markdown",
   "metadata": {},
   "source": [
    "<audio src=\"RUN7.mp3\" controls>Your browser does not support the audio element.</audio>\n",
    "[RUN7.mp3](RUN7.mp3)"
   ]
  },
  {
   "cell_type": "code",
   "execution_count": 766,
   "metadata": {},
   "outputs": [
    {
     "name": "stdout",
     "output_type": "stream",
     "text": [
      "Frecuencia de muestreo 44100.00[Hz]\n",
      "audio RUN7.wav\n"
     ]
    }
   ],
   "source": [
    "nombre_in = \"RUN7.mp3\"\n",
    "nombre_out = \"RUN7.wav\"\n",
    "command_consola = \"ffmpeg -i \" + nombre_in +\" \"+ nombre_out\n",
    "os.system(command_consola)\n",
    "\n",
    "import soundfile as sf \n",
    "x128, fs128 = sf.read('RUN7.wav')\n",
    "x128=x128[0:mmax,:]\n",
    "print('Frecuencia de muestreo %.2f[Hz]\\naudio %s' % (fs128,nombre_out))"
   ]
  },
  {
   "cell_type": "code",
   "execution_count": 767,
   "metadata": {},
   "outputs": [],
   "source": [
    "xpro128 = x128.copy() \n",
    "Xw128 = np.fft.rfft(xpro128,axis=0) \n",
    "vf128 = np.fft.rfftfreq(np.size(xpro128,0),1/fs128)\n",
    "xwm128 = (abs(Xw128[:,[0]]))\n",
    "xwmt128 = np.transpose(xwm128)\n",
    "xwmm128 = (abs(Xw128[:,[1]]))\n",
    "xwmy128 = np.transpose(xwmm128)"
   ]
  },
  {
   "cell_type": "markdown",
   "metadata": {},
   "source": [
    "<audio src=\"RUN8.mp3\" controls>Your browser does not support the audio element.</audio>\n",
    "[RUN8.mp3](RUN8.mp3)"
   ]
  },
  {
   "cell_type": "code",
   "execution_count": 768,
   "metadata": {},
   "outputs": [
    {
     "name": "stdout",
     "output_type": "stream",
     "text": [
      "Frecuencia de muestreo 44100.00[Hz]\n",
      "audio RUN8.wav\n"
     ]
    }
   ],
   "source": [
    "nombre_in = \"RUN8.mp3\"\n",
    "nombre_out = \"RUN8.wav\"\n",
    "command_consola = \"ffmpeg -i \" + nombre_in +\" \"+ nombre_out\n",
    "os.system(command_consola)\n",
    "\n",
    "import soundfile as sf \n",
    "x129, fs129 = sf.read('RUN8.wav')\n",
    "x129=x129[0:mmax,:]\n",
    "print('Frecuencia de muestreo %.2f[Hz]\\naudio %s' % (fs129,nombre_out))"
   ]
  },
  {
   "cell_type": "code",
   "execution_count": 769,
   "metadata": {},
   "outputs": [],
   "source": [
    "xpro129 = x129.copy() \n",
    "Xw129 = np.fft.rfft(xpro129,axis=0) \n",
    "vf129 = np.fft.rfftfreq(np.size(xpro129,0),1/fs129)\n",
    "xwm129 = (abs(Xw129[:,[0]]))\n",
    "xwmt129 = np.transpose(xwm129)\n",
    "xwmm129 = (abs(Xw129[:,[1]]))\n",
    "xwmy129 = np.transpose(xwmm129)"
   ]
  },
  {
   "cell_type": "markdown",
   "metadata": {},
   "source": [
    "<audio src=\"RUN9.mp3\" controls>Your browser does not support the audio element.</audio>\n",
    "[RUN9.mp3](RUN9.mp3)"
   ]
  },
  {
   "cell_type": "code",
   "execution_count": 770,
   "metadata": {},
   "outputs": [
    {
     "name": "stdout",
     "output_type": "stream",
     "text": [
      "Frecuencia de muestreo 44100.00[Hz]\n",
      "audio RUN9.wav\n"
     ]
    }
   ],
   "source": [
    "nombre_in = \"RUN9.mp3\"\n",
    "nombre_out = \"RUN9.wav\"\n",
    "command_consola = \"ffmpeg -i \" + nombre_in +\" \"+ nombre_out\n",
    "os.system(command_consola)\n",
    "\n",
    "import soundfile as sf \n",
    "x130, fs130 = sf.read('RUN9.wav')\n",
    "x130=x130[0:mmax,:]\n",
    "print('Frecuencia de muestreo %.2f[Hz]\\naudio %s' % (fs130,nombre_out))"
   ]
  },
  {
   "cell_type": "code",
   "execution_count": 771,
   "metadata": {},
   "outputs": [],
   "source": [
    "xpro130 = x130.copy() \n",
    "Xw130 = np.fft.rfft(xpro130,axis=0) \n",
    "vf130 = np.fft.rfftfreq(np.size(xpro130,0),1/fs130)\n",
    "xwm130 = (abs(Xw130[:,[0]]))\n",
    "xwmt130 = np.transpose(xwm130)\n",
    "xwmm130 = (abs(Xw130[:,[1]]))\n",
    "xwmy130 = np.transpose(xwmm130)"
   ]
  },
  {
   "cell_type": "markdown",
   "metadata": {},
   "source": [
    "<audio src=\"RUN10.mp3\" controls>Your browser does not support the audio element.</audio>\n",
    "[RUN10.mp3](RUN10.mp3)"
   ]
  },
  {
   "cell_type": "code",
   "execution_count": 772,
   "metadata": {},
   "outputs": [
    {
     "name": "stdout",
     "output_type": "stream",
     "text": [
      "Frecuencia de muestreo 44100.00[Hz]\n",
      "audio RUN10.wav\n"
     ]
    }
   ],
   "source": [
    "nombre_in = \"RUN10.mp3\"\n",
    "nombre_out = \"RUN10.wav\"\n",
    "command_consola = \"ffmpeg -i \" + nombre_in +\" \"+ nombre_out\n",
    "os.system(command_consola)\n",
    "\n",
    "import soundfile as sf \n",
    "x131, fs131 = sf.read('RUN10.wav')\n",
    "x131=x131[0:mmax,:]\n",
    "print('Frecuencia de muestreo %.2f[Hz]\\naudio %s' % (fs131,nombre_out))"
   ]
  },
  {
   "cell_type": "code",
   "execution_count": 773,
   "metadata": {},
   "outputs": [],
   "source": [
    "xpro131 = x131.copy() \n",
    "Xw131 = np.fft.rfft(xpro131,axis=0) \n",
    "vf131 = np.fft.rfftfreq(np.size(xpro131,0),1/fs131)\n",
    "xwm131 = (abs(Xw131[:,[0]]))\n",
    "xwmt131 = np.transpose(xwm131)\n",
    "xwmm131 = (abs(Xw131[:,[1]]))\n",
    "xwmy131 = np.transpose(xwmm131)"
   ]
  },
  {
   "cell_type": "markdown",
   "metadata": {},
   "source": [
    "<audio src=\"RUN11.mp3\" controls>Your browser does not support the audio element.</audio>\n",
    "[RUN11.mp3](RUN11.mp3)"
   ]
  },
  {
   "cell_type": "code",
   "execution_count": 774,
   "metadata": {},
   "outputs": [
    {
     "name": "stdout",
     "output_type": "stream",
     "text": [
      "Frecuencia de muestreo 44100.00[Hz]\n",
      "audio RUN11.wav\n"
     ]
    }
   ],
   "source": [
    "nombre_in = \"RUN11.mp3\"\n",
    "nombre_out = \"RUN11.wav\"\n",
    "command_consola = \"ffmpeg -i \" + nombre_in +\" \"+ nombre_out\n",
    "os.system(command_consola)\n",
    "\n",
    "import soundfile as sf \n",
    "x132, fs132 = sf.read('RUN11.wav')\n",
    "x132=x132[0:mmax,:]\n",
    "print('Frecuencia de muestreo %.2f[Hz]\\naudio %s' % (fs132,nombre_out))"
   ]
  },
  {
   "cell_type": "code",
   "execution_count": 775,
   "metadata": {},
   "outputs": [],
   "source": [
    "xpro132 = x132.copy() \n",
    "Xw132 = np.fft.rfft(xpro132,axis=0) \n",
    "vf132 = np.fft.rfftfreq(np.size(xpro132,0),1/fs132)\n",
    "xwm132 = (abs(Xw132[:,[0]]))\n",
    "xwmt132 = np.transpose(xwm132)\n",
    "xwmm132 = (abs(Xw132[:,[1]]))\n",
    "xwmy132 = np.transpose(xwmm132)"
   ]
  },
  {
   "cell_type": "markdown",
   "metadata": {},
   "source": [
    "<audio src=\"RUN12.mp3\" controls>Your browser does not support the audio element.</audio>\n",
    "[RUN12.mp3](RUN12.mp3)"
   ]
  },
  {
   "cell_type": "code",
   "execution_count": 776,
   "metadata": {},
   "outputs": [
    {
     "name": "stdout",
     "output_type": "stream",
     "text": [
      "Frecuencia de muestreo 44100.00[Hz]\n",
      "audio RUN12.wav\n"
     ]
    }
   ],
   "source": [
    "nombre_in = \"RUN12.mp3\"\n",
    "nombre_out = \"RUN12.wav\"\n",
    "command_consola = \"ffmpeg -i \" + nombre_in +\" \"+ nombre_out\n",
    "os.system(command_consola)\n",
    "\n",
    "import soundfile as sf \n",
    "x133, fs133 = sf.read('RUN12.wav')\n",
    "x133=x133[0:mmax,:]\n",
    "print('Frecuencia de muestreo %.2f[Hz]\\naudio %s' % (fs133,nombre_out))"
   ]
  },
  {
   "cell_type": "code",
   "execution_count": 777,
   "metadata": {},
   "outputs": [],
   "source": [
    "xpro133 = x133.copy() \n",
    "Xw133 = np.fft.rfft(xpro133,axis=0) \n",
    "vf133 = np.fft.rfftfreq(np.size(xpro133,0),1/fs133)\n",
    "xwm133 = (abs(Xw133[:,[0]]))\n",
    "xwmt133 = np.transpose(xwm133)\n",
    "xwmm133 = (abs(Xw133[:,[1]]))\n",
    "xwmy133 = np.transpose(xwmm133)"
   ]
  },
  {
   "cell_type": "markdown",
   "metadata": {},
   "source": [
    "<audio src=\"RUN13.mp3\" controls>Your browser does not support the audio element.</audio>\n",
    "[RUN13.mp3](RUN13.mp3)"
   ]
  },
  {
   "cell_type": "code",
   "execution_count": 778,
   "metadata": {},
   "outputs": [
    {
     "name": "stdout",
     "output_type": "stream",
     "text": [
      "Frecuencia de muestreo 44100.00[Hz]\n",
      "audio RUN13.wav\n"
     ]
    }
   ],
   "source": [
    "nombre_in = \"RUN13.mp3\"\n",
    "nombre_out = \"RUN13.wav\"\n",
    "command_consola = \"ffmpeg -i \" + nombre_in +\" \"+ nombre_out\n",
    "os.system(command_consola)\n",
    "\n",
    "import soundfile as sf \n",
    "x134, fs134 = sf.read('RUN13.wav')\n",
    "x134=x134[0:mmax,:]\n",
    "print('Frecuencia de muestreo %.2f[Hz]\\naudio %s' % (fs134,nombre_out))"
   ]
  },
  {
   "cell_type": "code",
   "execution_count": 779,
   "metadata": {},
   "outputs": [],
   "source": [
    "xpro134 = x134.copy() \n",
    "Xw134 = np.fft.rfft(xpro134,axis=0) \n",
    "vf134 = np.fft.rfftfreq(np.size(xpro134,0),1/fs134)\n",
    "xwm134 = (abs(Xw134[:,[0]]))\n",
    "xwmt134 = np.transpose(xwm134)\n",
    "xwmm134 = (abs(Xw134[:,[1]]))\n",
    "xwmy134 = np.transpose(xwmm134)"
   ]
  },
  {
   "cell_type": "markdown",
   "metadata": {},
   "source": [
    "<audio src=\"RUN14.mp3\" controls>Your browser does not support the audio element.</audio>\n",
    "[RUN14.mp3](RUN14.mp3)"
   ]
  },
  {
   "cell_type": "code",
   "execution_count": 780,
   "metadata": {},
   "outputs": [
    {
     "name": "stdout",
     "output_type": "stream",
     "text": [
      "Frecuencia de muestreo 44100.00[Hz]\n",
      "audio RUN14.wav\n"
     ]
    }
   ],
   "source": [
    "nombre_in = \"RUN14.mp3\"\n",
    "nombre_out = \"RUN14.wav\"\n",
    "command_consola = \"ffmpeg -i \" + nombre_in +\" \"+ nombre_out\n",
    "os.system(command_consola)\n",
    "\n",
    "import soundfile as sf \n",
    "x135, fs135 = sf.read('RUN14.wav')\n",
    "x135=x135[0:mmax,:]\n",
    "print('Frecuencia de muestreo %.2f[Hz]\\naudio %s' % (fs135,nombre_out))"
   ]
  },
  {
   "cell_type": "code",
   "execution_count": 781,
   "metadata": {},
   "outputs": [],
   "source": [
    "xpro135 = x135.copy() \n",
    "Xw135 = np.fft.rfft(xpro135,axis=0) \n",
    "vf135 = np.fft.rfftfreq(np.size(xpro135,0),1/fs135)\n",
    "xwm135 = (abs(Xw135[:,[0]]))\n",
    "xwmt135 = np.transpose(xwm135)\n",
    "xwmm135 = (abs(Xw135[:,[1]]))\n",
    "xwmy135 = np.transpose(xwmm135)"
   ]
  },
  {
   "cell_type": "markdown",
   "metadata": {},
   "source": [
    "<audio src=\"RUN15.mp3\" controls>Your browser does not support the audio element.</audio>\n",
    "[RUN15.mp3](RUN15.mp3)"
   ]
  },
  {
   "cell_type": "code",
   "execution_count": 782,
   "metadata": {},
   "outputs": [
    {
     "name": "stdout",
     "output_type": "stream",
     "text": [
      "Frecuencia de muestreo 44100.00[Hz]\n",
      "audio RUN15.wav\n"
     ]
    }
   ],
   "source": [
    "nombre_in = \"RUN15.mp3\"\n",
    "nombre_out = \"RUN15.wav\"\n",
    "command_consola = \"ffmpeg -i \" + nombre_in +\" \"+ nombre_out\n",
    "os.system(command_consola)\n",
    "\n",
    "import soundfile as sf \n",
    "x136, fs136 = sf.read('RUN15.wav')\n",
    "x136=x136[0:mmax,:]\n",
    "print('Frecuencia de muestreo %.2f[Hz]\\naudio %s' % (fs136,nombre_out))"
   ]
  },
  {
   "cell_type": "code",
   "execution_count": 783,
   "metadata": {},
   "outputs": [],
   "source": [
    "xpro136 = x136.copy() \n",
    "Xw136 = np.fft.rfft(xpro136,axis=0) \n",
    "vf136 = np.fft.rfftfreq(np.size(xpro136,0),1/fs136)\n",
    "xwm136 = (abs(Xw136[:,[0]]))\n",
    "xwmt136 = np.transpose(xwm136)\n",
    "xwmm136 = (abs(Xw136[:,[1]]))\n",
    "xwmy136 = np.transpose(xwmm136)"
   ]
  },
  {
   "cell_type": "markdown",
   "metadata": {},
   "source": [
    "<audio src=\"RUN16.mp3\" controls>Your browser does not support the audio element.</audio>\n",
    "[RUN16.mp3](RUN16.mp3)"
   ]
  },
  {
   "cell_type": "code",
   "execution_count": 784,
   "metadata": {},
   "outputs": [
    {
     "name": "stdout",
     "output_type": "stream",
     "text": [
      "Frecuencia de muestreo 44100.00[Hz]\n",
      "audio RUN16.wav\n"
     ]
    }
   ],
   "source": [
    "nombre_in = \"RUN16.mp3\"\n",
    "nombre_out = \"RUN16.wav\"\n",
    "command_consola = \"ffmpeg -i \" + nombre_in +\" \"+ nombre_out\n",
    "os.system(command_consola)\n",
    "\n",
    "import soundfile as sf \n",
    "x137, fs137 = sf.read('RUN16.wav')\n",
    "x137=x137[0:mmax,:]\n",
    "print('Frecuencia de muestreo %.2f[Hz]\\naudio %s' % (fs137,nombre_out))"
   ]
  },
  {
   "cell_type": "code",
   "execution_count": 785,
   "metadata": {},
   "outputs": [],
   "source": [
    "xpro137 = x137.copy() \n",
    "Xw137 = np.fft.rfft(xpro137,axis=0) \n",
    "vf137 = np.fft.rfftfreq(np.size(xpro137,0),1/fs137)\n",
    "xwm137 = (abs(Xw137[:,[0]]))\n",
    "xwmt137 = np.transpose(xwm137)\n",
    "xwmm137 = (abs(Xw137[:,[1]]))\n",
    "xwmy137 = np.transpose(xwmm137)"
   ]
  },
  {
   "cell_type": "markdown",
   "metadata": {},
   "source": [
    "<audio src=\"dansu-realize_0.mp3\" controls>Your browser does not support the audio element.</audio>\n",
    "[dansu-realize_0.mp3](dansu-realize_0.mp3)"
   ]
  },
  {
   "cell_type": "code",
   "execution_count": 786,
   "metadata": {},
   "outputs": [
    {
     "name": "stdout",
     "output_type": "stream",
     "text": [
      "Frecuencia de muestreo 44100.00[Hz]\n",
      "audio dansu-realize_0.wav\n"
     ]
    }
   ],
   "source": [
    "nombre_in = \"dansu-realize_0.mp3\"\n",
    "nombre_out = \"dansu-realize_0.wav\"\n",
    "command_consola = \"ffmpeg -i \" + nombre_in +\" \"+ nombre_out\n",
    "os.system(command_consola)\n",
    "\n",
    "import soundfile as sf \n",
    "x138, fs138 = sf.read('dansu-realize_0.wav')\n",
    "x138=x138[0:mmax,:]\n",
    "print('Frecuencia de muestreo %.2f[Hz]\\naudio %s' % (fs138,nombre_out))"
   ]
  },
  {
   "cell_type": "code",
   "execution_count": 787,
   "metadata": {},
   "outputs": [],
   "source": [
    "xpro138 = x138.copy() \n",
    "Xw138 = np.fft.rfft(xpro138,axis=0) \n",
    "vf138 = np.fft.rfftfreq(np.size(xpro138,0),1/fs138)\n",
    "xwm138 = (abs(Xw138[:,[0]]))\n",
    "xwmt138 = np.transpose(xwm138)\n",
    "xwmm138 = (abs(Xw138[:,[1]]))\n",
    "xwmy138 = np.transpose(xwmm138)"
   ]
  },
  {
   "cell_type": "markdown",
   "metadata": {},
   "source": [
    "<audio src=\"dansu-realize_1.mp3\" controls>Your browser does not support the audio element.</audio>\n",
    "[dansu-realize_1.mp3](dansu-realize_1.mp3)"
   ]
  },
  {
   "cell_type": "code",
   "execution_count": 788,
   "metadata": {},
   "outputs": [
    {
     "name": "stdout",
     "output_type": "stream",
     "text": [
      "Frecuencia de muestreo 44100.00[Hz]\n",
      "audio dansu-realize_1.wav\n"
     ]
    }
   ],
   "source": [
    "nombre_in = \"dansu-realize_1.mp3\"\n",
    "nombre_out = \"dansu-realize_1.wav\"\n",
    "command_consola = \"ffmpeg -i \" + nombre_in +\" \"+ nombre_out\n",
    "os.system(command_consola)\n",
    "\n",
    "import soundfile as sf \n",
    "x139, fs139 = sf.read('dansu-realize_1.wav')\n",
    "x139=x139[0:mmax,:]\n",
    "print('Frecuencia de muestreo %.2f[Hz]\\naudio %s' % (fs139,nombre_out))"
   ]
  },
  {
   "cell_type": "code",
   "execution_count": 789,
   "metadata": {},
   "outputs": [],
   "source": [
    "xpro139 = x139.copy() \n",
    "Xw139 = np.fft.rfft(xpro139,axis=0) \n",
    "vf139 = np.fft.rfftfreq(np.size(xpro139,0),1/fs139)\n",
    "xwm139 = (abs(Xw139[:,[0]]))\n",
    "xwmt139 = np.transpose(xwm139)\n",
    "xwmm139 = (abs(Xw139[:,[1]]))\n",
    "xwmy139 = np.transpose(xwmm139)"
   ]
  },
  {
   "cell_type": "markdown",
   "metadata": {},
   "source": [
    "<audio src=\"dansu-realize_2.mp3\" controls>Your browser does not support the audio element.</audio>\n",
    "[dansu-realize_2.mp3](dansu-realize_2.mp3)"
   ]
  },
  {
   "cell_type": "code",
   "execution_count": 790,
   "metadata": {},
   "outputs": [
    {
     "name": "stdout",
     "output_type": "stream",
     "text": [
      "Frecuencia de muestreo 44100.00[Hz]\n",
      "audio dansu-realize_2.wav\n"
     ]
    }
   ],
   "source": [
    "nombre_in = \"dansu-realize_2.mp3\"\n",
    "nombre_out = \"dansu-realize_2.wav\"\n",
    "command_consola = \"ffmpeg -i \" + nombre_in +\" \"+ nombre_out\n",
    "os.system(command_consola)\n",
    "\n",
    "import soundfile as sf \n",
    "x140, fs140 = sf.read('dansu-realize_2.wav')\n",
    "x140=x140[0:mmax,:]\n",
    "print('Frecuencia de muestreo %.2f[Hz]\\naudio %s' % (fs140,nombre_out))"
   ]
  },
  {
   "cell_type": "code",
   "execution_count": 791,
   "metadata": {},
   "outputs": [],
   "source": [
    "xpro140 = x140.copy() \n",
    "Xw140 = np.fft.rfft(xpro140,axis=0) \n",
    "vf140 = np.fft.rfftfreq(np.size(xpro140,0),1/fs140)\n",
    "xwm140 = (abs(Xw140[:,[0]]))\n",
    "xwmt140 = np.transpose(xwm140)\n",
    "xwmm140 = (abs(Xw140[:,[1]]))\n",
    "xwmy140 = np.transpose(xwmm140)"
   ]
  },
  {
   "cell_type": "markdown",
   "metadata": {},
   "source": [
    "<audio src=\"dansu-realize_3.mp3\" controls>Your browser does not support the audio element.</audio>\n",
    "[dansu-realize_3.mp3](dansu-realize_3.mp3)"
   ]
  },
  {
   "cell_type": "code",
   "execution_count": 792,
   "metadata": {},
   "outputs": [
    {
     "name": "stdout",
     "output_type": "stream",
     "text": [
      "Frecuencia de muestreo 44100.00[Hz]\n",
      "audio dansu-realize_3.wav\n"
     ]
    }
   ],
   "source": [
    "nombre_in = \"dansu-realize_3.mp3\"\n",
    "nombre_out = \"dansu-realize_3.wav\"\n",
    "command_consola = \"ffmpeg -i \" + nombre_in +\" \"+ nombre_out\n",
    "os.system(command_consola)\n",
    "\n",
    "import soundfile as sf \n",
    "x141, fs141 = sf.read('dansu-realize_3.wav')\n",
    "x141=x141[0:mmax,:]\n",
    "print('Frecuencia de muestreo %.2f[Hz]\\naudio %s' % (fs141,nombre_out))"
   ]
  },
  {
   "cell_type": "code",
   "execution_count": 793,
   "metadata": {},
   "outputs": [],
   "source": [
    "xpro141 = x141.copy() \n",
    "Xw141 = np.fft.rfft(xpro141,axis=0) \n",
    "vf141 = np.fft.rfftfreq(np.size(xpro141,0),1/fs141)\n",
    "xwm141 = (abs(Xw141[:,[0]]))\n",
    "xwmt141 = np.transpose(xwm141)\n",
    "xwmm141 = (abs(Xw141[:,[1]]))\n",
    "xwmy141 = np.transpose(xwmm141)"
   ]
  },
  {
   "cell_type": "markdown",
   "metadata": {},
   "source": [
    "<audio src=\"dansu-realize_4.mp3\" controls>Your browser does not support the audio element.</audio>\n",
    "[dansu-realize_4.mp3](dansu-realize_4.mp3)"
   ]
  },
  {
   "cell_type": "code",
   "execution_count": 794,
   "metadata": {},
   "outputs": [
    {
     "name": "stdout",
     "output_type": "stream",
     "text": [
      "Frecuencia de muestreo 44100.00[Hz]\n",
      "audio dansu-realize_4.wav\n"
     ]
    }
   ],
   "source": [
    "nombre_in = \"dansu-realize_4.mp3\"\n",
    "nombre_out = \"dansu-realize_4.wav\"\n",
    "command_consola = \"ffmpeg -i \" + nombre_in +\" \"+ nombre_out\n",
    "os.system(command_consola)\n",
    "\n",
    "import soundfile as sf \n",
    "x142, fs142 = sf.read('dansu-realize_4.wav')\n",
    "x142=x142[0:mmax,:]\n",
    "print('Frecuencia de muestreo %.2f[Hz]\\naudio %s' % (fs142,nombre_out))"
   ]
  },
  {
   "cell_type": "code",
   "execution_count": 795,
   "metadata": {},
   "outputs": [],
   "source": [
    "xpro142 = x142.copy() \n",
    "Xw142 = np.fft.rfft(xpro142,axis=0) \n",
    "vf142 = np.fft.rfftfreq(np.size(xpro142,0),1/fs142)\n",
    "xwm142 = (abs(Xw142[:,[0]]))\n",
    "xwmt142 = np.transpose(xwm142)\n",
    "xwmm142 = (abs(Xw142[:,[1]]))\n",
    "xwmy142 = np.transpose(xwmm142)"
   ]
  },
  {
   "cell_type": "markdown",
   "metadata": {},
   "source": [
    "<audio src=\"dansu-realize_5.mp3\" controls>Your browser does not support the audio element.</audio>\n",
    "[dansu-realize_5.mp3](dansu-realize_5.mp3)"
   ]
  },
  {
   "cell_type": "code",
   "execution_count": 796,
   "metadata": {},
   "outputs": [
    {
     "name": "stdout",
     "output_type": "stream",
     "text": [
      "Frecuencia de muestreo 44100.00[Hz]\n",
      "audio dansu-realize_5.wav\n"
     ]
    }
   ],
   "source": [
    "nombre_in = \"dansu-realize_5.mp3\"\n",
    "nombre_out = \"dansu-realize_5.wav\"\n",
    "command_consola = \"ffmpeg -i \" + nombre_in +\" \"+ nombre_out\n",
    "os.system(command_consola)\n",
    "\n",
    "import soundfile as sf \n",
    "x143, fs143 = sf.read('dansu-realize_5.wav')\n",
    "x143=x143[0:mmax,:]\n",
    "print('Frecuencia de muestreo %.2f[Hz]\\naudio %s' % (fs143,nombre_out))"
   ]
  },
  {
   "cell_type": "code",
   "execution_count": 797,
   "metadata": {},
   "outputs": [],
   "source": [
    "xpro143 = x143.copy() \n",
    "Xw143 = np.fft.rfft(xpro143,axis=0) \n",
    "vf143 = np.fft.rfftfreq(np.size(xpro143,0),1/fs143)\n",
    "xwm143 = (abs(Xw143[:,[0]]))\n",
    "xwmt143 = np.transpose(xwm143)\n",
    "xwmm143 = (abs(Xw143[:,[1]]))\n",
    "xwmy143 = np.transpose(xwmm143)"
   ]
  },
  {
   "cell_type": "markdown",
   "metadata": {},
   "source": [
    "<audio src=\"dansu-realize_6.mp3\" controls>Your browser does not support the audio element.</audio>\n",
    "[dansu-realize_6.mp3](dansu-realize_6.mp3)"
   ]
  },
  {
   "cell_type": "code",
   "execution_count": 798,
   "metadata": {},
   "outputs": [
    {
     "name": "stdout",
     "output_type": "stream",
     "text": [
      "Frecuencia de muestreo 44100.00[Hz]\n",
      "audio dansu-realize_6.wav\n"
     ]
    }
   ],
   "source": [
    "nombre_in = \"dansu-realize_6.mp3\"\n",
    "nombre_out = \"dansu-realize_6.wav\"\n",
    "command_consola = \"ffmpeg -i \" + nombre_in +\" \"+ nombre_out\n",
    "os.system(command_consola)\n",
    "\n",
    "import soundfile as sf \n",
    "x144, fs144 = sf.read('dansu-realize_6.wav')\n",
    "x144=x144[0:mmax,:]\n",
    "print('Frecuencia de muestreo %.2f[Hz]\\naudio %s' % (fs144,nombre_out))"
   ]
  },
  {
   "cell_type": "code",
   "execution_count": 799,
   "metadata": {},
   "outputs": [],
   "source": [
    "xpro144 = x144.copy() \n",
    "Xw144 = np.fft.rfft(xpro144,axis=0) \n",
    "vf144 = np.fft.rfftfreq(np.size(xpro144,0),1/fs144)\n",
    "xwm144 = (abs(Xw144[:,[0]]))\n",
    "xwmt144 = np.transpose(xwm144)\n",
    "xwmm144 = (abs(Xw144[:,[1]]))\n",
    "xwmy144 = np.transpose(xwmm144)"
   ]
  },
  {
   "cell_type": "markdown",
   "metadata": {},
   "source": [
    "<audio src=\"dansu-realize_7.mp3\" controls>Your browser does not support the audio element.</audio>\n",
    "[dansu-realize_7.mp3](dansu-realize_7.mp3)"
   ]
  },
  {
   "cell_type": "code",
   "execution_count": 800,
   "metadata": {},
   "outputs": [
    {
     "name": "stdout",
     "output_type": "stream",
     "text": [
      "Frecuencia de muestreo 44100.00[Hz]\n",
      "audio dansu-realize_7.wav\n"
     ]
    }
   ],
   "source": [
    "nombre_in = \"dansu-realize_7.mp3\"\n",
    "nombre_out = \"dansu-realize_7.wav\"\n",
    "command_consola = \"ffmpeg -i \" + nombre_in +\" \"+ nombre_out\n",
    "os.system(command_consola)\n",
    "\n",
    "import soundfile as sf \n",
    "x145, fs145 = sf.read('dansu-realize_7.wav')\n",
    "x145=x145[0:mmax,:]\n",
    "print('Frecuencia de muestreo %.2f[Hz]\\naudio %s' % (fs145,nombre_out))"
   ]
  },
  {
   "cell_type": "code",
   "execution_count": 801,
   "metadata": {},
   "outputs": [],
   "source": [
    "xpro145 = x145.copy() \n",
    "Xw145 = np.fft.rfft(xpro145,axis=0) \n",
    "vf145 = np.fft.rfftfreq(np.size(xpro145,0),1/fs145)\n",
    "xwm145 = (abs(Xw145[:,[0]]))\n",
    "xwmt145 = np.transpose(xwm145)\n",
    "xwmm145 = (abs(Xw145[:,[1]]))\n",
    "xwmy145 = np.transpose(xwmm145)"
   ]
  },
  {
   "cell_type": "markdown",
   "metadata": {},
   "source": [
    "<audio src=\"dansu-realize_8.mp3\" controls>Your browser does not support the audio element.</audio>\n",
    "[dansu-realize_8.mp3](dansu-realize_8.mp3)"
   ]
  },
  {
   "cell_type": "code",
   "execution_count": 802,
   "metadata": {},
   "outputs": [
    {
     "name": "stdout",
     "output_type": "stream",
     "text": [
      "Frecuencia de muestreo 44100.00[Hz]\n",
      "audio dansu-realize_8.wav\n"
     ]
    }
   ],
   "source": [
    "nombre_in = \"dansu-realize_8.mp3\"\n",
    "nombre_out = \"dansu-realize_8.wav\"\n",
    "command_consola = \"ffmpeg -i \" + nombre_in +\" \"+ nombre_out\n",
    "os.system(command_consola)\n",
    "\n",
    "import soundfile as sf \n",
    "x146, fs146 = sf.read('dansu-realize_8.wav')\n",
    "x146=x146[0:mmax,:]\n",
    "print('Frecuencia de muestreo %.2f[Hz]\\naudio %s' % (fs146,nombre_out))"
   ]
  },
  {
   "cell_type": "code",
   "execution_count": 803,
   "metadata": {},
   "outputs": [],
   "source": [
    "xpro146 = x146.copy() \n",
    "Xw146 = np.fft.rfft(xpro146,axis=0) \n",
    "vf146 = np.fft.rfftfreq(np.size(xpro146,0),1/fs146)\n",
    "xwm146 = (abs(Xw146[:,[0]]))\n",
    "xwmt146 = np.transpose(xwm146)\n",
    "xwmm146 = (abs(Xw146[:,[1]]))\n",
    "xwmy146 = np.transpose(xwmm146)"
   ]
  },
  {
   "cell_type": "markdown",
   "metadata": {},
   "source": [
    "<audio src=\"dansu-realize_9.mp3\" controls>Your browser does not support the audio element.</audio>\n",
    "[dansu-realize_9.mp3](dansu-realize_9.mp3)"
   ]
  },
  {
   "cell_type": "code",
   "execution_count": 804,
   "metadata": {},
   "outputs": [
    {
     "name": "stdout",
     "output_type": "stream",
     "text": [
      "Frecuencia de muestreo 44100.00[Hz]\n",
      "audio dansu-realize_9.wav\n"
     ]
    }
   ],
   "source": [
    "nombre_in = \"dansu-realize_9.mp3\"\n",
    "nombre_out = \"dansu-realize_9.wav\"\n",
    "command_consola = \"ffmpeg -i \" + nombre_in +\" \"+ nombre_out\n",
    "os.system(command_consola)\n",
    "\n",
    "import soundfile as sf \n",
    "x147, fs147 = sf.read('dansu-realize_9.wav')\n",
    "x147=x147[0:mmax,:]\n",
    "print('Frecuencia de muestreo %.2f[Hz]\\naudio %s' % (fs147,nombre_out))"
   ]
  },
  {
   "cell_type": "code",
   "execution_count": 805,
   "metadata": {},
   "outputs": [],
   "source": [
    "xpro147 = x147.copy() \n",
    "Xw147 = np.fft.rfft(xpro147,axis=0) \n",
    "vf147 = np.fft.rfftfreq(np.size(xpro147,0),1/fs147)\n",
    "xwm147 = (abs(Xw147[:,[0]]))\n",
    "xwmt147 = np.transpose(xwm147)\n",
    "xwmm147 = (abs(Xw147[:,[1]]))\n",
    "xwmy147 = np.transpose(xwmm147)"
   ]
  },
  {
   "cell_type": "markdown",
   "metadata": {},
   "source": [
    "<audio src=\"dansu-realize_10.mp3\" controls>Your browser does not support the audio element.</audio>\n",
    "[dansu-realize_10.mp3](dansu-realize_10.mp3)"
   ]
  },
  {
   "cell_type": "code",
   "execution_count": 806,
   "metadata": {},
   "outputs": [
    {
     "name": "stdout",
     "output_type": "stream",
     "text": [
      "Frecuencia de muestreo 44100.00[Hz]\n",
      "audio dansu-realize_10.wav\n"
     ]
    }
   ],
   "source": [
    "nombre_in = \"dansu-realize_10.mp3\"\n",
    "nombre_out = \"dansu-realize_10.wav\"\n",
    "command_consola = \"ffmpeg -i \" + nombre_in +\" \"+ nombre_out\n",
    "os.system(command_consola)\n",
    "\n",
    "import soundfile as sf \n",
    "x148, fs148 = sf.read('dansu-realize_10.wav')\n",
    "x148=x148[0:mmax,:]\n",
    "print('Frecuencia de muestreo %.2f[Hz]\\naudio %s' % (fs148,nombre_out))"
   ]
  },
  {
   "cell_type": "code",
   "execution_count": 807,
   "metadata": {},
   "outputs": [],
   "source": [
    "xpro148 = x148.copy() \n",
    "Xw148 = np.fft.rfft(xpro148,axis=0) \n",
    "vf148 = np.fft.rfftfreq(np.size(xpro148,0),1/fs148)\n",
    "xwm148 = (abs(Xw148[:,[0]]))\n",
    "xwmt148 = np.transpose(xwm148)\n",
    "xwmm148 = (abs(Xw148[:,[1]]))\n",
    "xwmy148 = np.transpose(xwmm148)"
   ]
  },
  {
   "cell_type": "markdown",
   "metadata": {},
   "source": [
    "<audio src=\"dansu-realize_11.mp3\" controls>Your browser does not support the audio element.</audio>\n",
    "[dansu-realize_11.mp3](dansu-realize_11.mp3)"
   ]
  },
  {
   "cell_type": "code",
   "execution_count": 808,
   "metadata": {},
   "outputs": [
    {
     "name": "stdout",
     "output_type": "stream",
     "text": [
      "Frecuencia de muestreo 44100.00[Hz]\n",
      "audio dansu-realize_11.wav\n"
     ]
    }
   ],
   "source": [
    "nombre_in = \"dansu-realize_11.mp3\"\n",
    "nombre_out = \"dansu-realize_11.wav\"\n",
    "command_consola = \"ffmpeg -i \" + nombre_in +\" \"+ nombre_out\n",
    "os.system(command_consola)\n",
    "\n",
    "import soundfile as sf \n",
    "x149, fs149 = sf.read('dansu-realize_11.wav')\n",
    "x149=x149[0:mmax,:]\n",
    "print('Frecuencia de muestreo %.2f[Hz]\\naudio %s' % (fs149,nombre_out))"
   ]
  },
  {
   "cell_type": "code",
   "execution_count": 809,
   "metadata": {},
   "outputs": [],
   "source": [
    "xpro149 = x149.copy() \n",
    "Xw149 = np.fft.rfft(xpro149,axis=0) \n",
    "vf149 = np.fft.rfftfreq(np.size(xpro149,0),1/fs149)\n",
    "xwm149 = (abs(Xw149[:,[0]]))\n",
    "xwmt149 = np.transpose(xwm149)\n",
    "xwmm149 = (abs(Xw149[:,[1]]))\n",
    "xwmy149 = np.transpose(xwmm149)"
   ]
  },
  {
   "cell_type": "markdown",
   "metadata": {},
   "source": [
    "<audio src=\"dansu-realize_12.mp3\" controls>Your browser does not support the audio element.</audio>\n",
    "[dansu-realize_12.mp3](dansu-realize_12.mp3)"
   ]
  },
  {
   "cell_type": "code",
   "execution_count": 810,
   "metadata": {},
   "outputs": [
    {
     "name": "stdout",
     "output_type": "stream",
     "text": [
      "Frecuencia de muestreo 44100.00[Hz]\n",
      "audio dansu-realize_12.wav\n"
     ]
    }
   ],
   "source": [
    "nombre_in = \"dansu-realize_12.mp3\"\n",
    "nombre_out = \"dansu-realize_12.wav\"\n",
    "command_consola = \"ffmpeg -i \" + nombre_in +\" \"+ nombre_out\n",
    "os.system(command_consola)\n",
    "\n",
    "import soundfile as sf \n",
    "x150, fs150 = sf.read('dansu-realize_12.wav')\n",
    "x150=x150[0:mmax,:]\n",
    "print('Frecuencia de muestreo %.2f[Hz]\\naudio %s' % (fs150,nombre_out))"
   ]
  },
  {
   "cell_type": "code",
   "execution_count": 811,
   "metadata": {},
   "outputs": [],
   "source": [
    "xpro150 = x150.copy() \n",
    "Xw150 = np.fft.rfft(xpro150,axis=0) \n",
    "vf150 = np.fft.rfftfreq(np.size(xpro150,0),1/fs150)\n",
    "xwm150 = (abs(Xw150[:,[0]]))\n",
    "xwmt150 = np.transpose(xwm150)\n",
    "xwmm150 = (abs(Xw150[:,[1]]))\n",
    "xwmy150 = np.transpose(xwmm150)"
   ]
  },
  {
   "cell_type": "markdown",
   "metadata": {},
   "source": [
    "<audio src=\"dansu-realize_13.mp3\" controls>Your browser does not support the audio element.</audio>\n",
    "[dansu-realize_13.mp3](dansu-realize_13.mp3)"
   ]
  },
  {
   "cell_type": "code",
   "execution_count": 812,
   "metadata": {},
   "outputs": [
    {
     "name": "stdout",
     "output_type": "stream",
     "text": [
      "Frecuencia de muestreo 44100.00[Hz]\n",
      "audio dansu-realize_13.wav\n"
     ]
    }
   ],
   "source": [
    "nombre_in = \"dansu-realize_13.mp3\"\n",
    "nombre_out = \"dansu-realize_13.wav\"\n",
    "command_consola = \"ffmpeg -i \" + nombre_in +\" \"+ nombre_out\n",
    "os.system(command_consola)\n",
    "\n",
    "import soundfile as sf \n",
    "x151, fs151 = sf.read('dansu-realize_13.wav')\n",
    "x151=x151[0:mmax,:]\n",
    "print('Frecuencia de muestreo %.2f[Hz]\\naudio %s' % (fs151,nombre_out))"
   ]
  },
  {
   "cell_type": "code",
   "execution_count": 813,
   "metadata": {},
   "outputs": [],
   "source": [
    "xpro151 = x151.copy() \n",
    "Xw151 = np.fft.rfft(xpro151,axis=0) \n",
    "vf151 = np.fft.rfftfreq(np.size(xpro151,0),1/fs151)\n",
    "xwm151 = (abs(Xw151[:,[0]]))\n",
    "xwmt151 = np.transpose(xwm151)\n",
    "xwmm151 = (abs(Xw151[:,[1]]))\n",
    "xwmy151 = np.transpose(xwmm151)"
   ]
  },
  {
   "cell_type": "markdown",
   "metadata": {},
   "source": [
    "<audio src=\"dansu-realize_14.mp3\" controls>Your browser does not support the audio element.</audio>\n",
    "[dansu-realize_14.mp3](dansu-realize_14.mp3)"
   ]
  },
  {
   "cell_type": "code",
   "execution_count": 814,
   "metadata": {},
   "outputs": [
    {
     "name": "stdout",
     "output_type": "stream",
     "text": [
      "Frecuencia de muestreo 44100.00[Hz]\n",
      "audio dansu-realize_14.wav\n"
     ]
    }
   ],
   "source": [
    "nombre_in = \"dansu-realize_14.mp3\"\n",
    "nombre_out = \"dansu-realize_14.wav\"\n",
    "command_consola = \"ffmpeg -i \" + nombre_in +\" \"+ nombre_out\n",
    "os.system(command_consola)\n",
    "\n",
    "import soundfile as sf \n",
    "x152, fs152 = sf.read('dansu-realize_14.wav')\n",
    "x152=x152[0:mmax,:]\n",
    "print('Frecuencia de muestreo %.2f[Hz]\\naudio %s' % (fs152,nombre_out))"
   ]
  },
  {
   "cell_type": "code",
   "execution_count": 815,
   "metadata": {},
   "outputs": [],
   "source": [
    "xpro152 = x152.copy() \n",
    "Xw152 = np.fft.rfft(xpro152,axis=0) \n",
    "vf152 = np.fft.rfftfreq(np.size(xpro152,0),1/fs152)\n",
    "xwm152 = (abs(Xw152[:,[0]]))\n",
    "xwmt152 = np.transpose(xwm152)\n",
    "xwmm152 = (abs(Xw152[:,[1]]))\n",
    "xwmy152 = np.transpose(xwmm152)"
   ]
  },
  {
   "cell_type": "markdown",
   "metadata": {},
   "source": [
    "<audio src=\"dansu-realize_15.mp3\" controls>Your browser does not support the audio element.</audio>\n",
    "[dansu-realize_15.mp3](dansu-realize_15.mp3)"
   ]
  },
  {
   "cell_type": "code",
   "execution_count": 816,
   "metadata": {},
   "outputs": [
    {
     "name": "stdout",
     "output_type": "stream",
     "text": [
      "Frecuencia de muestreo 44100.00[Hz]\n",
      "audio dansu-realize_15.wav\n"
     ]
    }
   ],
   "source": [
    "nombre_in = \"dansu-realize_15.mp3\"\n",
    "nombre_out = \"dansu-realize_15.wav\"\n",
    "command_consola = \"ffmpeg -i \" + nombre_in +\" \"+ nombre_out\n",
    "os.system(command_consola)\n",
    "\n",
    "import soundfile as sf \n",
    "x153, fs153 = sf.read('dansu-realize_15.wav')\n",
    "x153=x153[0:mmax,:]\n",
    "print('Frecuencia de muestreo %.2f[Hz]\\naudio %s' % (fs153,nombre_out))"
   ]
  },
  {
   "cell_type": "code",
   "execution_count": 817,
   "metadata": {},
   "outputs": [],
   "source": [
    "xpro153 = x153.copy() \n",
    "Xw153 = np.fft.rfft(xpro153,axis=0) \n",
    "vf153 = np.fft.rfftfreq(np.size(xpro153,0),1/fs153)\n",
    "xwm153 = (abs(Xw153[:,[0]]))\n",
    "xwmt153 = np.transpose(xwm153)\n",
    "xwmm153 = (abs(Xw153[:,[1]]))\n",
    "xwmy153 = np.transpose(xwmm153)"
   ]
  },
  {
   "cell_type": "markdown",
   "metadata": {},
   "source": [
    "<audio src=\"dansu-realize_16.mp3\" controls>Your browser does not support the audio element.</audio>\n",
    "[dansu-realize_16.mp3](dansu-realize_16.mp3)"
   ]
  },
  {
   "cell_type": "code",
   "execution_count": 818,
   "metadata": {},
   "outputs": [
    {
     "name": "stdout",
     "output_type": "stream",
     "text": [
      "Frecuencia de muestreo 44100.00[Hz]\n",
      "audio dansu-realize_16.wav\n"
     ]
    }
   ],
   "source": [
    "nombre_in = \"dansu-realize_16.mp3\"\n",
    "nombre_out = \"dansu-realize_16.wav\"\n",
    "command_consola = \"ffmpeg -i \" + nombre_in +\" \"+ nombre_out\n",
    "os.system(command_consola)\n",
    "\n",
    "import soundfile as sf \n",
    "x154, fs154 = sf.read('dansu-realize_16.wav')\n",
    "x154=x154[0:mmax,:]\n",
    "print('Frecuencia de muestreo %.2f[Hz]\\naudio %s' % (fs154,nombre_out))"
   ]
  },
  {
   "cell_type": "code",
   "execution_count": 819,
   "metadata": {},
   "outputs": [],
   "source": [
    "xpro154 = x154.copy() \n",
    "Xw154 = np.fft.rfft(xpro154,axis=0) \n",
    "vf154 = np.fft.rfftfreq(np.size(xpro154,0),1/fs154)\n",
    "xwm154 = (abs(Xw154[:,[0]]))\n",
    "xwmt154 = np.transpose(xwm154)\n",
    "xwmm154 = (abs(Xw154[:,[1]]))\n",
    "xwmy154 = np.transpose(xwmm154)"
   ]
  },
  {
   "cell_type": "markdown",
   "metadata": {},
   "source": [
    "<audio src=\"dansu-realize_17.mp3\" controls>Your browser does not support the audio element.</audio>\n",
    "[dansu-realize_17.mp3](dansu-realize_17.mp3)"
   ]
  },
  {
   "cell_type": "code",
   "execution_count": 820,
   "metadata": {},
   "outputs": [
    {
     "name": "stdout",
     "output_type": "stream",
     "text": [
      "Frecuencia de muestreo 44100.00[Hz]\n",
      "audio dansu-realize_17.wav\n"
     ]
    }
   ],
   "source": [
    "nombre_in = \"dansu-realize_17.mp3\"\n",
    "nombre_out = \"dansu-realize_17.wav\"\n",
    "command_consola = \"ffmpeg -i \" + nombre_in +\" \"+ nombre_out\n",
    "os.system(command_consola)\n",
    "\n",
    "import soundfile as sf \n",
    "x155, fs155 = sf.read('dansu-realize_17.wav')\n",
    "x155=x155[0:mmax,:]\n",
    "print('Frecuencia de muestreo %.2f[Hz]\\naudio %s' % (fs155,nombre_out))"
   ]
  },
  {
   "cell_type": "code",
   "execution_count": 821,
   "metadata": {},
   "outputs": [],
   "source": [
    "xpro155 = x155.copy() \n",
    "Xw155 = np.fft.rfft(xpro155,axis=0) \n",
    "vf155 = np.fft.rfftfreq(np.size(xpro155,0),1/fs155)\n",
    "xwm155 = (abs(Xw155[:,[0]]))\n",
    "xwmt155 = np.transpose(xwm155)\n",
    "xwmm155 = (abs(Xw155[:,[1]]))\n",
    "xwmy155 = np.transpose(xwmm155)"
   ]
  },
  {
   "cell_type": "markdown",
   "metadata": {},
   "source": [
    "<audio src=\"dansu-realize_18.mp3\" controls>Your browser does not support the audio element.</audio>\n",
    "[dansu-realize_18.mp3](dansu-realize_18.mp3)"
   ]
  },
  {
   "cell_type": "code",
   "execution_count": 822,
   "metadata": {},
   "outputs": [
    {
     "name": "stdout",
     "output_type": "stream",
     "text": [
      "Frecuencia de muestreo 44100.00[Hz]\n",
      "audio dansu-realize_18.wav\n"
     ]
    }
   ],
   "source": [
    "nombre_in = \"dansu-realize_18.mp3\"\n",
    "nombre_out = \"dansu-realize_18.wav\"\n",
    "command_consola = \"ffmpeg -i \" + nombre_in +\" \"+ nombre_out\n",
    "os.system(command_consola)\n",
    "\n",
    "import soundfile as sf \n",
    "x156, fs156 = sf.read('dansu-realize_18.wav')\n",
    "x156=x156[0:mmax,:]\n",
    "print('Frecuencia de muestreo %.2f[Hz]\\naudio %s' % (fs156,nombre_out))"
   ]
  },
  {
   "cell_type": "code",
   "execution_count": 823,
   "metadata": {},
   "outputs": [],
   "source": [
    "xpro156 = x156.copy() \n",
    "Xw156 = np.fft.rfft(xpro156,axis=0) \n",
    "vf156 = np.fft.rfftfreq(np.size(xpro156,0),1/fs156)\n",
    "xwm156 = (abs(Xw156[:,[0]]))\n",
    "xwmt156 = np.transpose(xwm156)\n",
    "xwmm156 = (abs(Xw156[:,[1]]))\n",
    "xwmy156 = np.transpose(xwmm156)"
   ]
  },
  {
   "cell_type": "markdown",
   "metadata": {},
   "source": [
    "<audio src=\"dansu-realize_19.mp3\" controls>Your browser does not support the audio element.</audio>\n",
    "[dansu-realize_19.mp3](dansu-realize_19mp3)"
   ]
  },
  {
   "cell_type": "code",
   "execution_count": 824,
   "metadata": {},
   "outputs": [
    {
     "name": "stdout",
     "output_type": "stream",
     "text": [
      "Frecuencia de muestreo 44100.00[Hz]\n",
      "audio dansu-realize_19.wav\n"
     ]
    }
   ],
   "source": [
    "nombre_in = \"dansu-realize_19.mp3\"\n",
    "nombre_out = \"dansu-realize_19.wav\"\n",
    "command_consola = \"ffmpeg -i \" + nombre_in +\" \"+ nombre_out\n",
    "os.system(command_consola)\n",
    "\n",
    "import soundfile as sf \n",
    "x157, fs157 = sf.read('dansu-realize_19.wav')\n",
    "x157=x157[0:mmax,:]\n",
    "print('Frecuencia de muestreo %.2f[Hz]\\naudio %s' % (fs157,nombre_out))"
   ]
  },
  {
   "cell_type": "code",
   "execution_count": 825,
   "metadata": {},
   "outputs": [],
   "source": [
    "xpro157 = x157.copy() \n",
    "Xw157 = np.fft.rfft(xpro157,axis=0) \n",
    "vf157 = np.fft.rfftfreq(np.size(xpro157,0),1/fs157)\n",
    "xwm157 = (abs(Xw157[:,[0]]))\n",
    "xwmt157 = np.transpose(xwm157)\n",
    "xwmm157 = (abs(Xw157[:,[1]]))\n",
    "xwmy157 = np.transpose(xwmm157)"
   ]
  },
  {
   "cell_type": "markdown",
   "metadata": {},
   "source": [
    "<audio src=\"dansu-realize_20.mp3\" controls>Your browser does not support the audio element.</audio>\n",
    "[dansu-realize_20.mp3](dansu-realize_20mp3)"
   ]
  },
  {
   "cell_type": "code",
   "execution_count": 826,
   "metadata": {},
   "outputs": [
    {
     "name": "stdout",
     "output_type": "stream",
     "text": [
      "Frecuencia de muestreo 44100.00[Hz]\n",
      "audio dansu-realize_20.wav\n"
     ]
    }
   ],
   "source": [
    "nombre_in = \"dansu-realize_20.mp3\"\n",
    "nombre_out = \"dansu-realize_20.wav\"\n",
    "command_consola = \"ffmpeg -i \" + nombre_in +\" \"+ nombre_out\n",
    "os.system(command_consola)\n",
    "\n",
    "import soundfile as sf \n",
    "x158, fs158 = sf.read('dansu-realize_20.wav')\n",
    "x158=x158[0:mmax,:]\n",
    "print('Frecuencia de muestreo %.2f[Hz]\\naudio %s' % (fs158,nombre_out))"
   ]
  },
  {
   "cell_type": "code",
   "execution_count": 827,
   "metadata": {},
   "outputs": [],
   "source": [
    "xpro158 = x158.copy() \n",
    "Xw158 = np.fft.rfft(xpro158,axis=0) \n",
    "vf158 = np.fft.rfftfreq(np.size(xpro158,0),1/fs158)\n",
    "xwm158 = (abs(Xw158[:,[0]]))\n",
    "xwmt158 = np.transpose(xwm158)\n",
    "xwmm158 = (abs(Xw158[:,[1]]))\n",
    "xwmy158 = np.transpose(xwmm158)"
   ]
  },
  {
   "cell_type": "markdown",
   "metadata": {},
   "source": [
    "**AHORA VAMOS A HACER LA MATRIZ DE XW.1**"
   ]
  },
  {
   "cell_type": "code",
   "execution_count": 828,
   "metadata": {},
   "outputs": [
    {
     "name": "stdout",
     "output_type": "stream",
     "text": [
      "[[2.44407959e+01 2.93680257e+01 4.53393506e+01 ... 3.98577745e-02\n",
      "  3.47590550e-02 3.75366211e-02]\n",
      " [2.12489319e+01 1.23717277e+01 1.04031169e+01 ... 3.67605744e-02\n",
      "  3.87301884e-02 3.58581543e-02]\n",
      " [3.30185852e+01 1.28186924e+01 2.39065368e+01 ... 6.71871194e-03\n",
      "  6.45810386e-02 1.00708008e-03]\n",
      " ...\n",
      " [9.91886902e+01 7.00613826e+01 5.05077588e+01 ... 6.40786974e-02\n",
      "  3.35863879e-02 3.59191895e-02]\n",
      " [9.37248230e+01 5.33627116e+01 4.16933682e+01 ... 2.27090031e-02\n",
      "  2.25475660e-02 2.08435059e-02]\n",
      " [1.33486938e+00 1.71100481e+00 1.15880448e+00 ... 8.75564370e-02\n",
      "  8.45629901e-02 8.04748535e-02]]\n"
     ]
    }
   ],
   "source": [
    "matriz1 = np.concatenate((xwmt1,xwmt2,xwmt3,xwmt4,xwmt5,xwmt6,xwmt7,xwmt8,xwmt9,xwmt10,xwmt11,xwmt12,xwmt13,xwmt14,xwmt15,xwmt16,xwmt17,xwmt18,xwmt19,xwmt20,xwmt21,xwmt22,xwmt23,xwmt24,xwmt25,xwmt26,xwmt27,xwmt28,xwmt29,xwmt30,xwmt31,xwmt32,xwmt33,xwmt34,xwmt35,xwmt36,xwmt37,xwmt38,xwmt39,xwmt40,xwmt41,xwmt42,xwmt43,xwmt44,xwmt45,xwmt46,xwmt47,xwmt48,xwmt49,xwmt50,xwmt51,xwmt52,xwmt53,xwmt54,xwmt55,xwmt56,xwmt57,xwmt58,xwmt59,xwmt60,xwmt61,xwmt62,xwmt63,xwmt64,xwmt65,xwmt66,xwmt67,xwmt68,xwmt69,xwmt70,xwmt71,xwmt72,xwmt73,xwmt74,xwmt75,xwmt76,xwmt77,xwmt78,xwmt79,xwmt80,xwmt81,xwmt82,xwmt83,xwmt84,xwmt85,xwmt86,xwmt87,xwmt88,xwmt89,xwmt90,xwmt91,xwmt92,xwmt93,xwmt94,xwmt95,xwmt96,xwmt97,xwmt98,xwmt99,xwmt100,xwmt101,xwmt102,xwmt103,xwmt104,xwmt105,xwmt106,xwmt107,xwmt108,xwmt109,xwmt110,xwmt111,xwmt112,xwmt113,xwmt114,xwmt115,xwmt116,xwmt117,xwmt118,xwmt119,xwmt120,xwmt121,xwmt122,xwmt123,xwmt124,xwmt125,xwmt126,xwmt127,xwmt128,xwmt129,xwmt130,xwmt131,xwmt132,xwmt133,xwmt134,xwmt135,xwmt136,xwmt137,xwmt138,xwmt139,xwmt140,xwmt141,xwmt142,xwmt143,xwmt144,xwmt145,xwmt146,xwmt147,xwmt148,xwmt149,xwmt150,xwmt151,xwmt152,xwmt153,xwmt154,xwmt155,xwmt156,xwmt157,xwmt158), axis=0)\n",
    "print(matriz1)"
   ]
  },
  {
   "cell_type": "code",
   "execution_count": 829,
   "metadata": {},
   "outputs": [
    {
     "data": {
      "text/plain": [
       "(158, 110251)"
      ]
     },
     "execution_count": 829,
     "metadata": {},
     "output_type": "execute_result"
    }
   ],
   "source": [
    "matriz1.shape"
   ]
  },
  {
   "cell_type": "markdown",
   "metadata": {},
   "source": [
    "**AHORA VAMOS A HACER LA MATRIZ DE XW.2**"
   ]
  },
  {
   "cell_type": "code",
   "execution_count": 830,
   "metadata": {},
   "outputs": [
    {
     "name": "stdout",
     "output_type": "stream",
     "text": [
      "[[2.44407959e+01 2.93680257e+01 4.53393506e+01 ... 3.98577745e-02\n",
      "  3.47590550e-02 3.75366211e-02]\n",
      " [1.51456299e+01 2.36629298e+01 1.67121629e+01 ... 3.75055673e-02\n",
      "  3.72944305e-02 3.05786133e-02]\n",
      " [8.88793945e+00 1.72948296e+01 7.99970967e+00 ... 6.14518357e-02\n",
      "  5.93023310e-02 5.94482422e-02]\n",
      " ...\n",
      " [1.27768463e+02 7.89602915e+01 3.99035800e+01 ... 3.19337576e-02\n",
      "  6.94153329e-02 5.32531738e-02]\n",
      " [9.53004761e+01 5.88461987e+01 4.21947974e+01 ... 4.48826370e-02\n",
      "  4.73588089e-02 4.40063477e-02]\n",
      " [2.44238281e+00 1.54835709e+00 2.60144053e+00 ... 7.38643374e-02\n",
      "  6.98383066e-02 7.22045898e-02]]\n"
     ]
    }
   ],
   "source": [
    "matriz2 = np.concatenate((xwmy1,xwmy2,xwmy3,xwmy4,xwmy5,xwmy6,xwmy7,xwmy8,xwmy9,xwmy10,xwmy11,xwmy12,xwmy13,xwmy14,xwmy15,xwmy16,xwmy17,xwmy18,xwmy19,xwmy20,xwmy21,xwmy22,xwmy23,xwmy24,xwmy25,xwmy26,xwmy27,xwmy28,xwmy29,xwmy30,xwmy31,xwmy32,xwmy33,xwmy34,xwmy35,xwmy36,xwmy37,xwmy38,xwmy39,xwmy40,xwmy41,xwmy42,xwmy43,xwmy44,xwmy45,xwmy46,xwmy47,xwmy48,xwmy49,xwmy50,xwmy51,xwmy52,xwmy53,xwmy54,xwmy55,xwmy56,xwmy57,xwmy58,xwmy59,xwmy60,xwmy61,xwmy62,xwmy63,xwmy64,xwmy65,xwmy66,xwmy67,xwmy68,xwmy69,xwmy70,xwmy71,xwmy72,xwmy73,xwmy74,xwmy75,xwmy76,xwmy77,xwmy78,xwmy79,xwmy80,xwmy81,xwmy82,xwmy83,xwmy84,xwmy85,xwmy86,xwmy87,xwmy88,xwmy89,xwmy90,xwmy91,xwmy92,xwmy93,xwmy94,xwmy95,xwmy96,xwmy97,xwmy98,xwmy99,xwmy100,xwmy101,xwmy102,xwmy103,xwmy104,xwmy105,xwmy106,xwmy107,xwmy108,xwmy109,xwmy110,xwmy111,xwmy112,xwmy113,xwmy114,xwmy115,xwmy116,xwmy117,xwmy118,xwmy119,xwmy120,xwmy121,xwmy122,xwmy123,xwmy124,xwmy125,xwmy126,xwmy127,xwmy128,xwmy129,xwmy130,xwmy131,xwmy132,xwmy133,xwmy134,xwmy135,xwmy136,xwmy137,xwmy138,xwmy139,xwmy140,xwmy141,xwmy142,xwmy143,xwmy144,xwmy145,xwmy146,xwmy147,xwmy148,xwmy149,xwmy150,xwmy151,xwmy152,xwmy153,xwmy154,xwmy155,xwmy156,xwmy157,xwmy158), axis=0)\n",
    "print(matriz2)"
   ]
  },
  {
   "cell_type": "code",
   "execution_count": 831,
   "metadata": {},
   "outputs": [
    {
     "data": {
      "text/plain": [
       "(158, 110251)"
      ]
     },
     "execution_count": 831,
     "metadata": {},
     "output_type": "execute_result"
    }
   ],
   "source": [
    "matriz2.shape"
   ]
  },
  {
   "cell_type": "markdown",
   "metadata": {},
   "source": [
    "**CANCION A ANALIZAR**"
   ]
  },
  {
   "cell_type": "code",
   "execution_count": 832,
   "metadata": {},
   "outputs": [
    {
     "ename": "RuntimeError",
     "evalue": "Error opening 'all_got.wav': System error.",
     "output_type": "error",
     "traceback": [
      "\u001b[1;31m---------------------------------------------------------------------------\u001b[0m",
      "\u001b[1;31mRuntimeError\u001b[0m                              Traceback (most recent call last)",
      "\u001b[1;32m<ipython-input-832-bababd00685e>\u001b[0m in \u001b[0;36m<module>\u001b[1;34m\u001b[0m\n\u001b[0;32m      5\u001b[0m \u001b[1;33m\u001b[0m\u001b[0m\n\u001b[0;32m      6\u001b[0m \u001b[1;32mimport\u001b[0m \u001b[0msoundfile\u001b[0m \u001b[1;32mas\u001b[0m \u001b[0msf\u001b[0m\u001b[1;33m\u001b[0m\u001b[1;33m\u001b[0m\u001b[0m\n\u001b[1;32m----> 7\u001b[1;33m \u001b[0mxnuevo\u001b[0m\u001b[1;33m,\u001b[0m \u001b[0mfsnuevo\u001b[0m \u001b[1;33m=\u001b[0m \u001b[0msf\u001b[0m\u001b[1;33m.\u001b[0m\u001b[0mread\u001b[0m\u001b[1;33m(\u001b[0m\u001b[1;34m'all_got.wav'\u001b[0m\u001b[1;33m)\u001b[0m\u001b[1;33m\u001b[0m\u001b[1;33m\u001b[0m\u001b[0m\n\u001b[0m\u001b[0;32m      8\u001b[0m \u001b[0mxnuevo\u001b[0m\u001b[1;33m=\u001b[0m\u001b[0mxnuevo\u001b[0m\u001b[1;33m[\u001b[0m\u001b[1;36m0\u001b[0m\u001b[1;33m:\u001b[0m\u001b[0mmmax\u001b[0m\u001b[1;33m,\u001b[0m\u001b[1;33m:\u001b[0m\u001b[1;33m]\u001b[0m\u001b[1;33m\u001b[0m\u001b[1;33m\u001b[0m\u001b[0m\n\u001b[0;32m      9\u001b[0m \u001b[1;33m\u001b[0m\u001b[0m\n",
      "\u001b[1;32m~\\Anaconda3\\lib\\site-packages\\soundfile.py\u001b[0m in \u001b[0;36mread\u001b[1;34m(file, frames, start, stop, dtype, always_2d, fill_value, out, samplerate, channels, format, subtype, endian, closefd)\u001b[0m\n\u001b[0;32m    255\u001b[0m     \"\"\"\n\u001b[0;32m    256\u001b[0m     with SoundFile(file, 'r', samplerate, channels,\n\u001b[1;32m--> 257\u001b[1;33m                    subtype, endian, format, closefd) as f:\n\u001b[0m\u001b[0;32m    258\u001b[0m         \u001b[0mframes\u001b[0m \u001b[1;33m=\u001b[0m \u001b[0mf\u001b[0m\u001b[1;33m.\u001b[0m\u001b[0m_prepare_read\u001b[0m\u001b[1;33m(\u001b[0m\u001b[0mstart\u001b[0m\u001b[1;33m,\u001b[0m \u001b[0mstop\u001b[0m\u001b[1;33m,\u001b[0m \u001b[0mframes\u001b[0m\u001b[1;33m)\u001b[0m\u001b[1;33m\u001b[0m\u001b[1;33m\u001b[0m\u001b[0m\n\u001b[0;32m    259\u001b[0m         \u001b[0mdata\u001b[0m \u001b[1;33m=\u001b[0m \u001b[0mf\u001b[0m\u001b[1;33m.\u001b[0m\u001b[0mread\u001b[0m\u001b[1;33m(\u001b[0m\u001b[0mframes\u001b[0m\u001b[1;33m,\u001b[0m \u001b[0mdtype\u001b[0m\u001b[1;33m,\u001b[0m \u001b[0malways_2d\u001b[0m\u001b[1;33m,\u001b[0m \u001b[0mfill_value\u001b[0m\u001b[1;33m,\u001b[0m \u001b[0mout\u001b[0m\u001b[1;33m)\u001b[0m\u001b[1;33m\u001b[0m\u001b[1;33m\u001b[0m\u001b[0m\n",
      "\u001b[1;32m~\\Anaconda3\\lib\\site-packages\\soundfile.py\u001b[0m in \u001b[0;36m__init__\u001b[1;34m(self, file, mode, samplerate, channels, subtype, endian, format, closefd)\u001b[0m\n\u001b[0;32m    625\u001b[0m         self._info = _create_info_struct(file, mode, samplerate, channels,\n\u001b[0;32m    626\u001b[0m                                          format, subtype, endian)\n\u001b[1;32m--> 627\u001b[1;33m         \u001b[0mself\u001b[0m\u001b[1;33m.\u001b[0m\u001b[0m_file\u001b[0m \u001b[1;33m=\u001b[0m \u001b[0mself\u001b[0m\u001b[1;33m.\u001b[0m\u001b[0m_open\u001b[0m\u001b[1;33m(\u001b[0m\u001b[0mfile\u001b[0m\u001b[1;33m,\u001b[0m \u001b[0mmode_int\u001b[0m\u001b[1;33m,\u001b[0m \u001b[0mclosefd\u001b[0m\u001b[1;33m)\u001b[0m\u001b[1;33m\u001b[0m\u001b[1;33m\u001b[0m\u001b[0m\n\u001b[0m\u001b[0;32m    628\u001b[0m         \u001b[1;32mif\u001b[0m \u001b[0mset\u001b[0m\u001b[1;33m(\u001b[0m\u001b[0mmode\u001b[0m\u001b[1;33m)\u001b[0m\u001b[1;33m.\u001b[0m\u001b[0missuperset\u001b[0m\u001b[1;33m(\u001b[0m\u001b[1;34m'r+'\u001b[0m\u001b[1;33m)\u001b[0m \u001b[1;32mand\u001b[0m \u001b[0mself\u001b[0m\u001b[1;33m.\u001b[0m\u001b[0mseekable\u001b[0m\u001b[1;33m(\u001b[0m\u001b[1;33m)\u001b[0m\u001b[1;33m:\u001b[0m\u001b[1;33m\u001b[0m\u001b[1;33m\u001b[0m\u001b[0m\n\u001b[0;32m    629\u001b[0m             \u001b[1;31m# Move write position to 0 (like in Python file objects)\u001b[0m\u001b[1;33m\u001b[0m\u001b[1;33m\u001b[0m\u001b[1;33m\u001b[0m\u001b[0m\n",
      "\u001b[1;32m~\\Anaconda3\\lib\\site-packages\\soundfile.py\u001b[0m in \u001b[0;36m_open\u001b[1;34m(self, file, mode_int, closefd)\u001b[0m\n\u001b[0;32m   1180\u001b[0m             \u001b[1;32mraise\u001b[0m \u001b[0mTypeError\u001b[0m\u001b[1;33m(\u001b[0m\u001b[1;34m\"Invalid file: {0!r}\"\u001b[0m\u001b[1;33m.\u001b[0m\u001b[0mformat\u001b[0m\u001b[1;33m(\u001b[0m\u001b[0mself\u001b[0m\u001b[1;33m.\u001b[0m\u001b[0mname\u001b[0m\u001b[1;33m)\u001b[0m\u001b[1;33m)\u001b[0m\u001b[1;33m\u001b[0m\u001b[1;33m\u001b[0m\u001b[0m\n\u001b[0;32m   1181\u001b[0m         _error_check(_snd.sf_error(file_ptr),\n\u001b[1;32m-> 1182\u001b[1;33m                      \"Error opening {0!r}: \".format(self.name))\n\u001b[0m\u001b[0;32m   1183\u001b[0m         \u001b[1;32mif\u001b[0m \u001b[0mmode_int\u001b[0m \u001b[1;33m==\u001b[0m \u001b[0m_snd\u001b[0m\u001b[1;33m.\u001b[0m\u001b[0mSFM_WRITE\u001b[0m\u001b[1;33m:\u001b[0m\u001b[1;33m\u001b[0m\u001b[1;33m\u001b[0m\u001b[0m\n\u001b[0;32m   1184\u001b[0m             \u001b[1;31m# Due to a bug in libsndfile version <= 1.0.25, frames != 0\u001b[0m\u001b[1;33m\u001b[0m\u001b[1;33m\u001b[0m\u001b[1;33m\u001b[0m\u001b[0m\n",
      "\u001b[1;32m~\\Anaconda3\\lib\\site-packages\\soundfile.py\u001b[0m in \u001b[0;36m_error_check\u001b[1;34m(err, prefix)\u001b[0m\n\u001b[0;32m   1353\u001b[0m     \u001b[1;32mif\u001b[0m \u001b[0merr\u001b[0m \u001b[1;33m!=\u001b[0m \u001b[1;36m0\u001b[0m\u001b[1;33m:\u001b[0m\u001b[1;33m\u001b[0m\u001b[1;33m\u001b[0m\u001b[0m\n\u001b[0;32m   1354\u001b[0m         \u001b[0merr_str\u001b[0m \u001b[1;33m=\u001b[0m \u001b[0m_snd\u001b[0m\u001b[1;33m.\u001b[0m\u001b[0msf_error_number\u001b[0m\u001b[1;33m(\u001b[0m\u001b[0merr\u001b[0m\u001b[1;33m)\u001b[0m\u001b[1;33m\u001b[0m\u001b[1;33m\u001b[0m\u001b[0m\n\u001b[1;32m-> 1355\u001b[1;33m         \u001b[1;32mraise\u001b[0m \u001b[0mRuntimeError\u001b[0m\u001b[1;33m(\u001b[0m\u001b[0mprefix\u001b[0m \u001b[1;33m+\u001b[0m \u001b[0m_ffi\u001b[0m\u001b[1;33m.\u001b[0m\u001b[0mstring\u001b[0m\u001b[1;33m(\u001b[0m\u001b[0merr_str\u001b[0m\u001b[1;33m)\u001b[0m\u001b[1;33m.\u001b[0m\u001b[0mdecode\u001b[0m\u001b[1;33m(\u001b[0m\u001b[1;34m'utf-8'\u001b[0m\u001b[1;33m,\u001b[0m \u001b[1;34m'replace'\u001b[0m\u001b[1;33m)\u001b[0m\u001b[1;33m)\u001b[0m\u001b[1;33m\u001b[0m\u001b[1;33m\u001b[0m\u001b[0m\n\u001b[0m\u001b[0;32m   1356\u001b[0m \u001b[1;33m\u001b[0m\u001b[0m\n\u001b[0;32m   1357\u001b[0m \u001b[1;33m\u001b[0m\u001b[0m\n",
      "\u001b[1;31mRuntimeError\u001b[0m: Error opening 'all_got.wav': System error."
     ]
    }
   ],
   "source": [
    "nombre_in = \"all_got.mp3\"\n",
    "nombre_out = \"all_got.wav\"\n",
    "command_consola = \"ffmpeg -i \" + nombre_in +\" \"+ nombre_out\n",
    "os.system(command_consola)\n",
    "\n",
    "import soundfile as sf \n",
    "xnuevo, fsnuevo = sf.read('all_got.wav')\n",
    "xnuevo=xnuevo[0:mmax,:]\n",
    "\n",
    "print('Frecuencia de muestreo %.2f[Hz]\\naudio %s' % (fsnuevo,nombre_out))"
   ]
  },
  {
   "cell_type": "code",
   "execution_count": null,
   "metadata": {},
   "outputs": [],
   "source": [
    "xpronuevo = xnuevo.copy() \n",
    "Xwnuevo = np.fft.rfft(xpronuevo,axis=0) \n",
    "vfnuevo = np.fft.rfftfreq(np.size(xpronuevo,0),1/fsnuevo)\n",
    "xwmnuevo = (abs(Xwnuevo[:,[0]]))\n",
    "xwmtnuevo = np.transpose(xwmnuevo)\n",
    "xwmnuevo1 = (abs(Xwnuevo[:,[1]]))\n",
    "xwmynuevo = np.transpose(xwmnuevo1)"
   ]
  },
  {
   "cell_type": "code",
   "execution_count": null,
   "metadata": {},
   "outputs": [],
   "source": [
    "dist1 = np.linalg.norm(xwmt1-xwmtnuevo)\n",
    "dist2 = np.linalg.norm(xwmt2-xwmtnuevo)\n",
    "dist3 = np.linalg.norm(xwmt3-xwmtnuevo)\n",
    "dist4 = np.linalg.norm(xwmt4-xwmtnuevo)\n",
    "dist5 = np.linalg.norm(xwmt5-xwmtnuevo)\n",
    "dist6 = np.linalg.norm(xwmt6-xwmtnuevo)\n",
    "dist7 = np.linalg.norm(xwmt7-xwmtnuevo)\n",
    "dist8 = np.linalg.norm(xwmt8-xwmtnuevo)\n",
    "dist9 = np.linalg.norm(xwmt9-xwmtnuevo)\n",
    "dist10 = np.linalg.norm(xwmt10-xwmtnuevo)\n",
    "dist11 = np.linalg.norm(xwmt11-xwmtnuevo)\n",
    "dist12 = np.linalg.norm(xwmt12-xwmtnuevo)\n",
    "dist13 = np.linalg.norm(xwmt13-xwmtnuevo)\n",
    "dist14 = np.linalg.norm(xwmt14-xwmtnuevo)\n",
    "dist15 = np.linalg.norm(xwmt15-xwmtnuevo)\n",
    "dist16 = np.linalg.norm(xwmt16-xwmtnuevo)\n",
    "dist17 = np.linalg.norm(xwmt17-xwmtnuevo)\n",
    "dist18 = np.linalg.norm(xwmt18-xwmtnuevo)\n",
    "dist19 = np.linalg.norm(xwmt19-xwmtnuevo)\n",
    "dist20 = np.linalg.norm(xwmt20-xwmtnuevo)\n",
    "dist21 = np.linalg.norm(xwmt21-xwmtnuevo)\n",
    "dist22 = np.linalg.norm(xwmt22-xwmtnuevo)\n",
    "dist23 = np.linalg.norm(xwmt23-xwmtnuevo)\n",
    "dist24 = np.linalg.norm(xwmt24-xwmtnuevo)\n",
    "dist25 = np.linalg.norm(xwmt25-xwmtnuevo)\n",
    "dist26 = np.linalg.norm(xwmt26-xwmtnuevo)\n",
    "dist27 = np.linalg.norm(xwmt27-xwmtnuevo)\n",
    "dist28 = np.linalg.norm(xwmt28-xwmtnuevo)\n",
    "dist29 = np.linalg.norm(xwmt29-xwmtnuevo)\n",
    "dist30 = np.linalg.norm(xwmt30-xwmtnuevo)\n",
    "dist31 = np.linalg.norm(xwmt31-xwmtnuevo)\n",
    "dist32 = np.linalg.norm(xwmt32-xwmtnuevo)\n",
    "dist33 = np.linalg.norm(xwmt33-xwmtnuevo)\n",
    "dist34 = np.linalg.norm(xwmt34-xwmtnuevo)\n",
    "dist35 = np.linalg.norm(xwmt35-xwmtnuevo)\n",
    "dist36 = np.linalg.norm(xwmt36-xwmtnuevo)\n",
    "dist37 = np.linalg.norm(xwmt37-xwmtnuevo)\n",
    "dist38 = np.linalg.norm(xwmt38-xwmtnuevo)\n",
    "dist39 = np.linalg.norm(xwmt39-xwmtnuevo)\n",
    "dist40 = np.linalg.norm(xwmt40-xwmtnuevo)\n",
    "dist41 = np.linalg.norm(xwmt41-xwmtnuevo)\n",
    "dist42 = np.linalg.norm(xwmt42-xwmtnuevo)\n",
    "dist43 = np.linalg.norm(xwmt43-xwmtnuevo)\n",
    "dist44 = np.linalg.norm(xwmt44-xwmtnuevo)\n",
    "dist45 = np.linalg.norm(xwmt45-xwmtnuevo)\n",
    "dist46 = np.linalg.norm(xwmt46-xwmtnuevo)\n",
    "dist47 = np.linalg.norm(xwmt47-xwmtnuevo)\n",
    "dist48 = np.linalg.norm(xwmt48-xwmtnuevo)\n",
    "dist49 = np.linalg.norm(xwmt49-xwmtnuevo)\n",
    "dist50 = np.linalg.norm(xwmt50-xwmtnuevo)\n",
    "dist51 = np.linalg.norm(xwmt51-xwmtnuevo)\n",
    "dist52 = np.linalg.norm(xwmt52-xwmtnuevo)\n",
    "dist53 = np.linalg.norm(xwmt53-xwmtnuevo)\n",
    "dist54 = np.linalg.norm(xwmt54-xwmtnuevo)\n",
    "dist55 = np.linalg.norm(xwmt55-xwmtnuevo)\n",
    "dist56 = np.linalg.norm(xwmt56-xwmtnuevo)\n",
    "dist57 = np.linalg.norm(xwmt57-xwmtnuevo)\n",
    "dist58 = np.linalg.norm(xwmt58-xwmtnuevo)\n",
    "dist59 = np.linalg.norm(xwmt59-xwmtnuevo)\n",
    "dist60 = np.linalg.norm(xwmt60-xwmtnuevo)\n",
    "dist61 = np.linalg.norm(xwmt61-xwmtnuevo)\n",
    "dist62 = np.linalg.norm(xwmt62-xwmtnuevo)\n",
    "dist63 = np.linalg.norm(xwmt63-xwmtnuevo)\n",
    "dist64 = np.linalg.norm(xwmt64-xwmtnuevo)\n",
    "dist65 = np.linalg.norm(xwmt65-xwmtnuevo)\n",
    "dist66 = np.linalg.norm(xwmt66-xwmtnuevo)\n",
    "dist67 = np.linalg.norm(xwmt67-xwmtnuevo)\n",
    "dist68 = np.linalg.norm(xwmt68-xwmtnuevo)\n",
    "dist69 = np.linalg.norm(xwmt69-xwmtnuevo)\n",
    "dist70 = np.linalg.norm(xwmt70-xwmtnuevo)\n",
    "dist71 = np.linalg.norm(xwmt71-xwmtnuevo)\n",
    "dist72 = np.linalg.norm(xwmt72-xwmtnuevo)\n",
    "dist73 = np.linalg.norm(xwmt73-xwmtnuevo)\n",
    "dist74 = np.linalg.norm(xwmt74-xwmtnuevo)\n",
    "dist75 = np.linalg.norm(xwmt75-xwmtnuevo)\n",
    "dist76 = np.linalg.norm(xwmt76-xwmtnuevo)\n",
    "dist77 = np.linalg.norm(xwmt77-xwmtnuevo)\n",
    "dist78 = np.linalg.norm(xwmt78-xwmtnuevo)\n",
    "dist79 = np.linalg.norm(xwmt79-xwmtnuevo)\n",
    "dist80 = np.linalg.norm(xwmt80-xwmtnuevo)\n",
    "dist81 = np.linalg.norm(xwmt81-xwmtnuevo)\n",
    "dist82 = np.linalg.norm(xwmt82-xwmtnuevo)\n",
    "dist83 = np.linalg.norm(xwmt83-xwmtnuevo)\n",
    "dist84 = np.linalg.norm(xwmt84-xwmtnuevo)\n",
    "dist85 = np.linalg.norm(xwmt85-xwmtnuevo)\n",
    "dist86 = np.linalg.norm(xwmt86-xwmtnuevo)\n",
    "dist87 = np.linalg.norm(xwmt87-xwmtnuevo)\n",
    "dist88 = np.linalg.norm(xwmt88-xwmtnuevo)\n",
    "dist89 = np.linalg.norm(xwmt89-xwmtnuevo)\n",
    "dist90 = np.linalg.norm(xwmt90-xwmtnuevo)\n",
    "dist91 = np.linalg.norm(xwmt91-xwmtnuevo)\n",
    "dist92 = np.linalg.norm(xwmt92-xwmtnuevo)\n",
    "dist93 = np.linalg.norm(xwmt93-xwmtnuevo)\n",
    "dist94 = np.linalg.norm(xwmt94-xwmtnuevo)\n",
    "dist95 = np.linalg.norm(xwmt95-xwmtnuevo)\n",
    "dist96 = np.linalg.norm(xwmt96-xwmtnuevo)\n",
    "dist97 = np.linalg.norm(xwmt97-xwmtnuevo)\n",
    "dist98 = np.linalg.norm(xwmt98-xwmtnuevo)\n",
    "dist99 = np.linalg.norm(xwmt99-xwmtnuevo)\n",
    "dist100 = np.linalg.norm(xwmt100-xwmtnuevo)\n",
    "dist101 = np.linalg.norm(xwmt101-xwmtnuevo)\n",
    "dist102 = np.linalg.norm(xwmt102-xwmtnuevo)\n",
    "dist103 = np.linalg.norm(xwmt103-xwmtnuevo)\n",
    "dist104 = np.linalg.norm(xwmt104-xwmtnuevo)\n",
    "dist105 = np.linalg.norm(xwmt105-xwmtnuevo)\n",
    "dist106 = np.linalg.norm(xwmt106-xwmtnuevo)\n",
    "dist107 = np.linalg.norm(xwmt107-xwmtnuevo)\n",
    "dist108 = np.linalg.norm(xwmt108-xwmtnuevo)\n",
    "dist109 = np.linalg.norm(xwmt109-xwmtnuevo)\n",
    "dist110 = np.linalg.norm(xwmt110-xwmtnuevo)\n",
    "dist111 = np.linalg.norm(xwmt111-xwmtnuevo)\n",
    "dist112 = np.linalg.norm(xwmt112-xwmtnuevo)\n",
    "dist113 = np.linalg.norm(xwmt113-xwmtnuevo)\n",
    "dist114 = np.linalg.norm(xwmt114-xwmtnuevo)\n",
    "dist115 = np.linalg.norm(xwmt115-xwmtnuevo)\n",
    "dist116 = np.linalg.norm(xwmt116-xwmtnuevo)\n",
    "dist117 = np.linalg.norm(xwmt117-xwmtnuevo)\n",
    "dist118 = np.linalg.norm(xwmt118-xwmtnuevo)\n",
    "dist119 = np.linalg.norm(xwmt119-xwmtnuevo)\n",
    "dist120 = np.linalg.norm(xwmt120-xwmtnuevo)\n",
    "dist121 = np.linalg.norm(xwmt121-xwmtnuevo)\n",
    "dist122 = np.linalg.norm(xwmt122-xwmtnuevo)\n",
    "dist123 = np.linalg.norm(xwmt123-xwmtnuevo)\n",
    "dist124 = np.linalg.norm(xwmt124-xwmtnuevo)\n",
    "dist125 = np.linalg.norm(xwmt125-xwmtnuevo)\n",
    "dist126 = np.linalg.norm(xwmt126-xwmtnuevo)\n",
    "dist127 = np.linalg.norm(xwmt127-xwmtnuevo)\n",
    "dist128 = np.linalg.norm(xwmt128-xwmtnuevo)\n",
    "dist129 = np.linalg.norm(xwmt129-xwmtnuevo)\n",
    "dist130 = np.linalg.norm(xwmt130-xwmtnuevo)\n",
    "dist131 = np.linalg.norm(xwmt131-xwmtnuevo)\n",
    "dist132 = np.linalg.norm(xwmt132-xwmtnuevo)\n",
    "dist133 = np.linalg.norm(xwmt133-xwmtnuevo)\n",
    "dist134 = np.linalg.norm(xwmt134-xwmtnuevo)\n",
    "dist135 = np.linalg.norm(xwmt135-xwmtnuevo)\n",
    "dist136 = np.linalg.norm(xwmt136-xwmtnuevo)\n",
    "dist137 = np.linalg.norm(xwmt137-xwmtnuevo)\n",
    "dist138 = np.linalg.norm(xwmt138-xwmtnuevo)\n",
    "dist139 = np.linalg.norm(xwmt139-xwmtnuevo)\n",
    "dist140 = np.linalg.norm(xwmt140-xwmtnuevo)\n",
    "dist141 = np.linalg.norm(xwmt141-xwmtnuevo)\n",
    "dist142 = np.linalg.norm(xwmt142-xwmtnuevo)\n",
    "dist143 = np.linalg.norm(xwmt143-xwmtnuevo)\n",
    "dist144 = np.linalg.norm(xwmt144-xwmtnuevo)\n",
    "dist145 = np.linalg.norm(xwmt145-xwmtnuevo)\n",
    "dist146 = np.linalg.norm(xwmt146-xwmtnuevo)\n",
    "dist147 = np.linalg.norm(xwmt147-xwmtnuevo)\n",
    "dist148 = np.linalg.norm(xwmt148-xwmtnuevo)\n",
    "dist149 = np.linalg.norm(xwmt149-xwmtnuevo)\n",
    "dist150 = np.linalg.norm(xwmt150-xwmtnuevo)\n",
    "dist151 = np.linalg.norm(xwmt151-xwmtnuevo)\n",
    "dist152 = np.linalg.norm(xwmt152-xwmtnuevo)\n",
    "dist153 = np.linalg.norm(xwmt153-xwmtnuevo)\n",
    "dist154 = np.linalg.norm(xwmt154-xwmtnuevo)\n",
    "dist155 = np.linalg.norm(xwmt155-xwmtnuevo)\n",
    "dist156 = np.linalg.norm(xwmt156-xwmtnuevo)\n",
    "dist157 = np.linalg.norm(xwmt157-xwmtnuevo)\n",
    "dist158 = np.linalg.norm(xwmt158-xwmtnuevo)\n"
   ]
  },
  {
   "cell_type": "code",
   "execution_count": null,
   "metadata": {},
   "outputs": [],
   "source": [
    "dista1 = np.linalg.norm(xwmy1-xwmynuevo)\n",
    "dista2 = np.linalg.norm(xwmy2-xwmynuevo)\n",
    "dista3 = np.linalg.norm(xwmy3-xwmynuevo)\n",
    "dista4 = np.linalg.norm(xwmy4-xwmynuevo)\n",
    "dista5 = np.linalg.norm(xwmy5-xwmynuevo)\n",
    "dista6 = np.linalg.norm(xwmy6-xwmynuevo)\n",
    "dista7 = np.linalg.norm(xwmy7-xwmynuevo)\n",
    "dista8 = np.linalg.norm(xwmy8-xwmynuevo)\n",
    "dista9 = np.linalg.norm(xwmy9-xwmynuevo)\n",
    "dista10 = np.linalg.norm(xwmy10-xwmynuevo)\n",
    "dista11 = np.linalg.norm(xwmy11-xwmynuevo)\n",
    "dista12 = np.linalg.norm(xwmy12-xwmynuevo)\n",
    "dista13 = np.linalg.norm(xwmy13-xwmynuevo)\n",
    "dista14 = np.linalg.norm(xwmy14-xwmynuevo)\n",
    "dista15 = np.linalg.norm(xwmy15-xwmynuevo)\n",
    "dista16 = np.linalg.norm(xwmy16-xwmynuevo)\n",
    "dista17 = np.linalg.norm(xwmy17-xwmynuevo)\n",
    "dista18 = np.linalg.norm(xwmy18-xwmynuevo)\n",
    "dista19 = np.linalg.norm(xwmy19-xwmynuevo)\n",
    "dista20 = np.linalg.norm(xwmy20-xwmynuevo)\n",
    "dista21 = np.linalg.norm(xwmy21-xwmynuevo)\n",
    "dista22 = np.linalg.norm(xwmy22-xwmynuevo)\n",
    "dista23 = np.linalg.norm(xwmy23-xwmynuevo)\n",
    "dista24 = np.linalg.norm(xwmy24-xwmynuevo)\n",
    "dista25 = np.linalg.norm(xwmy25-xwmynuevo)\n",
    "dista26 = np.linalg.norm(xwmy26-xwmynuevo)\n",
    "dista27 = np.linalg.norm(xwmy27-xwmynuevo)\n",
    "dista28 = np.linalg.norm(xwmy28-xwmynuevo)\n",
    "dista29 = np.linalg.norm(xwmy29-xwmynuevo)\n",
    "dista30 = np.linalg.norm(xwmy30-xwmynuevo)\n",
    "dista31 = np.linalg.norm(xwmy31-xwmynuevo)\n",
    "dista32 = np.linalg.norm(xwmy32-xwmynuevo)\n",
    "dista33 = np.linalg.norm(xwmy33-xwmynuevo)\n",
    "dista34 = np.linalg.norm(xwmy34-xwmynuevo)\n",
    "dista35 = np.linalg.norm(xwmy35-xwmynuevo)\n",
    "dista36 = np.linalg.norm(xwmy36-xwmynuevo)\n",
    "dista37 = np.linalg.norm(xwmy37-xwmynuevo)\n",
    "dista38 = np.linalg.norm(xwmy38-xwmynuevo)\n",
    "dista39 = np.linalg.norm(xwmy39-xwmynuevo)\n",
    "dista40 = np.linalg.norm(xwmy40-xwmynuevo)\n",
    "dista41 = np.linalg.norm(xwmy41-xwmynuevo)\n",
    "dista42 = np.linalg.norm(xwmy42-xwmynuevo)\n",
    "dista43 = np.linalg.norm(xwmy43-xwmynuevo)\n",
    "dista44 = np.linalg.norm(xwmy44-xwmynuevo)\n",
    "dista45 = np.linalg.norm(xwmy45-xwmynuevo)\n",
    "dista46 = np.linalg.norm(xwmy46-xwmynuevo)\n",
    "dista47 = np.linalg.norm(xwmy47-xwmynuevo)\n",
    "dista48 = np.linalg.norm(xwmy48-xwmynuevo)\n",
    "dista49 = np.linalg.norm(xwmy49-xwmynuevo)\n",
    "dista50 = np.linalg.norm(xwmy50-xwmynuevo)\n",
    "dista51 = np.linalg.norm(xwmy51-xwmynuevo)\n",
    "dista52 = np.linalg.norm(xwmy52-xwmynuevo)\n",
    "dista53 = np.linalg.norm(xwmy53-xwmynuevo)\n",
    "dista54 = np.linalg.norm(xwmy54-xwmynuevo)\n",
    "dista55 = np.linalg.norm(xwmy55-xwmynuevo)\n",
    "dista56 = np.linalg.norm(xwmy56-xwmynuevo)\n",
    "dista57 = np.linalg.norm(xwmy57-xwmynuevo)\n",
    "dista58 = np.linalg.norm(xwmy58-xwmynuevo)\n",
    "dista59 = np.linalg.norm(xwmy59-xwmynuevo)\n",
    "dista60 = np.linalg.norm(xwmy60-xwmynuevo)\n",
    "dista61 = np.linalg.norm(xwmy61-xwmynuevo)\n",
    "dista62 = np.linalg.norm(xwmy62-xwmynuevo)\n",
    "dista63 = np.linalg.norm(xwmy63-xwmynuevo)\n",
    "dista64 = np.linalg.norm(xwmy64-xwmynuevo)\n",
    "dista65 = np.linalg.norm(xwmy65-xwmynuevo)\n",
    "dista66 = np.linalg.norm(xwmy66-xwmynuevo)\n",
    "dista67 = np.linalg.norm(xwmy67-xwmynuevo)\n",
    "dista68 = np.linalg.norm(xwmy68-xwmynuevo)\n",
    "dista69 = np.linalg.norm(xwmy69-xwmynuevo)\n",
    "dista70 = np.linalg.norm(xwmy70-xwmynuevo)\n",
    "dista71 = np.linalg.norm(xwmy71-xwmynuevo)\n",
    "dista72 = np.linalg.norm(xwmy72-xwmynuevo)\n",
    "dista73 = np.linalg.norm(xwmy73-xwmynuevo)\n",
    "dista74 = np.linalg.norm(xwmy74-xwmynuevo)\n",
    "dista75 = np.linalg.norm(xwmy75-xwmynuevo)\n",
    "dista76 = np.linalg.norm(xwmy76-xwmynuevo)\n",
    "dista77 = np.linalg.norm(xwmy77-xwmynuevo)\n",
    "dista78 = np.linalg.norm(xwmy78-xwmynuevo)\n",
    "dista79 = np.linalg.norm(xwmy79-xwmynuevo)\n",
    "dista80 = np.linalg.norm(xwmy80-xwmynuevo)\n",
    "dista81 = np.linalg.norm(xwmy81-xwmynuevo)\n",
    "dista82 = np.linalg.norm(xwmy82-xwmynuevo)\n",
    "dista83 = np.linalg.norm(xwmy83-xwmynuevo)\n",
    "dista84 = np.linalg.norm(xwmy84-xwmynuevo)\n",
    "dista85 = np.linalg.norm(xwmy85-xwmynuevo)\n",
    "dista86 = np.linalg.norm(xwmy86-xwmynuevo)\n",
    "dista87 = np.linalg.norm(xwmy87-xwmynuevo)\n",
    "dista88 = np.linalg.norm(xwmy88-xwmynuevo)\n",
    "dista89 = np.linalg.norm(xwmy89-xwmynuevo)\n",
    "dista90 = np.linalg.norm(xwmy90-xwmynuevo)\n",
    "dista91 = np.linalg.norm(xwmy91-xwmynuevo)\n",
    "dista92 = np.linalg.norm(xwmy92-xwmynuevo)\n",
    "dista93 = np.linalg.norm(xwmy93-xwmynuevo)\n",
    "dista94 = np.linalg.norm(xwmy94-xwmynuevo)\n",
    "dista95 = np.linalg.norm(xwmy95-xwmynuevo)\n",
    "dista96 = np.linalg.norm(xwmy96-xwmynuevo)\n",
    "dista97 = np.linalg.norm(xwmy97-xwmynuevo)\n",
    "dista98 = np.linalg.norm(xwmy98-xwmynuevo)\n",
    "dista99 = np.linalg.norm(xwmy99-xwmynuevo)\n",
    "dista100 = np.linalg.norm(xwmy100-xwmynuevo)\n",
    "dista101 = np.linalg.norm(xwmy101-xwmynuevo)\n",
    "dista102 = np.linalg.norm(xwmy102-xwmynuevo)\n",
    "dista103 = np.linalg.norm(xwmy103-xwmynuevo)\n",
    "dista104 = np.linalg.norm(xwmy104-xwmynuevo)\n",
    "dista105 = np.linalg.norm(xwmy105-xwmynuevo)\n",
    "dista106 = np.linalg.norm(xwmy106-xwmynuevo)\n",
    "dista107 = np.linalg.norm(xwmy107-xwmynuevo)\n",
    "dista108 = np.linalg.norm(xwmy108-xwmynuevo)\n",
    "dista109 = np.linalg.norm(xwmy109-xwmynuevo)\n",
    "dista110 = np.linalg.norm(xwmy110-xwmynuevo)\n",
    "dista111 = np.linalg.norm(xwmy111-xwmynuevo)\n",
    "dista112 = np.linalg.norm(xwmy112-xwmynuevo)\n",
    "dista113 = np.linalg.norm(xwmy113-xwmynuevo)\n",
    "dista114 = np.linalg.norm(xwmy114-xwmynuevo)\n",
    "dista115 = np.linalg.norm(xwmy115-xwmynuevo)\n",
    "dista116 = np.linalg.norm(xwmy116-xwmynuevo)\n",
    "dista117 = np.linalg.norm(xwmy117-xwmynuevo)\n",
    "dista118 = np.linalg.norm(xwmy118-xwmynuevo)\n",
    "dista119 = np.linalg.norm(xwmy119-xwmynuevo)\n",
    "dista120 = np.linalg.norm(xwmy120-xwmynuevo)\n",
    "dista121 = np.linalg.norm(xwmy121-xwmynuevo)\n",
    "dista122 = np.linalg.norm(xwmy122-xwmynuevo)\n",
    "dista123 = np.linalg.norm(xwmy123-xwmynuevo)\n",
    "dista124 = np.linalg.norm(xwmy124-xwmynuevo)\n",
    "dista125 = np.linalg.norm(xwmy125-xwmynuevo)\n",
    "dista126 = np.linalg.norm(xwmy126-xwmynuevo)\n",
    "dista127 = np.linalg.norm(xwmy127-xwmynuevo)\n",
    "dista128 = np.linalg.norm(xwmy128-xwmynuevo)\n",
    "dista129 = np.linalg.norm(xwmy129-xwmynuevo)\n",
    "dista130 = np.linalg.norm(xwmy130-xwmynuevo)\n",
    "dista131 = np.linalg.norm(xwmy131-xwmynuevo)\n",
    "dista132 = np.linalg.norm(xwmy132-xwmynuevo)\n",
    "dista133 = np.linalg.norm(xwmy133-xwmynuevo)\n",
    "dista134 = np.linalg.norm(xwmy134-xwmynuevo)\n",
    "dista135 = np.linalg.norm(xwmy135-xwmynuevo)\n",
    "dista136 = np.linalg.norm(xwmy136-xwmynuevo)\n",
    "dista137 = np.linalg.norm(xwmy137-xwmynuevo)\n",
    "dista138 = np.linalg.norm(xwmy138-xwmynuevo)\n",
    "dista139 = np.linalg.norm(xwmy139-xwmynuevo)\n",
    "dista140 = np.linalg.norm(xwmy140-xwmynuevo)\n",
    "dista141 = np.linalg.norm(xwmy141-xwmynuevo)\n",
    "dista142 = np.linalg.norm(xwmy142-xwmynuevo)\n",
    "dista143 = np.linalg.norm(xwmy143-xwmynuevo)\n",
    "dista144 = np.linalg.norm(xwmy144-xwmynuevo)\n",
    "dista145 = np.linalg.norm(xwmy145-xwmynuevo)\n",
    "dista146 = np.linalg.norm(xwmy146-xwmynuevo)\n",
    "dista147 = np.linalg.norm(xwmy147-xwmynuevo)\n",
    "dista148 = np.linalg.norm(xwmy148-xwmynuevo)\n",
    "dista149 = np.linalg.norm(xwmy149-xwmynuevo)\n",
    "dista150 = np.linalg.norm(xwmy150-xwmynuevo)\n",
    "dista151 = np.linalg.norm(xwmy151-xwmynuevo)\n",
    "dista152 = np.linalg.norm(xwmy152-xwmynuevo)\n",
    "dista153 = np.linalg.norm(xwmy153-xwmynuevo)\n",
    "dista154 = np.linalg.norm(xwmy154-xwmynuevo)\n",
    "dista155 = np.linalg.norm(xwmy155-xwmynuevo)\n",
    "dista156 = np.linalg.norm(xwmy156-xwmynuevo)\n",
    "dista157 = np.linalg.norm(xwmy157-xwmynuevo)\n",
    "dista158 = np.linalg.norm(xwmy158-xwmynuevo)\n"
   ]
  },
  {
   "cell_type": "code",
   "execution_count": null,
   "metadata": {},
   "outputs": [],
   "source": [
    "vec1 = np.array ([dist1,dist2,dist3,dist4,dist5,dist6,dist7,dist8,dist9,dist10,dist11,dist12,dist13,dist14,dist15,dist16,dist17,dist18,dist19,dist20,dist21,dist22,dist23,dist24,dist25,dist26,dist27,dist28,dist29,dist30,dist31,dist32,dist33,dist34,dist35,dist36,dist37,dist38,dist39,dist40,dist41,dist42,dist43,dist44,dist45,dist46,dist47,dist48,dist49,dist50,dist51,dist52,dist53,dist54,dist55,dist56,dist57,dist58,dist59,dist60,dist61,dist62,dist63,dist64,dist65,dist66,dist67,dist68,dist69,dist70,dist71,dist72,dist73,dist74,dist75,dist76,dist77,dist78,dist79,dist80,dist81,dist82,dist83,dist84,dist85,dist86,dist87,dist88,dist89,dist90,dist91,dist92,dist93,dist94,dist95,dist96,dist97,dist98,dist99,dist100,dist101,dist102,dist103,dist104,dist105,dist106,dist107,dist108,dist109,dist110,dist111,dist112,dist113,dist114,dist115,dist116,dist117,dist118,dist119,dist120,dist121,dist122,dist123,dist124,dist125,dist126,dist127,dist128,dist129,dist130,dist131,dist132,dist133,dist134,dist135,dist136,dist137,dist138,dist139,dist140,dist141,dist142,dist143,dist144,dist145,dist146,dist147,dist148,dist149,dist150,dist151,dist152,dist153,dist154,dist155,dist156,dist157,dist158])"
   ]
  },
  {
   "cell_type": "code",
   "execution_count": null,
   "metadata": {},
   "outputs": [],
   "source": [
    "vec2 = np.array ([dista1,dista2,dista3,dista4,dista5,dista6,dista7,dista8,dista9,dista10,dista11,dista12,dista13,dista14,dista15,dista16,dista17,dista18,dista19,dista20,dista21,dista22,dista23,dista24,dista25,dista26,dista27,dista28,dista29,dista30,dista31,dista32,dista33,dista34,dista35,dista36,dista37,dista38,dista39,dista40,dista41,dista42,dista43,dista44,dista45,dista46,dista47,dista48,dista49,dista50,dista51,dista52,dista53,dista54,dista55,dista56,dista57,dista58,dista59,dista60,dista61,dista62,dista63,dista64,dista65,dista66,dista67,dista68,dista69,dista70,dista71,dista72,dista73,dista74,dista75,dista76,dista77,dista78,dista79,dista80,dista81,dista82,dista83,dista84,dista85,dista86,dista87,dista88,dista89,dista90,dista91,dista92,dista93,dista94,dista95,dista96,dista97,dista98,dista99,dista100,dista101,dista102,dista103,dista104,dista105,dista106,dista107,dista108,dista109,dista110,dista111,dista112,dista113,dista114,dista115,dista116,dista117,dista118,dista119,dista120,dista121,dista122,dista123,dista124,dista125,dista126,dista127,dista128,dista129,dista130,dista131,dista132,dista133,dista134,dista135,dista136,dista137,dista138,dista139,dista140,dista141,dista142,dista143,dista144,dista145,dista146,dista147,dista148,dista149,dista150,dista151,dista152,dista153,dista154,dista155,dista156,dista157,dista158])"
   ]
  },
  {
   "cell_type": "code",
   "execution_count": null,
   "metadata": {},
   "outputs": [],
   "source": [
    "print (vec1)\n"
   ]
  },
  {
   "cell_type": "code",
   "execution_count": null,
   "metadata": {},
   "outputs": [],
   "source": [
    "print (vec2)"
   ]
  },
  {
   "cell_type": "code",
   "execution_count": null,
   "metadata": {},
   "outputs": [],
   "source": [
    "distmin1 = vec1.min(axis=0)\n",
    "print (distmin1)"
   ]
  },
  {
   "cell_type": "code",
   "execution_count": null,
   "metadata": {},
   "outputs": [],
   "source": [
    "pos1 = vec1.argmin()\n",
    "print (pos1)"
   ]
  },
  {
   "cell_type": "code",
   "execution_count": null,
   "metadata": {},
   "outputs": [],
   "source": [
    "distmin2 = vec2.min(axis=0)\n",
    "print (distmin2)"
   ]
  },
  {
   "cell_type": "code",
   "execution_count": null,
   "metadata": {},
   "outputs": [],
   "source": [
    "pos2 = vec2.argmin()\n",
    "print (pos2)"
   ]
  },
  {
   "cell_type": "code",
   "execution_count": null,
   "metadata": {},
   "outputs": [],
   "source": [
    "if pos1 <= 31 :\n",
    "     print (\"la canción NO es de DANSU\")\n",
    "else :\n",
    "    print (\"la canción es de DANSU\")"
   ]
  },
  {
   "cell_type": "code",
   "execution_count": null,
   "metadata": {},
   "outputs": [],
   "source": [
    "if pos2 <= 31 :\n",
    "     print (\"la canción NO es de DANSU\")\n",
    "else :\n",
    "    print (\"la canción es de DANSU\")"
   ]
  },
  {
   "cell_type": "code",
   "execution_count": null,
   "metadata": {},
   "outputs": [],
   "source": [
    "if (pos1 <= 31 and pos2 <= 31) :\n",
    "     print (\"la canción NO es de DANSU\")\n",
    "elif (pos1 <= 50 and pos2 <= 50) :\n",
    "    print (\"la canción es de DANSU y la detectamos como All you got\")\n",
    "elif (pos1 <= 68 and pos2 <= 68) :\n",
    "    print (\"la canción es de DANSU y la detectamos como Do do do\")\n",
    "elif (pos1 <= 85 and pos2 <= 85) :\n",
    "    print (\"la canción es de DANSU y la detectamos como Don't you give up\")\n",
    "elif (pos1 <= 101 and pos2 <= 101) :\n",
    "    print (\"la canción es de DANSU y la detectamos como Lost in the city\")\n",
    "elif (pos1 <= 119 and pos2 <= 119) :\n",
    "    print (\"la canción es de DANSU y la detectamos como Love is ours\")\n",
    "elif (pos1 <= 136 and pos2 <= 136):\n",
    "    print (\"la canción es de DANSU y la detectamos como Run\")\n",
    "elif (pos1 <= 157 and pos2 <= 157) :\n",
    "    print (\"la canción es de DANSU y la detectamos como Realize\")"
   ]
  },
  {
   "cell_type": "code",
   "execution_count": null,
   "metadata": {},
   "outputs": [],
   "source": []
  },
  {
   "cell_type": "code",
   "execution_count": null,
   "metadata": {},
   "outputs": [],
   "source": []
  }
 ],
 "metadata": {
  "kernelspec": {
   "display_name": "Python 3",
   "language": "python",
   "name": "python3"
  },
  "language_info": {
   "codemirror_mode": {
    "name": "ipython",
    "version": 3
   },
   "file_extension": ".py",
   "mimetype": "text/x-python",
   "name": "python",
   "nbconvert_exporter": "python",
   "pygments_lexer": "ipython3",
   "version": "3.7.3"
  }
 },
 "nbformat": 4,
 "nbformat_minor": 2
}
